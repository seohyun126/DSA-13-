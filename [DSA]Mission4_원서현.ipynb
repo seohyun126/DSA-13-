{
 "cells": [
  {
   "cell_type": "markdown",
   "id": "8a877f02-822b-4349-aabd-7d2d0385fc5c",
   "metadata": {},
   "source": [
    "06_store_member.csv 파일을, df_member로, 06_store_product.csv를 df_product로 선언\n",
    "하여 아래의 문제를 해결해보세요.\n",
    "## 1\n",
    "#### **df_product데이터의 구조와 타입을 확인**\n"
   ]
  },
  {
   "cell_type": "code",
   "execution_count": 94,
   "id": "4e8dfef4-476b-462c-9d27-5c34ab23eacc",
   "metadata": {},
   "outputs": [],
   "source": [
    "import pandas as pd\n",
    "df_member=pd.read_csv(\"C:/Users/sshyu/OneDrive/바탕 화면/DSA_13기/06_store_member.csv\")\n",
    "df_product=pd.read_csv(\"C:/Users/sshyu/OneDrive/바탕 화면/DSA_13기/06_store_product.csv\")"
   ]
  },
  {
   "cell_type": "code",
   "execution_count": 2,
   "id": "c7ec95d2-560f-4bf7-be9e-88ba93940c75",
   "metadata": {},
   "outputs": [
    {
     "data": {
      "text/html": [
       "<div>\n",
       "<style scoped>\n",
       "    .dataframe tbody tr th:only-of-type {\n",
       "        vertical-align: middle;\n",
       "    }\n",
       "\n",
       "    .dataframe tbody tr th {\n",
       "        vertical-align: top;\n",
       "    }\n",
       "\n",
       "    .dataframe thead th {\n",
       "        text-align: right;\n",
       "    }\n",
       "</style>\n",
       "<table border=\"1\" class=\"dataframe\">\n",
       "  <thead>\n",
       "    <tr style=\"text-align: right;\">\n",
       "      <th></th>\n",
       "      <th>회원번호</th>\n",
       "      <th>회원상태</th>\n",
       "      <th>성별</th>\n",
       "      <th>결혼유무</th>\n",
       "      <th>주소</th>\n",
       "      <th>생년</th>\n",
       "      <th>연령</th>\n",
       "    </tr>\n",
       "  </thead>\n",
       "  <tbody>\n",
       "    <tr>\n",
       "      <th>0</th>\n",
       "      <td>2101</td>\n",
       "      <td>정상회원</td>\n",
       "      <td>여</td>\n",
       "      <td>기혼</td>\n",
       "      <td>서울 강북구 미아동 134-</td>\n",
       "      <td>1967</td>\n",
       "      <td>51</td>\n",
       "    </tr>\n",
       "    <tr>\n",
       "      <th>1</th>\n",
       "      <td>2102</td>\n",
       "      <td>정상회원</td>\n",
       "      <td>여</td>\n",
       "      <td>NaN</td>\n",
       "      <td>경기 용인시 수지구 동천동</td>\n",
       "      <td>1947</td>\n",
       "      <td>71</td>\n",
       "    </tr>\n",
       "    <tr>\n",
       "      <th>2</th>\n",
       "      <td>2103</td>\n",
       "      <td>정상회원</td>\n",
       "      <td>여</td>\n",
       "      <td>기혼</td>\n",
       "      <td>경기 용인시 수지구 동천동</td>\n",
       "      <td>1972</td>\n",
       "      <td>46</td>\n",
       "    </tr>\n",
       "    <tr>\n",
       "      <th>3</th>\n",
       "      <td>2104</td>\n",
       "      <td>정상회원</td>\n",
       "      <td>여</td>\n",
       "      <td>NaN</td>\n",
       "      <td>경기 용인시 수지구 성복동</td>\n",
       "      <td>1969</td>\n",
       "      <td>49</td>\n",
       "    </tr>\n",
       "    <tr>\n",
       "      <th>4</th>\n",
       "      <td>2105</td>\n",
       "      <td>정상회원</td>\n",
       "      <td>여</td>\n",
       "      <td>기혼</td>\n",
       "      <td>경기 용인시 수지구 동천동</td>\n",
       "      <td>1948</td>\n",
       "      <td>70</td>\n",
       "    </tr>\n",
       "  </tbody>\n",
       "</table>\n",
       "</div>"
      ],
      "text/plain": [
       "   회원번호  회원상태 성별 결혼유무               주소    생년  연령\n",
       "0  2101  정상회원  여   기혼  서울 강북구 미아동 134-  1967  51\n",
       "1  2102  정상회원  여  NaN   경기 용인시 수지구 동천동  1947  71\n",
       "2  2103  정상회원  여   기혼   경기 용인시 수지구 동천동  1972  46\n",
       "3  2104  정상회원  여  NaN   경기 용인시 수지구 성복동  1969  49\n",
       "4  2105  정상회원  여   기혼   경기 용인시 수지구 동천동  1948  70"
      ]
     },
     "execution_count": 2,
     "metadata": {},
     "output_type": "execute_result"
    }
   ],
   "source": [
    "df_member.head()"
   ]
  },
  {
   "cell_type": "code",
   "execution_count": 3,
   "id": "4f7cc33f-ea5d-4240-a966-bc721966fc1f",
   "metadata": {},
   "outputs": [
    {
     "data": {
      "text/html": [
       "<div>\n",
       "<style scoped>\n",
       "    .dataframe tbody tr th:only-of-type {\n",
       "        vertical-align: middle;\n",
       "    }\n",
       "\n",
       "    .dataframe tbody tr th {\n",
       "        vertical-align: top;\n",
       "    }\n",
       "\n",
       "    .dataframe thead th {\n",
       "        text-align: right;\n",
       "    }\n",
       "</style>\n",
       "<table border=\"1\" class=\"dataframe\">\n",
       "  <thead>\n",
       "    <tr style=\"text-align: right;\">\n",
       "      <th></th>\n",
       "      <th>공급일자</th>\n",
       "      <th>물품코드</th>\n",
       "      <th>물품대분류</th>\n",
       "      <th>물품중분류</th>\n",
       "      <th>물품소분류</th>\n",
       "      <th>물품명</th>\n",
       "      <th>구매수량</th>\n",
       "      <th>구매금액</th>\n",
       "      <th>구매매장</th>\n",
       "      <th>반품_원거래일자</th>\n",
       "      <th>회원번호</th>\n",
       "    </tr>\n",
       "  </thead>\n",
       "  <tbody>\n",
       "    <tr>\n",
       "      <th>0</th>\n",
       "      <td>20170201</td>\n",
       "      <td>50142001</td>\n",
       "      <td>채소</td>\n",
       "      <td>잎/줄기채소</td>\n",
       "      <td>시금치</td>\n",
       "      <td>시금치(300g)</td>\n",
       "      <td>1.0</td>\n",
       "      <td>2000</td>\n",
       "      <td>매장3</td>\n",
       "      <td>NaN</td>\n",
       "      <td>2101.0</td>\n",
       "    </tr>\n",
       "    <tr>\n",
       "      <th>1</th>\n",
       "      <td>20170201</td>\n",
       "      <td>60302012</td>\n",
       "      <td>축산물</td>\n",
       "      <td>육가공</td>\n",
       "      <td>돈가스/분쇄가공</td>\n",
       "      <td>튀김옷돈가스(400g)</td>\n",
       "      <td>1.0</td>\n",
       "      <td>6300</td>\n",
       "      <td>매장3</td>\n",
       "      <td>NaN</td>\n",
       "      <td>2101.0</td>\n",
       "    </tr>\n",
       "    <tr>\n",
       "      <th>2</th>\n",
       "      <td>20170201</td>\n",
       "      <td>80301002</td>\n",
       "      <td>간식</td>\n",
       "      <td>밀가공</td>\n",
       "      <td>라면</td>\n",
       "      <td>감자라면(110g:1봉)</td>\n",
       "      <td>2.0</td>\n",
       "      <td>2600</td>\n",
       "      <td>매장3</td>\n",
       "      <td>NaN</td>\n",
       "      <td>2101.0</td>\n",
       "    </tr>\n",
       "    <tr>\n",
       "      <th>3</th>\n",
       "      <td>20170201</td>\n",
       "      <td>80301010</td>\n",
       "      <td>간식</td>\n",
       "      <td>밀가공</td>\n",
       "      <td>라면</td>\n",
       "      <td>사리면(100g)</td>\n",
       "      <td>1.0</td>\n",
       "      <td>900</td>\n",
       "      <td>매장3</td>\n",
       "      <td>NaN</td>\n",
       "      <td>2101.0</td>\n",
       "    </tr>\n",
       "    <tr>\n",
       "      <th>4</th>\n",
       "      <td>20170201</td>\n",
       "      <td>80305003</td>\n",
       "      <td>간식</td>\n",
       "      <td>밀가공</td>\n",
       "      <td>만두</td>\n",
       "      <td>고기만두(500g)</td>\n",
       "      <td>1.0</td>\n",
       "      <td>5400</td>\n",
       "      <td>매장3</td>\n",
       "      <td>NaN</td>\n",
       "      <td>2101.0</td>\n",
       "    </tr>\n",
       "  </tbody>\n",
       "</table>\n",
       "</div>"
      ],
      "text/plain": [
       "       공급일자      물품코드 물품대분류   물품중분류     물품소분류            물품명  구매수량  구매금액 구매매장  \\\n",
       "0  20170201  50142001    채소  잎/줄기채소       시금치      시금치(300g)   1.0  2000  매장3   \n",
       "1  20170201  60302012   축산물     육가공  돈가스/분쇄가공   튀김옷돈가스(400g)   1.0  6300  매장3   \n",
       "2  20170201  80301002    간식     밀가공        라면  감자라면(110g:1봉)   2.0  2600  매장3   \n",
       "3  20170201  80301010    간식     밀가공        라면      사리면(100g)   1.0   900  매장3   \n",
       "4  20170201  80305003    간식     밀가공        만두     고기만두(500g)   1.0  5400  매장3   \n",
       "\n",
       "   반품_원거래일자    회원번호  \n",
       "0       NaN  2101.0  \n",
       "1       NaN  2101.0  \n",
       "2       NaN  2101.0  \n",
       "3       NaN  2101.0  \n",
       "4       NaN  2101.0  "
      ]
     },
     "execution_count": 3,
     "metadata": {},
     "output_type": "execute_result"
    }
   ],
   "source": [
    "df_product.head()"
   ]
  },
  {
   "cell_type": "code",
   "execution_count": 6,
   "id": "2ab7d9ed-2b6e-4561-b93c-a2bfde869e46",
   "metadata": {},
   "outputs": [
    {
     "name": "stdout",
     "output_type": "stream",
     "text": [
      "데이터의 구조: (735783, 11)\n",
      "<class 'pandas.core.frame.DataFrame'>\n",
      "RangeIndex: 735783 entries, 0 to 735782\n",
      "Data columns (total 11 columns):\n",
      " #   Column    Non-Null Count   Dtype  \n",
      "---  ------    --------------   -----  \n",
      " 0   공급일자      735783 non-null  int64  \n",
      " 1   물품코드      735783 non-null  int64  \n",
      " 2   물품대분류     735783 non-null  object \n",
      " 3   물품중분류     735783 non-null  object \n",
      " 4   물품소분류     735783 non-null  object \n",
      " 5   물품명       735783 non-null  object \n",
      " 6   구매수량      735783 non-null  float64\n",
      " 7   구매금액      735783 non-null  int64  \n",
      " 8   구매매장      735783 non-null  object \n",
      " 9   반품_원거래일자  10337 non-null   float64\n",
      " 10  회원번호      735761 non-null  float64\n",
      "dtypes: float64(3), int64(3), object(5)\n",
      "memory usage: 61.7+ MB\n"
     ]
    }
   ],
   "source": [
    "print('데이터의 구조:',df_product.shape)\n",
    "df_product.info()"
   ]
  },
  {
   "cell_type": "markdown",
   "id": "7f18e112-fccd-4111-8357-453373ae4921",
   "metadata": {},
   "source": [
    "## 2. \n",
    "#### **df_product데이터의'물품대분류' 중 가장 많이 판매되는(수량)3가지 항목을 확인**"
   ]
  },
  {
   "cell_type": "code",
   "execution_count": 10,
   "id": "a5a1f81f-c0d6-4126-9863-e6f3f616ee08",
   "metadata": {},
   "outputs": [
    {
     "data": {
      "text/plain": [
       "물품대분류\n",
       "채소     193170\n",
       "축산물    134486\n",
       "간식     111411\n",
       "Name: count, dtype: int64"
      ]
     },
     "execution_count": 10,
     "metadata": {},
     "output_type": "execute_result"
    }
   ],
   "source": [
    "df_product['물품대분류'].value_counts(ascending=False)[:3]"
   ]
  },
  {
   "cell_type": "code",
   "execution_count": 24,
   "id": "fbb949b8-359b-446e-8326-7175c2b51033",
   "metadata": {},
   "outputs": [
    {
     "data": {
      "text/plain": [
       "Index(['채소', '축산물', '간식'], dtype='object', name='물품대분류')"
      ]
     },
     "execution_count": 24,
     "metadata": {},
     "output_type": "execute_result"
    }
   ],
   "source": [
    "df_product['물품대분류'].value_counts(ascending=False)[:3].index"
   ]
  },
  {
   "cell_type": "markdown",
   "id": "fe97281f-3280-4c16-907e-84246fd07643",
   "metadata": {},
   "source": [
    "## 3. \n",
    "#### **앞서 확인한 3가지 항목을 추출하여, df_product_top이라는 변수로 선언하고,df_product_top에서 '구매매장'별 '구매금액'의 합과 평균을 계산**"
   ]
  },
  {
   "cell_type": "code",
   "execution_count": 27,
   "id": "4256578f-3fa6-47e1-94b2-8bb8c0b4efa9",
   "metadata": {},
   "outputs": [],
   "source": [
    "top3_pd=df_product['물품대분류'].value_counts(ascending=False)[:3].index\n",
    "# 이때 리스트 값을 | 연산자로 변환\n",
    "df_product_top=df_product[df_product['물품대분류'].str.contains('|'.join(top3_pd))]"
   ]
  },
  {
   "cell_type": "code",
   "execution_count": 29,
   "id": "ded83c3f-c713-48b7-8e45-5bfb0ce257dc",
   "metadata": {},
   "outputs": [
    {
     "data": {
      "text/plain": [
       "물품대분류\n",
       "채소     193170\n",
       "축산물    134486\n",
       "간식     111411\n",
       "Name: count, dtype: int64"
      ]
     },
     "execution_count": 29,
     "metadata": {},
     "output_type": "execute_result"
    }
   ],
   "source": [
    "df_product_top['물품대분류'].value_counts()"
   ]
  },
  {
   "cell_type": "code",
   "execution_count": 32,
   "id": "461ded09-f4f6-4c68-8b7a-e0fbe16323c6",
   "metadata": {},
   "outputs": [
    {
     "data": {
      "text/html": [
       "<div>\n",
       "<style scoped>\n",
       "    .dataframe tbody tr th:only-of-type {\n",
       "        vertical-align: middle;\n",
       "    }\n",
       "\n",
       "    .dataframe tbody tr th {\n",
       "        vertical-align: top;\n",
       "    }\n",
       "\n",
       "    .dataframe thead th {\n",
       "        text-align: right;\n",
       "    }\n",
       "</style>\n",
       "<table border=\"1\" class=\"dataframe\">\n",
       "  <thead>\n",
       "    <tr style=\"text-align: right;\">\n",
       "      <th></th>\n",
       "      <th>sum</th>\n",
       "      <th>mean</th>\n",
       "    </tr>\n",
       "    <tr>\n",
       "      <th>구매매장</th>\n",
       "      <th></th>\n",
       "      <th></th>\n",
       "    </tr>\n",
       "  </thead>\n",
       "  <tbody>\n",
       "    <tr>\n",
       "      <th>매장1</th>\n",
       "      <td>363985400</td>\n",
       "      <td>4770.638426</td>\n",
       "    </tr>\n",
       "    <tr>\n",
       "      <th>매장2</th>\n",
       "      <td>461745602</td>\n",
       "      <td>4908.271082</td>\n",
       "    </tr>\n",
       "    <tr>\n",
       "      <th>매장3</th>\n",
       "      <td>916748142</td>\n",
       "      <td>4949.910326</td>\n",
       "    </tr>\n",
       "    <tr>\n",
       "      <th>매장4</th>\n",
       "      <td>419048570</td>\n",
       "      <td>5019.146844</td>\n",
       "    </tr>\n",
       "  </tbody>\n",
       "</table>\n",
       "</div>"
      ],
      "text/plain": [
       "            sum         mean\n",
       "구매매장                        \n",
       "매장1   363985400  4770.638426\n",
       "매장2   461745602  4908.271082\n",
       "매장3   916748142  4949.910326\n",
       "매장4   419048570  5019.146844"
      ]
     },
     "execution_count": 32,
     "metadata": {},
     "output_type": "execute_result"
    }
   ],
   "source": [
    "df_product_top.groupby('구매매장')['구매금액'].agg(['sum','mean'])"
   ]
  },
  {
   "cell_type": "markdown",
   "id": "9dba0894-f96c-444f-afaa-0bacec38ec97",
   "metadata": {},
   "source": [
    "## 4. \n",
    "#### **'공급일자'데이터를 날짜형식으로 변환하여, '연도' / '월' / '요일' 항목을 새로운 파생변수로 생성 ( pd.to_datetime( ~ , format=\"%Y%m%d\") )**"
   ]
  },
  {
   "cell_type": "code",
   "execution_count": 35,
   "id": "2fa65cb8-8b25-40d0-8c60-0f2595686ecb",
   "metadata": {},
   "outputs": [
    {
     "data": {
      "text/plain": [
       "0   2017-02-01\n",
       "1   2017-02-01\n",
       "2   2017-02-01\n",
       "3   2017-02-01\n",
       "4   2017-02-01\n",
       "Name: 공급일자, dtype: datetime64[ns]"
      ]
     },
     "execution_count": 35,
     "metadata": {},
     "output_type": "execute_result"
    }
   ],
   "source": [
    "df_product['공급일자']=pd.to_datetime(df_product['공급일자'],format=\"%Y%m%d\")\n",
    "df_product['공급일자'].head()"
   ]
  },
  {
   "cell_type": "code",
   "execution_count": 56,
   "id": "cc8f1cbb-635c-40dc-900b-0564dade3266",
   "metadata": {},
   "outputs": [
    {
     "data": {
      "text/plain": [
       "0         2\n",
       "1         2\n",
       "2         2\n",
       "3         2\n",
       "4         2\n",
       "         ..\n",
       "735778    4\n",
       "735779    4\n",
       "735780    4\n",
       "735781    4\n",
       "735782    4\n",
       "Name: 공급일자, Length: 735783, dtype: int32"
      ]
     },
     "execution_count": 56,
     "metadata": {},
     "output_type": "execute_result"
    }
   ],
   "source": [
    "df_product['공급일자'].dt.weekday"
   ]
  },
  {
   "cell_type": "code",
   "execution_count": 65,
   "id": "f320a3b5-8089-46fb-9772-71163d1a7204",
   "metadata": {},
   "outputs": [],
   "source": [
    "import datetime\n",
    "df_product['공급연도']=df_product['공급일자'].dt.strftime('%Y')\n",
    "df_product['공급월']=df_product['공급일자'].dt.strftime('%m')\n",
    "weeklist=['월','화','수','목','금','토','일']\n",
    "df_product['공급요일']=df_product['공급일자'].dt.weekday\n",
    "df_product['공급요일'] = df_product['공급요일'].apply(lambda x: weeklist[x])"
   ]
  },
  {
   "cell_type": "code",
   "execution_count": 49,
   "id": "29dac9cc-d92d-4d95-bbe5-076c3cb799f7",
   "metadata": {},
   "outputs": [
    {
     "data": {
      "text/html": [
       "<div>\n",
       "<style scoped>\n",
       "    .dataframe tbody tr th:only-of-type {\n",
       "        vertical-align: middle;\n",
       "    }\n",
       "\n",
       "    .dataframe tbody tr th {\n",
       "        vertical-align: top;\n",
       "    }\n",
       "\n",
       "    .dataframe thead th {\n",
       "        text-align: right;\n",
       "    }\n",
       "</style>\n",
       "<table border=\"1\" class=\"dataframe\">\n",
       "  <thead>\n",
       "    <tr style=\"text-align: right;\">\n",
       "      <th></th>\n",
       "      <th>공급일자</th>\n",
       "      <th>물품코드</th>\n",
       "      <th>물품대분류</th>\n",
       "      <th>물품중분류</th>\n",
       "      <th>물품소분류</th>\n",
       "      <th>물품명</th>\n",
       "      <th>구매수량</th>\n",
       "      <th>구매금액</th>\n",
       "      <th>구매매장</th>\n",
       "      <th>반품_원거래일자</th>\n",
       "      <th>회원번호</th>\n",
       "      <th>공급연도</th>\n",
       "      <th>공급월</th>\n",
       "    </tr>\n",
       "  </thead>\n",
       "  <tbody>\n",
       "    <tr>\n",
       "      <th>0</th>\n",
       "      <td>2017-02-01</td>\n",
       "      <td>50142001</td>\n",
       "      <td>채소</td>\n",
       "      <td>잎/줄기채소</td>\n",
       "      <td>시금치</td>\n",
       "      <td>시금치(300g)</td>\n",
       "      <td>1.0</td>\n",
       "      <td>2000</td>\n",
       "      <td>매장3</td>\n",
       "      <td>NaN</td>\n",
       "      <td>2101.0</td>\n",
       "      <td>2017</td>\n",
       "      <td>02</td>\n",
       "    </tr>\n",
       "    <tr>\n",
       "      <th>1</th>\n",
       "      <td>2017-02-01</td>\n",
       "      <td>60302012</td>\n",
       "      <td>축산물</td>\n",
       "      <td>육가공</td>\n",
       "      <td>돈가스/분쇄가공</td>\n",
       "      <td>튀김옷돈가스(400g)</td>\n",
       "      <td>1.0</td>\n",
       "      <td>6300</td>\n",
       "      <td>매장3</td>\n",
       "      <td>NaN</td>\n",
       "      <td>2101.0</td>\n",
       "      <td>2017</td>\n",
       "      <td>02</td>\n",
       "    </tr>\n",
       "    <tr>\n",
       "      <th>2</th>\n",
       "      <td>2017-02-01</td>\n",
       "      <td>80301002</td>\n",
       "      <td>간식</td>\n",
       "      <td>밀가공</td>\n",
       "      <td>라면</td>\n",
       "      <td>감자라면(110g:1봉)</td>\n",
       "      <td>2.0</td>\n",
       "      <td>2600</td>\n",
       "      <td>매장3</td>\n",
       "      <td>NaN</td>\n",
       "      <td>2101.0</td>\n",
       "      <td>2017</td>\n",
       "      <td>02</td>\n",
       "    </tr>\n",
       "    <tr>\n",
       "      <th>3</th>\n",
       "      <td>2017-02-01</td>\n",
       "      <td>80301010</td>\n",
       "      <td>간식</td>\n",
       "      <td>밀가공</td>\n",
       "      <td>라면</td>\n",
       "      <td>사리면(100g)</td>\n",
       "      <td>1.0</td>\n",
       "      <td>900</td>\n",
       "      <td>매장3</td>\n",
       "      <td>NaN</td>\n",
       "      <td>2101.0</td>\n",
       "      <td>2017</td>\n",
       "      <td>02</td>\n",
       "    </tr>\n",
       "    <tr>\n",
       "      <th>4</th>\n",
       "      <td>2017-02-01</td>\n",
       "      <td>80305003</td>\n",
       "      <td>간식</td>\n",
       "      <td>밀가공</td>\n",
       "      <td>만두</td>\n",
       "      <td>고기만두(500g)</td>\n",
       "      <td>1.0</td>\n",
       "      <td>5400</td>\n",
       "      <td>매장3</td>\n",
       "      <td>NaN</td>\n",
       "      <td>2101.0</td>\n",
       "      <td>2017</td>\n",
       "      <td>02</td>\n",
       "    </tr>\n",
       "  </tbody>\n",
       "</table>\n",
       "</div>"
      ],
      "text/plain": [
       "        공급일자      물품코드 물품대분류   물품중분류     물품소분류            물품명  구매수량  구매금액  \\\n",
       "0 2017-02-01  50142001    채소  잎/줄기채소       시금치      시금치(300g)   1.0  2000   \n",
       "1 2017-02-01  60302012   축산물     육가공  돈가스/분쇄가공   튀김옷돈가스(400g)   1.0  6300   \n",
       "2 2017-02-01  80301002    간식     밀가공        라면  감자라면(110g:1봉)   2.0  2600   \n",
       "3 2017-02-01  80301010    간식     밀가공        라면      사리면(100g)   1.0   900   \n",
       "4 2017-02-01  80305003    간식     밀가공        만두     고기만두(500g)   1.0  5400   \n",
       "\n",
       "  구매매장  반품_원거래일자    회원번호  공급연도 공급월  \n",
       "0  매장3       NaN  2101.0  2017  02  \n",
       "1  매장3       NaN  2101.0  2017  02  \n",
       "2  매장3       NaN  2101.0  2017  02  \n",
       "3  매장3       NaN  2101.0  2017  02  \n",
       "4  매장3       NaN  2101.0  2017  02  "
      ]
     },
     "execution_count": 49,
     "metadata": {},
     "output_type": "execute_result"
    }
   ],
   "source": [
    "df_product.head()"
   ]
  },
  {
   "cell_type": "markdown",
   "id": "ffbd64dd-2ec4-470c-a316-02ed91daab9a",
   "metadata": {},
   "source": [
    "## 5. \n",
    "#### **'월'에 따른'물품대분류'별 '구매금액'의 합을 게산하여 result8.xlsx저장**"
   ]
  },
  {
   "cell_type": "code",
   "execution_count": 68,
   "id": "3752658d-dd38-4976-85e7-745b7c87d492",
   "metadata": {},
   "outputs": [
    {
     "data": {
      "text/plain": [
       "공급월  물품대분류\n",
       "01   간식        83859470\n",
       "     건강        35891780\n",
       "     과실        59004590\n",
       "     반찬        51215050\n",
       "     베이커리          4800\n",
       "                ...    \n",
       "06   잡곡         9861120\n",
       "     주곡        23827320\n",
       "     주류         1251030\n",
       "     채소       120914240\n",
       "     축산물      185366000\n",
       "Name: 구매금액, Length: 91, dtype: int64"
      ]
     },
     "execution_count": 68,
     "metadata": {},
     "output_type": "execute_result"
    }
   ],
   "source": [
    "# 월에 따른 물품대분류별 구매금액의 합 계산\n",
    "df_product.groupby(['공급월','물품대분류'])['구매금액'].sum()"
   ]
  },
  {
   "cell_type": "markdown",
   "id": "2c74d693-9b2e-400d-8d74-9010c7fe0517",
   "metadata": {},
   "source": [
    "## 6. \n",
    "#### **'요일'에서 '주말'과'주중'을 구분하여,'주중과 주말의 구매금액의 평균의 차이가 있는지 가설검정을 수행**"
   ]
  },
  {
   "cell_type": "code",
   "execution_count": 74,
   "id": "6999911f-28f8-4672-910c-f5e411e3d953",
   "metadata": {},
   "outputs": [],
   "source": [
    "df_product_wO=df_product[df_product['공급요일'].str.contains('토','일')]\n",
    "df_product_wX=df_product[~df_product['공급요일'].str.contains('토','일')]"
   ]
  },
  {
   "cell_type": "code",
   "execution_count": 83,
   "id": "d3005cca-6866-4ee9-8d30-cf3f68058015",
   "metadata": {},
   "outputs": [
    {
     "data": {
      "text/plain": [
       "NormaltestResult(statistic=np.float64(168413.50475499927), pvalue=np.float64(0.0))"
      ]
     },
     "execution_count": 83,
     "metadata": {},
     "output_type": "execute_result"
    }
   ],
   "source": [
    "import scipy.stats as stats\n",
    "# 두 집단의 구매금액의 분포가 정규성을 따르는 지 확인\n",
    "# h0: dt_product_wO(주말) 구매금액의 분포가 정규성을 따름\n",
    "stats.normaltest(df_product_wO['구매금액'])"
   ]
  },
  {
   "cell_type": "code",
   "execution_count": 82,
   "id": "2467f12e-c70c-40bc-9613-f28c56ee54f9",
   "metadata": {},
   "outputs": [
    {
     "data": {
      "text/plain": [
       "NormaltestResult(statistic=np.float64(1471705.2100262211), pvalue=np.float64(0.0))"
      ]
     },
     "execution_count": 82,
     "metadata": {},
     "output_type": "execute_result"
    }
   ],
   "source": [
    "# h0: dt_product_wX(주중) 구매금액의 분포가 정규성을 따름\n",
    "stats.normaltest(df_product_wX['구매금액'])"
   ]
  },
  {
   "cell_type": "code",
   "execution_count": 85,
   "id": "396fbe4d-d324-47a5-bf55-3e1fee2f332e",
   "metadata": {},
   "outputs": [
    {
     "name": "stdout",
     "output_type": "stream",
     "text": [
      "97035\n",
      "638748\n"
     ]
    }
   ],
   "source": [
    "print(df_product_wO.shape[0])\n",
    "print(df_product_wX.shape[0])"
   ]
  },
  {
   "cell_type": "markdown",
   "id": "6e806469-3164-48f2-99c3-a05a41d52a15",
   "metadata": {},
   "source": [
    "- 이때 둘다 pvalue 0이므로 두 데이터의 구매금액 모두 정규분포를 따르지 않음\n",
    "- 두 집단의 연속형 변수를 검증할 때 사용되는 두가지 비모수 테스트\n",
    "1. Mann-Whitney U test\n",
    "2. Wilicoxon test\n",
    "- Wilicoxon 검정은 두개의 관련 또는 쌍 표본을 비교하는데 사용되는 반면 Mann-Whitney U 검정은 두개의 독립적인 표본을 비교하는데 사용함\n",
    "> 예시) Wilicoxon 검정은 어떤 실험의 사전/사후 집단에서 유의성이 있는지 확인, Mann-Whitney U 검정은 남/녀의 차이가 있는지 확인  \n",
    "-  Mann-Whitney U 검정은 표본 크기 (n>30)에 더 적합한 반면 Wilicoxon 검정은 더 작은 표본에서 검정력이 높음\n",
    "\n",
    "***결론) 두 집단이 관련되지 않은 표본이고 또한 두 집단의 표본 크기가 크기 때문에 Mann-Whitney U test 진행***"
   ]
  },
  {
   "cell_type": "code",
   "execution_count": 86,
   "id": "0971807d-cdc5-4771-87b7-04498f91a083",
   "metadata": {},
   "outputs": [
    {
     "data": {
      "text/plain": [
       "MannwhitneyuResult(statistic=np.float64(31035022609.0), pvalue=np.float64(0.4696789692361416))"
      ]
     },
     "execution_count": 86,
     "metadata": {},
     "output_type": "execute_result"
    }
   ],
   "source": [
    "# h0: 두 집단의 구매금액의 평균의 차이가 있음\n",
    "stats.mannwhitneyu(df_product_wO['구매금액'],df_product_wX['구매금액'])"
   ]
  },
  {
   "cell_type": "markdown",
   "id": "7c384fce-5aa9-48ed-bed6-b2ae46a15977",
   "metadata": {},
   "source": [
    "이때 pvalue>유의수준 a(0.05)에서 h0 accept.\n",
    "\n",
    "따라서 두 집단의 구매금액의 평균에 차이가 없음"
   ]
  },
  {
   "cell_type": "markdown",
   "id": "50a956b4-0857-4bae-94ba-0c9a1355da14",
   "metadata": {},
   "source": [
    "## 7. \n",
    "#### **df_product데이터에서 '회원번호' 별 '구매금액'과 '구매수량'의 합을 계산하여, df_member 데이터에 병합해, df1 변수로 선언하시오.**\n"
   ]
  },
  {
   "cell_type": "code",
   "execution_count": 90,
   "id": "1cbdcfe2-f39c-4fc4-8a0d-e600dab53999",
   "metadata": {},
   "outputs": [],
   "source": [
    "df_product2=df_product.groupby(['회원번호'])[['구매금액','구매수량']].sum()"
   ]
  },
  {
   "cell_type": "code",
   "execution_count": 149,
   "id": "94db1e68-23b0-4f3f-af41-cc034bc2f705",
   "metadata": {},
   "outputs": [],
   "source": [
    "# how='inner' 옵션으로 더 작은 데이터프레임에 맞추기\n",
    "df1=pd.merge(df_product2,df_member,how='inner',on='회원번호')"
   ]
  },
  {
   "cell_type": "code",
   "execution_count": 150,
   "id": "76c5a54d-6baa-45a3-9352-0ab38c5dc98f",
   "metadata": {},
   "outputs": [
    {
     "data": {
      "text/html": [
       "<div>\n",
       "<style scoped>\n",
       "    .dataframe tbody tr th:only-of-type {\n",
       "        vertical-align: middle;\n",
       "    }\n",
       "\n",
       "    .dataframe tbody tr th {\n",
       "        vertical-align: top;\n",
       "    }\n",
       "\n",
       "    .dataframe thead th {\n",
       "        text-align: right;\n",
       "    }\n",
       "</style>\n",
       "<table border=\"1\" class=\"dataframe\">\n",
       "  <thead>\n",
       "    <tr style=\"text-align: right;\">\n",
       "      <th></th>\n",
       "      <th>회원번호</th>\n",
       "      <th>구매금액</th>\n",
       "      <th>구매수량</th>\n",
       "      <th>회원상태</th>\n",
       "      <th>성별</th>\n",
       "      <th>결혼유무</th>\n",
       "      <th>주소</th>\n",
       "      <th>생년</th>\n",
       "      <th>연령</th>\n",
       "    </tr>\n",
       "  </thead>\n",
       "  <tbody>\n",
       "    <tr>\n",
       "      <th>0</th>\n",
       "      <td>2101.0</td>\n",
       "      <td>1991230</td>\n",
       "      <td>382.0</td>\n",
       "      <td>정상회원</td>\n",
       "      <td>여</td>\n",
       "      <td>기혼</td>\n",
       "      <td>서울 강북구 미아동 134-</td>\n",
       "      <td>1967</td>\n",
       "      <td>51</td>\n",
       "    </tr>\n",
       "    <tr>\n",
       "      <th>1</th>\n",
       "      <td>2102.0</td>\n",
       "      <td>2095860</td>\n",
       "      <td>472.5</td>\n",
       "      <td>정상회원</td>\n",
       "      <td>여</td>\n",
       "      <td>NaN</td>\n",
       "      <td>경기 용인시 수지구 동천동</td>\n",
       "      <td>1947</td>\n",
       "      <td>71</td>\n",
       "    </tr>\n",
       "    <tr>\n",
       "      <th>2</th>\n",
       "      <td>2103.0</td>\n",
       "      <td>8273550</td>\n",
       "      <td>1675.4</td>\n",
       "      <td>정상회원</td>\n",
       "      <td>여</td>\n",
       "      <td>기혼</td>\n",
       "      <td>경기 용인시 수지구 동천동</td>\n",
       "      <td>1972</td>\n",
       "      <td>46</td>\n",
       "    </tr>\n",
       "    <tr>\n",
       "      <th>3</th>\n",
       "      <td>2104.0</td>\n",
       "      <td>6289495</td>\n",
       "      <td>1401.8</td>\n",
       "      <td>정상회원</td>\n",
       "      <td>여</td>\n",
       "      <td>NaN</td>\n",
       "      <td>경기 용인시 수지구 성복동</td>\n",
       "      <td>1969</td>\n",
       "      <td>49</td>\n",
       "    </tr>\n",
       "    <tr>\n",
       "      <th>4</th>\n",
       "      <td>2105.0</td>\n",
       "      <td>3067930</td>\n",
       "      <td>602.0</td>\n",
       "      <td>정상회원</td>\n",
       "      <td>여</td>\n",
       "      <td>기혼</td>\n",
       "      <td>경기 용인시 수지구 동천동</td>\n",
       "      <td>1948</td>\n",
       "      <td>70</td>\n",
       "    </tr>\n",
       "  </tbody>\n",
       "</table>\n",
       "</div>"
      ],
      "text/plain": [
       "     회원번호     구매금액    구매수량  회원상태 성별 결혼유무               주소    생년  연령\n",
       "0  2101.0  1991230   382.0  정상회원  여   기혼  서울 강북구 미아동 134-  1967  51\n",
       "1  2102.0  2095860   472.5  정상회원  여  NaN   경기 용인시 수지구 동천동  1947  71\n",
       "2  2103.0  8273550  1675.4  정상회원  여   기혼   경기 용인시 수지구 동천동  1972  46\n",
       "3  2104.0  6289495  1401.8  정상회원  여  NaN   경기 용인시 수지구 성복동  1969  49\n",
       "4  2105.0  3067930   602.0  정상회원  여   기혼   경기 용인시 수지구 동천동  1948  70"
      ]
     },
     "execution_count": 150,
     "metadata": {},
     "output_type": "execute_result"
    }
   ],
   "source": [
    "df1.head()"
   ]
  },
  {
   "cell_type": "code",
   "execution_count": 151,
   "id": "73d652bf-1970-4702-93c3-94d2b3ce4451",
   "metadata": {},
   "outputs": [
    {
     "name": "stdout",
     "output_type": "stream",
     "text": [
      "(4285, 2)\n",
      "(4396, 7)\n",
      "(4285, 9)\n"
     ]
    }
   ],
   "source": [
    "# 두 데이터가 잘 merge 되었는지 확인\n",
    "print(df_product2.shape)\n",
    "print(df_member.shape)\n",
    "print(df1.shape)"
   ]
  },
  {
   "cell_type": "markdown",
   "id": "f98823e6-4863-44d2-8670-c46813290ea5",
   "metadata": {},
   "source": [
    "## 8\n",
    "#### **df1 데이터에서 '연령'데이터를 이용해 '연령대_new'라는 항목 파생변수로 생성 (if문을 쓰지 않고 생성)**"
   ]
  },
  {
   "cell_type": "code",
   "execution_count": 152,
   "id": "88f8d226-c16f-45f0-aa81-70db127d6f81",
   "metadata": {},
   "outputs": [
    {
     "name": "stdout",
     "output_type": "stream",
     "text": [
      "23\n",
      "107\n"
     ]
    }
   ],
   "source": [
    "print(df1['연령'].min())\n",
    "print(df1['연령'].max())"
   ]
  },
  {
   "cell_type": "code",
   "execution_count": 153,
   "id": "94032dde-79fc-4a36-9a8c-8aa9a7c40e31",
   "metadata": {},
   "outputs": [],
   "source": [
    "# 디폴트 값 0으로 파생변수 생성\n",
    "df1['연령대_new']=0\n",
    "df1.loc[df1['연령']<110,'연령대_new']=100\n",
    "df1.loc[df1['연령']<100,'연령대_new']=90\n",
    "df1.loc[df1['연령']<90,'연령대_new']=80\n",
    "df1.loc[df1['연령']<80,'연령대_new']=70\n",
    "df1.loc[df1['연령']<70,'연령대_new']=60\n",
    "df1.loc[df1['연령']<60,'연령대_new']=50\n",
    "df1.loc[df1['연령']<50,'연령대_new']=40\n",
    "df1.loc[df1['연령']<40,'연령대_new']=30\n",
    "df1.loc[df1['연령']<30,'연령대_new']=20"
   ]
  },
  {
   "cell_type": "code",
   "execution_count": 154,
   "id": "dc72a243-d014-4c94-8ecd-ec4e3ab7ccd0",
   "metadata": {},
   "outputs": [
    {
     "data": {
      "text/html": [
       "<div>\n",
       "<style scoped>\n",
       "    .dataframe tbody tr th:only-of-type {\n",
       "        vertical-align: middle;\n",
       "    }\n",
       "\n",
       "    .dataframe tbody tr th {\n",
       "        vertical-align: top;\n",
       "    }\n",
       "\n",
       "    .dataframe thead th {\n",
       "        text-align: right;\n",
       "    }\n",
       "</style>\n",
       "<table border=\"1\" class=\"dataframe\">\n",
       "  <thead>\n",
       "    <tr style=\"text-align: right;\">\n",
       "      <th></th>\n",
       "      <th>연령</th>\n",
       "      <th>연령대_new</th>\n",
       "    </tr>\n",
       "  </thead>\n",
       "  <tbody>\n",
       "    <tr>\n",
       "      <th>0</th>\n",
       "      <td>51</td>\n",
       "      <td>50</td>\n",
       "    </tr>\n",
       "    <tr>\n",
       "      <th>1</th>\n",
       "      <td>71</td>\n",
       "      <td>70</td>\n",
       "    </tr>\n",
       "    <tr>\n",
       "      <th>2</th>\n",
       "      <td>46</td>\n",
       "      <td>40</td>\n",
       "    </tr>\n",
       "    <tr>\n",
       "      <th>3</th>\n",
       "      <td>49</td>\n",
       "      <td>40</td>\n",
       "    </tr>\n",
       "    <tr>\n",
       "      <th>4</th>\n",
       "      <td>70</td>\n",
       "      <td>70</td>\n",
       "    </tr>\n",
       "  </tbody>\n",
       "</table>\n",
       "</div>"
      ],
      "text/plain": [
       "   연령  연령대_new\n",
       "0  51       50\n",
       "1  71       70\n",
       "2  46       40\n",
       "3  49       40\n",
       "4  70       70"
      ]
     },
     "execution_count": 154,
     "metadata": {},
     "output_type": "execute_result"
    }
   ],
   "source": [
    "df1[['연령','연령대_new']].head()"
   ]
  },
  {
   "cell_type": "code",
   "execution_count": 155,
   "id": "c22d6070-247f-4a54-bb6f-cb44f4dc6cb6",
   "metadata": {},
   "outputs": [
    {
     "data": {
      "text/plain": [
       "연령대_new\n",
       "40     1326\n",
       "50      919\n",
       "30      882\n",
       "60      676\n",
       "70      368\n",
       "80       74\n",
       "20       34\n",
       "90        4\n",
       "100       2\n",
       "Name: count, dtype: int64"
      ]
     },
     "execution_count": 155,
     "metadata": {},
     "output_type": "execute_result"
    }
   ],
   "source": [
    "df1['연령대_new'].value_counts()"
   ]
  },
  {
   "cell_type": "markdown",
   "id": "b9a99679-ed81-4641-bf53-7f2f66f4d6f0",
   "metadata": {},
   "source": [
    "## 9. \n",
    "#### **df1 데이터에서 '결혼유무'에서 '기혼'에 해당하는 고객들 중 '방문횟수'가 높은 상위 30명의 고객명단을 확인**"
   ]
  },
  {
   "cell_type": "code",
   "execution_count": 156,
   "id": "04e12175-9660-42ed-8815-474cdb5dabb4",
   "metadata": {},
   "outputs": [
    {
     "data": {
      "text/html": [
       "<div>\n",
       "<style scoped>\n",
       "    .dataframe tbody tr th:only-of-type {\n",
       "        vertical-align: middle;\n",
       "    }\n",
       "\n",
       "    .dataframe tbody tr th {\n",
       "        vertical-align: top;\n",
       "    }\n",
       "\n",
       "    .dataframe thead th {\n",
       "        text-align: right;\n",
       "    }\n",
       "</style>\n",
       "<table border=\"1\" class=\"dataframe\">\n",
       "  <thead>\n",
       "    <tr style=\"text-align: right;\">\n",
       "      <th></th>\n",
       "      <th>회원번호</th>\n",
       "      <th>방문횟수</th>\n",
       "    </tr>\n",
       "  </thead>\n",
       "  <tbody>\n",
       "    <tr>\n",
       "      <th>0</th>\n",
       "      <td>2101.0</td>\n",
       "      <td>342</td>\n",
       "    </tr>\n",
       "    <tr>\n",
       "      <th>1</th>\n",
       "      <td>2102.0</td>\n",
       "      <td>409</td>\n",
       "    </tr>\n",
       "    <tr>\n",
       "      <th>2</th>\n",
       "      <td>2103.0</td>\n",
       "      <td>1598</td>\n",
       "    </tr>\n",
       "    <tr>\n",
       "      <th>3</th>\n",
       "      <td>2104.0</td>\n",
       "      <td>1180</td>\n",
       "    </tr>\n",
       "    <tr>\n",
       "      <th>4</th>\n",
       "      <td>2105.0</td>\n",
       "      <td>512</td>\n",
       "    </tr>\n",
       "  </tbody>\n",
       "</table>\n",
       "</div>"
      ],
      "text/plain": [
       "     회원번호  방문횟수\n",
       "0  2101.0   342\n",
       "1  2102.0   409\n",
       "2  2103.0  1598\n",
       "3  2104.0  1180\n",
       "4  2105.0   512"
      ]
     },
     "execution_count": 156,
     "metadata": {},
     "output_type": "execute_result"
    }
   ],
   "source": [
    "# df_product 데이터에서 방문횟수 변수 생성\n",
    "visits=df_product.groupby('회원번호').size().reset_index(name='방문횟수')\n",
    "visits.head()"
   ]
  },
  {
   "cell_type": "code",
   "execution_count": 157,
   "id": "9d55f00f-bf65-42ce-a958-0854e1fe792a",
   "metadata": {},
   "outputs": [
    {
     "data": {
      "text/html": [
       "<div>\n",
       "<style scoped>\n",
       "    .dataframe tbody tr th:only-of-type {\n",
       "        vertical-align: middle;\n",
       "    }\n",
       "\n",
       "    .dataframe tbody tr th {\n",
       "        vertical-align: top;\n",
       "    }\n",
       "\n",
       "    .dataframe thead th {\n",
       "        text-align: right;\n",
       "    }\n",
       "</style>\n",
       "<table border=\"1\" class=\"dataframe\">\n",
       "  <thead>\n",
       "    <tr style=\"text-align: right;\">\n",
       "      <th></th>\n",
       "      <th>회원번호</th>\n",
       "      <th>구매금액</th>\n",
       "      <th>구매수량</th>\n",
       "      <th>회원상태</th>\n",
       "      <th>성별</th>\n",
       "      <th>결혼유무</th>\n",
       "      <th>주소</th>\n",
       "      <th>생년</th>\n",
       "      <th>연령</th>\n",
       "      <th>연령대_new</th>\n",
       "      <th>방문횟수</th>\n",
       "    </tr>\n",
       "  </thead>\n",
       "  <tbody>\n",
       "    <tr>\n",
       "      <th>0</th>\n",
       "      <td>2101.0</td>\n",
       "      <td>1991230</td>\n",
       "      <td>382.0</td>\n",
       "      <td>정상회원</td>\n",
       "      <td>여</td>\n",
       "      <td>기혼</td>\n",
       "      <td>서울 강북구 미아동 134-</td>\n",
       "      <td>1967</td>\n",
       "      <td>51</td>\n",
       "      <td>50</td>\n",
       "      <td>342</td>\n",
       "    </tr>\n",
       "    <tr>\n",
       "      <th>1</th>\n",
       "      <td>2102.0</td>\n",
       "      <td>2095860</td>\n",
       "      <td>472.5</td>\n",
       "      <td>정상회원</td>\n",
       "      <td>여</td>\n",
       "      <td>NaN</td>\n",
       "      <td>경기 용인시 수지구 동천동</td>\n",
       "      <td>1947</td>\n",
       "      <td>71</td>\n",
       "      <td>70</td>\n",
       "      <td>409</td>\n",
       "    </tr>\n",
       "    <tr>\n",
       "      <th>2</th>\n",
       "      <td>2103.0</td>\n",
       "      <td>8273550</td>\n",
       "      <td>1675.4</td>\n",
       "      <td>정상회원</td>\n",
       "      <td>여</td>\n",
       "      <td>기혼</td>\n",
       "      <td>경기 용인시 수지구 동천동</td>\n",
       "      <td>1972</td>\n",
       "      <td>46</td>\n",
       "      <td>40</td>\n",
       "      <td>1598</td>\n",
       "    </tr>\n",
       "    <tr>\n",
       "      <th>3</th>\n",
       "      <td>2104.0</td>\n",
       "      <td>6289495</td>\n",
       "      <td>1401.8</td>\n",
       "      <td>정상회원</td>\n",
       "      <td>여</td>\n",
       "      <td>NaN</td>\n",
       "      <td>경기 용인시 수지구 성복동</td>\n",
       "      <td>1969</td>\n",
       "      <td>49</td>\n",
       "      <td>40</td>\n",
       "      <td>1180</td>\n",
       "    </tr>\n",
       "    <tr>\n",
       "      <th>4</th>\n",
       "      <td>2105.0</td>\n",
       "      <td>3067930</td>\n",
       "      <td>602.0</td>\n",
       "      <td>정상회원</td>\n",
       "      <td>여</td>\n",
       "      <td>기혼</td>\n",
       "      <td>경기 용인시 수지구 동천동</td>\n",
       "      <td>1948</td>\n",
       "      <td>70</td>\n",
       "      <td>70</td>\n",
       "      <td>512</td>\n",
       "    </tr>\n",
       "  </tbody>\n",
       "</table>\n",
       "</div>"
      ],
      "text/plain": [
       "     회원번호     구매금액    구매수량  회원상태 성별 결혼유무               주소    생년  연령  연령대_new  \\\n",
       "0  2101.0  1991230   382.0  정상회원  여   기혼  서울 강북구 미아동 134-  1967  51       50   \n",
       "1  2102.0  2095860   472.5  정상회원  여  NaN   경기 용인시 수지구 동천동  1947  71       70   \n",
       "2  2103.0  8273550  1675.4  정상회원  여   기혼   경기 용인시 수지구 동천동  1972  46       40   \n",
       "3  2104.0  6289495  1401.8  정상회원  여  NaN   경기 용인시 수지구 성복동  1969  49       40   \n",
       "4  2105.0  3067930   602.0  정상회원  여   기혼   경기 용인시 수지구 동천동  1948  70       70   \n",
       "\n",
       "   방문횟수  \n",
       "0   342  \n",
       "1   409  \n",
       "2  1598  \n",
       "3  1180  \n",
       "4   512  "
      ]
     },
     "execution_count": 157,
     "metadata": {},
     "output_type": "execute_result"
    }
   ],
   "source": [
    "# df1 과 결함\n",
    "df1=pd.merge(df1,visits,how='inner',on='회원번호')\n",
    "df1.head()"
   ]
  },
  {
   "cell_type": "code",
   "execution_count": 158,
   "id": "d8a25bcf-5b26-460c-a9c4-5d6d9ed6caea",
   "metadata": {},
   "outputs": [
    {
     "data": {
      "text/plain": [
       "np.int64(925)"
      ]
     },
     "execution_count": 158,
     "metadata": {},
     "output_type": "execute_result"
    }
   ],
   "source": [
    "# 결혼유무 null 값 확인\n",
    "df1['결혼유무'].isna().sum()"
   ]
  },
  {
   "cell_type": "code",
   "execution_count": 159,
   "id": "11a03686-8643-4d2f-9016-1151a33a9b09",
   "metadata": {},
   "outputs": [],
   "source": [
    "# df1의 결혼유무가 null인 값을 모두 미혼으로 설정\n",
    "df1['결혼유무']=df1['결혼유무'].fillna('미혼')"
   ]
  },
  {
   "cell_type": "code",
   "execution_count": 172,
   "id": "e7c2a8b8-63af-433a-8101-0136b57966a4",
   "metadata": {},
   "outputs": [
    {
     "data": {
      "text/html": [
       "<div>\n",
       "<style scoped>\n",
       "    .dataframe tbody tr th:only-of-type {\n",
       "        vertical-align: middle;\n",
       "    }\n",
       "\n",
       "    .dataframe tbody tr th {\n",
       "        vertical-align: top;\n",
       "    }\n",
       "\n",
       "    .dataframe thead th {\n",
       "        text-align: right;\n",
       "    }\n",
       "</style>\n",
       "<table border=\"1\" class=\"dataframe\">\n",
       "  <thead>\n",
       "    <tr style=\"text-align: right;\">\n",
       "      <th></th>\n",
       "      <th>회원번호</th>\n",
       "      <th>구매금액</th>\n",
       "      <th>구매수량</th>\n",
       "      <th>회원상태</th>\n",
       "      <th>성별</th>\n",
       "      <th>결혼유무</th>\n",
       "      <th>주소</th>\n",
       "      <th>생년</th>\n",
       "      <th>연령</th>\n",
       "      <th>연령대_new</th>\n",
       "      <th>방문횟수</th>\n",
       "    </tr>\n",
       "  </thead>\n",
       "  <tbody>\n",
       "    <tr>\n",
       "      <th>156</th>\n",
       "      <td>2277.0</td>\n",
       "      <td>21950630</td>\n",
       "      <td>4425.70</td>\n",
       "      <td>정상회원</td>\n",
       "      <td>여</td>\n",
       "      <td>기혼</td>\n",
       "      <td>경기 용인시 수지구 풍덕천2</td>\n",
       "      <td>1971</td>\n",
       "      <td>47</td>\n",
       "      <td>40</td>\n",
       "      <td>3806</td>\n",
       "    </tr>\n",
       "    <tr>\n",
       "      <th>3645</th>\n",
       "      <td>5856.0</td>\n",
       "      <td>21217470</td>\n",
       "      <td>4006.96</td>\n",
       "      <td>탈퇴</td>\n",
       "      <td>여</td>\n",
       "      <td>기혼</td>\n",
       "      <td>경기 용인시 수지구 신봉동</td>\n",
       "      <td>1972</td>\n",
       "      <td>46</td>\n",
       "      <td>40</td>\n",
       "      <td>3756</td>\n",
       "    </tr>\n",
       "    <tr>\n",
       "      <th>142</th>\n",
       "      <td>2260.0</td>\n",
       "      <td>18681595</td>\n",
       "      <td>3870.15</td>\n",
       "      <td>정상회원</td>\n",
       "      <td>여</td>\n",
       "      <td>기혼</td>\n",
       "      <td>경기 용인시 수지구 풍덕천동</td>\n",
       "      <td>1977</td>\n",
       "      <td>41</td>\n",
       "      <td>40</td>\n",
       "      <td>3514</td>\n",
       "    </tr>\n",
       "    <tr>\n",
       "      <th>2857</th>\n",
       "      <td>5068.0</td>\n",
       "      <td>21285710</td>\n",
       "      <td>4180.50</td>\n",
       "      <td>탈퇴</td>\n",
       "      <td>여</td>\n",
       "      <td>기혼</td>\n",
       "      <td>경기 용인시 수지구 동천동</td>\n",
       "      <td>1971</td>\n",
       "      <td>47</td>\n",
       "      <td>40</td>\n",
       "      <td>3462</td>\n",
       "    </tr>\n",
       "    <tr>\n",
       "      <th>479</th>\n",
       "      <td>2637.0</td>\n",
       "      <td>19646542</td>\n",
       "      <td>3566.35</td>\n",
       "      <td>탈퇴</td>\n",
       "      <td>남</td>\n",
       "      <td>기혼</td>\n",
       "      <td>서울 중구 장충동1가 31-</td>\n",
       "      <td>1983</td>\n",
       "      <td>35</td>\n",
       "      <td>30</td>\n",
       "      <td>2977</td>\n",
       "    </tr>\n",
       "    <tr>\n",
       "      <th>2441</th>\n",
       "      <td>4649.0</td>\n",
       "      <td>16471290</td>\n",
       "      <td>3447.20</td>\n",
       "      <td>탈퇴</td>\n",
       "      <td>여</td>\n",
       "      <td>기혼</td>\n",
       "      <td>경기 용인시 수지구 풍덕천2</td>\n",
       "      <td>1972</td>\n",
       "      <td>46</td>\n",
       "      <td>40</td>\n",
       "      <td>2896</td>\n",
       "    </tr>\n",
       "    <tr>\n",
       "      <th>1928</th>\n",
       "      <td>4135.0</td>\n",
       "      <td>18381620</td>\n",
       "      <td>3219.43</td>\n",
       "      <td>탈퇴</td>\n",
       "      <td>여</td>\n",
       "      <td>기혼</td>\n",
       "      <td>경기 용인시 수지구 신봉동</td>\n",
       "      <td>1969</td>\n",
       "      <td>49</td>\n",
       "      <td>40</td>\n",
       "      <td>2768</td>\n",
       "    </tr>\n",
       "    <tr>\n",
       "      <th>103</th>\n",
       "      <td>2214.0</td>\n",
       "      <td>14895300</td>\n",
       "      <td>2986.40</td>\n",
       "      <td>정상회원</td>\n",
       "      <td>여</td>\n",
       "      <td>기혼</td>\n",
       "      <td>경기 용인시 수지구 풍덕천2</td>\n",
       "      <td>1976</td>\n",
       "      <td>42</td>\n",
       "      <td>40</td>\n",
       "      <td>2762</td>\n",
       "    </tr>\n",
       "    <tr>\n",
       "      <th>39</th>\n",
       "      <td>2141.0</td>\n",
       "      <td>15302800</td>\n",
       "      <td>2896.70</td>\n",
       "      <td>정상회원</td>\n",
       "      <td>여</td>\n",
       "      <td>기혼</td>\n",
       "      <td>경기 용인시 수지구 풍덕천2</td>\n",
       "      <td>1968</td>\n",
       "      <td>50</td>\n",
       "      <td>50</td>\n",
       "      <td>2644</td>\n",
       "    </tr>\n",
       "    <tr>\n",
       "      <th>372</th>\n",
       "      <td>2521.0</td>\n",
       "      <td>13609730</td>\n",
       "      <td>2985.55</td>\n",
       "      <td>정상회원</td>\n",
       "      <td>여</td>\n",
       "      <td>기혼</td>\n",
       "      <td>경기 용인시 수지구 신봉동</td>\n",
       "      <td>1974</td>\n",
       "      <td>44</td>\n",
       "      <td>40</td>\n",
       "      <td>2497</td>\n",
       "    </tr>\n",
       "    <tr>\n",
       "      <th>692</th>\n",
       "      <td>2871.0</td>\n",
       "      <td>15670140</td>\n",
       "      <td>2834.65</td>\n",
       "      <td>정상회원</td>\n",
       "      <td>여</td>\n",
       "      <td>기혼</td>\n",
       "      <td>경기 용인시 수지구 성복동</td>\n",
       "      <td>1970</td>\n",
       "      <td>48</td>\n",
       "      <td>40</td>\n",
       "      <td>2466</td>\n",
       "    </tr>\n",
       "    <tr>\n",
       "      <th>1012</th>\n",
       "      <td>3203.0</td>\n",
       "      <td>13786410</td>\n",
       "      <td>2785.40</td>\n",
       "      <td>탈퇴</td>\n",
       "      <td>여</td>\n",
       "      <td>기혼</td>\n",
       "      <td>경기 용인시 수지구 동천동</td>\n",
       "      <td>1970</td>\n",
       "      <td>48</td>\n",
       "      <td>40</td>\n",
       "      <td>2423</td>\n",
       "    </tr>\n",
       "    <tr>\n",
       "      <th>113</th>\n",
       "      <td>2229.0</td>\n",
       "      <td>13395720</td>\n",
       "      <td>2647.50</td>\n",
       "      <td>정상회원</td>\n",
       "      <td>여</td>\n",
       "      <td>기혼</td>\n",
       "      <td>경기 용인시 수지구 풍덕천동</td>\n",
       "      <td>1976</td>\n",
       "      <td>42</td>\n",
       "      <td>40</td>\n",
       "      <td>2383</td>\n",
       "    </tr>\n",
       "    <tr>\n",
       "      <th>166</th>\n",
       "      <td>2288.0</td>\n",
       "      <td>17170370</td>\n",
       "      <td>2921.50</td>\n",
       "      <td>정상회원</td>\n",
       "      <td>여</td>\n",
       "      <td>기혼</td>\n",
       "      <td>경기 용인시 수지구 풍덕천동</td>\n",
       "      <td>1968</td>\n",
       "      <td>50</td>\n",
       "      <td>50</td>\n",
       "      <td>2318</td>\n",
       "    </tr>\n",
       "    <tr>\n",
       "      <th>2199</th>\n",
       "      <td>4406.0</td>\n",
       "      <td>12824280</td>\n",
       "      <td>2831.30</td>\n",
       "      <td>탈퇴</td>\n",
       "      <td>여</td>\n",
       "      <td>기혼</td>\n",
       "      <td>경기 용인시 수지구 신봉동</td>\n",
       "      <td>1977</td>\n",
       "      <td>41</td>\n",
       "      <td>40</td>\n",
       "      <td>2274</td>\n",
       "    </tr>\n",
       "    <tr>\n",
       "      <th>144</th>\n",
       "      <td>2263.0</td>\n",
       "      <td>11917750</td>\n",
       "      <td>2279.30</td>\n",
       "      <td>정상회원</td>\n",
       "      <td>여</td>\n",
       "      <td>기혼</td>\n",
       "      <td>경기 용인시 수지구 풍덕천2</td>\n",
       "      <td>1967</td>\n",
       "      <td>51</td>\n",
       "      <td>50</td>\n",
       "      <td>2026</td>\n",
       "    </tr>\n",
       "    <tr>\n",
       "      <th>3487</th>\n",
       "      <td>5698.0</td>\n",
       "      <td>9511415</td>\n",
       "      <td>2024.37</td>\n",
       "      <td>탈퇴</td>\n",
       "      <td>여</td>\n",
       "      <td>기혼</td>\n",
       "      <td>경기 용인시 수지구 신봉동</td>\n",
       "      <td>1973</td>\n",
       "      <td>45</td>\n",
       "      <td>40</td>\n",
       "      <td>1857</td>\n",
       "    </tr>\n",
       "    <tr>\n",
       "      <th>307</th>\n",
       "      <td>2449.0</td>\n",
       "      <td>8853580</td>\n",
       "      <td>2048.35</td>\n",
       "      <td>정상회원</td>\n",
       "      <td>여</td>\n",
       "      <td>기혼</td>\n",
       "      <td>경기 용인시 수지구 풍덕천2</td>\n",
       "      <td>1973</td>\n",
       "      <td>45</td>\n",
       "      <td>40</td>\n",
       "      <td>1836</td>\n",
       "    </tr>\n",
       "    <tr>\n",
       "      <th>233</th>\n",
       "      <td>2363.0</td>\n",
       "      <td>10033855</td>\n",
       "      <td>2088.85</td>\n",
       "      <td>정상회원</td>\n",
       "      <td>여</td>\n",
       "      <td>기혼</td>\n",
       "      <td>경기 용인시 수지구 풍덕천동</td>\n",
       "      <td>1971</td>\n",
       "      <td>47</td>\n",
       "      <td>40</td>\n",
       "      <td>1790</td>\n",
       "    </tr>\n",
       "    <tr>\n",
       "      <th>1421</th>\n",
       "      <td>3626.0</td>\n",
       "      <td>9143295</td>\n",
       "      <td>1775.23</td>\n",
       "      <td>탈퇴</td>\n",
       "      <td>여</td>\n",
       "      <td>기혼</td>\n",
       "      <td>경기 용인시 수지구 신봉동</td>\n",
       "      <td>1971</td>\n",
       "      <td>47</td>\n",
       "      <td>40</td>\n",
       "      <td>1619</td>\n",
       "    </tr>\n",
       "    <tr>\n",
       "      <th>2</th>\n",
       "      <td>2103.0</td>\n",
       "      <td>8273550</td>\n",
       "      <td>1675.40</td>\n",
       "      <td>정상회원</td>\n",
       "      <td>여</td>\n",
       "      <td>기혼</td>\n",
       "      <td>경기 용인시 수지구 동천동</td>\n",
       "      <td>1972</td>\n",
       "      <td>46</td>\n",
       "      <td>40</td>\n",
       "      <td>1598</td>\n",
       "    </tr>\n",
       "    <tr>\n",
       "      <th>806</th>\n",
       "      <td>2992.0</td>\n",
       "      <td>9183600</td>\n",
       "      <td>1900.20</td>\n",
       "      <td>정상회원</td>\n",
       "      <td>여</td>\n",
       "      <td>기혼</td>\n",
       "      <td>경기 용인시 수지구 풍덕천동</td>\n",
       "      <td>1969</td>\n",
       "      <td>49</td>\n",
       "      <td>40</td>\n",
       "      <td>1575</td>\n",
       "    </tr>\n",
       "    <tr>\n",
       "      <th>217</th>\n",
       "      <td>2344.0</td>\n",
       "      <td>7601560</td>\n",
       "      <td>1717.50</td>\n",
       "      <td>정상회원</td>\n",
       "      <td>여</td>\n",
       "      <td>기혼</td>\n",
       "      <td>경기 용인시 수지구 신봉동</td>\n",
       "      <td>1976</td>\n",
       "      <td>42</td>\n",
       "      <td>40</td>\n",
       "      <td>1539</td>\n",
       "    </tr>\n",
       "    <tr>\n",
       "      <th>3866</th>\n",
       "      <td>6078.0</td>\n",
       "      <td>7644660</td>\n",
       "      <td>1651.84</td>\n",
       "      <td>탈퇴</td>\n",
       "      <td>여</td>\n",
       "      <td>기혼</td>\n",
       "      <td>경기 용인시 수지구 신봉동</td>\n",
       "      <td>1979</td>\n",
       "      <td>39</td>\n",
       "      <td>30</td>\n",
       "      <td>1513</td>\n",
       "    </tr>\n",
       "    <tr>\n",
       "      <th>395</th>\n",
       "      <td>2546.0</td>\n",
       "      <td>8281750</td>\n",
       "      <td>1653.40</td>\n",
       "      <td>정상회원</td>\n",
       "      <td>여</td>\n",
       "      <td>기혼</td>\n",
       "      <td>경기 용인시 수지구 동천동</td>\n",
       "      <td>1977</td>\n",
       "      <td>41</td>\n",
       "      <td>40</td>\n",
       "      <td>1457</td>\n",
       "    </tr>\n",
       "    <tr>\n",
       "      <th>130</th>\n",
       "      <td>2246.0</td>\n",
       "      <td>7963710</td>\n",
       "      <td>1684.00</td>\n",
       "      <td>정상회원</td>\n",
       "      <td>여</td>\n",
       "      <td>기혼</td>\n",
       "      <td>경기 용인시 수지구 풍덕천동</td>\n",
       "      <td>1978</td>\n",
       "      <td>40</td>\n",
       "      <td>40</td>\n",
       "      <td>1440</td>\n",
       "    </tr>\n",
       "    <tr>\n",
       "      <th>186</th>\n",
       "      <td>2310.0</td>\n",
       "      <td>8750730</td>\n",
       "      <td>1686.00</td>\n",
       "      <td>정상회원</td>\n",
       "      <td>여</td>\n",
       "      <td>기혼</td>\n",
       "      <td>경기 용인시 수지구 풍덕천2</td>\n",
       "      <td>1975</td>\n",
       "      <td>43</td>\n",
       "      <td>40</td>\n",
       "      <td>1432</td>\n",
       "    </tr>\n",
       "    <tr>\n",
       "      <th>578</th>\n",
       "      <td>2747.0</td>\n",
       "      <td>6940750</td>\n",
       "      <td>1640.90</td>\n",
       "      <td>정상회원</td>\n",
       "      <td>여</td>\n",
       "      <td>기혼</td>\n",
       "      <td>경기 용인시 수지구 풍덕천2</td>\n",
       "      <td>1977</td>\n",
       "      <td>41</td>\n",
       "      <td>40</td>\n",
       "      <td>1432</td>\n",
       "    </tr>\n",
       "    <tr>\n",
       "      <th>262</th>\n",
       "      <td>2397.0</td>\n",
       "      <td>9319260</td>\n",
       "      <td>1687.80</td>\n",
       "      <td>정상회원</td>\n",
       "      <td>여</td>\n",
       "      <td>기혼</td>\n",
       "      <td>경기 용인시 수지구 풍덕천2</td>\n",
       "      <td>1969</td>\n",
       "      <td>49</td>\n",
       "      <td>40</td>\n",
       "      <td>1427</td>\n",
       "    </tr>\n",
       "    <tr>\n",
       "      <th>766</th>\n",
       "      <td>2950.0</td>\n",
       "      <td>9004990</td>\n",
       "      <td>1790.80</td>\n",
       "      <td>정상회원</td>\n",
       "      <td>여</td>\n",
       "      <td>기혼</td>\n",
       "      <td>경기 용인시 수지구 동천동</td>\n",
       "      <td>1956</td>\n",
       "      <td>62</td>\n",
       "      <td>60</td>\n",
       "      <td>1386</td>\n",
       "    </tr>\n",
       "  </tbody>\n",
       "</table>\n",
       "</div>"
      ],
      "text/plain": [
       "        회원번호      구매금액     구매수량  회원상태 성별 결혼유무               주소    생년  연령  \\\n",
       "156   2277.0  21950630  4425.70  정상회원  여   기혼  경기 용인시 수지구 풍덕천2  1971  47   \n",
       "3645  5856.0  21217470  4006.96    탈퇴  여   기혼   경기 용인시 수지구 신봉동  1972  46   \n",
       "142   2260.0  18681595  3870.15  정상회원  여   기혼  경기 용인시 수지구 풍덕천동  1977  41   \n",
       "2857  5068.0  21285710  4180.50    탈퇴  여   기혼   경기 용인시 수지구 동천동  1971  47   \n",
       "479   2637.0  19646542  3566.35    탈퇴  남   기혼  서울 중구 장충동1가 31-  1983  35   \n",
       "2441  4649.0  16471290  3447.20    탈퇴  여   기혼  경기 용인시 수지구 풍덕천2  1972  46   \n",
       "1928  4135.0  18381620  3219.43    탈퇴  여   기혼   경기 용인시 수지구 신봉동  1969  49   \n",
       "103   2214.0  14895300  2986.40  정상회원  여   기혼  경기 용인시 수지구 풍덕천2  1976  42   \n",
       "39    2141.0  15302800  2896.70  정상회원  여   기혼  경기 용인시 수지구 풍덕천2  1968  50   \n",
       "372   2521.0  13609730  2985.55  정상회원  여   기혼   경기 용인시 수지구 신봉동  1974  44   \n",
       "692   2871.0  15670140  2834.65  정상회원  여   기혼   경기 용인시 수지구 성복동  1970  48   \n",
       "1012  3203.0  13786410  2785.40    탈퇴  여   기혼   경기 용인시 수지구 동천동  1970  48   \n",
       "113   2229.0  13395720  2647.50  정상회원  여   기혼  경기 용인시 수지구 풍덕천동  1976  42   \n",
       "166   2288.0  17170370  2921.50  정상회원  여   기혼  경기 용인시 수지구 풍덕천동  1968  50   \n",
       "2199  4406.0  12824280  2831.30    탈퇴  여   기혼   경기 용인시 수지구 신봉동  1977  41   \n",
       "144   2263.0  11917750  2279.30  정상회원  여   기혼  경기 용인시 수지구 풍덕천2  1967  51   \n",
       "3487  5698.0   9511415  2024.37    탈퇴  여   기혼   경기 용인시 수지구 신봉동  1973  45   \n",
       "307   2449.0   8853580  2048.35  정상회원  여   기혼  경기 용인시 수지구 풍덕천2  1973  45   \n",
       "233   2363.0  10033855  2088.85  정상회원  여   기혼  경기 용인시 수지구 풍덕천동  1971  47   \n",
       "1421  3626.0   9143295  1775.23    탈퇴  여   기혼   경기 용인시 수지구 신봉동  1971  47   \n",
       "2     2103.0   8273550  1675.40  정상회원  여   기혼   경기 용인시 수지구 동천동  1972  46   \n",
       "806   2992.0   9183600  1900.20  정상회원  여   기혼  경기 용인시 수지구 풍덕천동  1969  49   \n",
       "217   2344.0   7601560  1717.50  정상회원  여   기혼   경기 용인시 수지구 신봉동  1976  42   \n",
       "3866  6078.0   7644660  1651.84    탈퇴  여   기혼   경기 용인시 수지구 신봉동  1979  39   \n",
       "395   2546.0   8281750  1653.40  정상회원  여   기혼   경기 용인시 수지구 동천동  1977  41   \n",
       "130   2246.0   7963710  1684.00  정상회원  여   기혼  경기 용인시 수지구 풍덕천동  1978  40   \n",
       "186   2310.0   8750730  1686.00  정상회원  여   기혼  경기 용인시 수지구 풍덕천2  1975  43   \n",
       "578   2747.0   6940750  1640.90  정상회원  여   기혼  경기 용인시 수지구 풍덕천2  1977  41   \n",
       "262   2397.0   9319260  1687.80  정상회원  여   기혼  경기 용인시 수지구 풍덕천2  1969  49   \n",
       "766   2950.0   9004990  1790.80  정상회원  여   기혼   경기 용인시 수지구 동천동  1956  62   \n",
       "\n",
       "      연령대_new  방문횟수  \n",
       "156        40  3806  \n",
       "3645       40  3756  \n",
       "142        40  3514  \n",
       "2857       40  3462  \n",
       "479        30  2977  \n",
       "2441       40  2896  \n",
       "1928       40  2768  \n",
       "103        40  2762  \n",
       "39         50  2644  \n",
       "372        40  2497  \n",
       "692        40  2466  \n",
       "1012       40  2423  \n",
       "113        40  2383  \n",
       "166        50  2318  \n",
       "2199       40  2274  \n",
       "144        50  2026  \n",
       "3487       40  1857  \n",
       "307        40  1836  \n",
       "233        40  1790  \n",
       "1421       40  1619  \n",
       "2          40  1598  \n",
       "806        40  1575  \n",
       "217        40  1539  \n",
       "3866       30  1513  \n",
       "395        40  1457  \n",
       "130        40  1440  \n",
       "186        40  1432  \n",
       "578        40  1432  \n",
       "262        40  1427  \n",
       "766        60  1386  "
      ]
     },
     "execution_count": 172,
     "metadata": {},
     "output_type": "execute_result"
    }
   ],
   "source": [
    "# 결혼 유무에서 기혼에 해당하는 고객들 중 방문횟수가 높은 상위 30명 고객 명단 확인\n",
    "df1[df1['결혼유무']=='기혼'].nlargest(30,'방문횟수')"
   ]
  },
  {
   "cell_type": "markdown",
   "id": "6cefdace-a6e7-4104-b0e5-5b8656d1c97e",
   "metadata": {},
   "source": [
    "## 10\n",
    "#### **df1 데이터에서, '구매금액'의 합이 가장 높은 2개의 '연령대_new'를 확인하여, 두 연령대간의 '구매금액'의 평균의 차이가 있는지 가설검정을 수행**"
   ]
  },
  {
   "cell_type": "code",
   "execution_count": 175,
   "id": "d9062d06-e7ff-4f8d-ba8a-6b7128c5d6c0",
   "metadata": {},
   "outputs": [
    {
     "data": {
      "text/plain": [
       "연령대_new\n",
       "40    1679359996\n",
       "50     984225059\n",
       "Name: 구매금액, dtype: int64"
      ]
     },
     "execution_count": 175,
     "metadata": {},
     "output_type": "execute_result"
    }
   ],
   "source": [
    "# 구매금액의 합이 가장 높은 2개의 연령대_new 확인\n",
    "df1.groupby('연령대_new')['구매금액'].sum().sort_values(ascending=False)[:2]"
   ]
  },
  {
   "cell_type": "code",
   "execution_count": 176,
   "id": "224a6f71-269e-4a2c-a742-295a54a06ee3",
   "metadata": {},
   "outputs": [],
   "source": [
    "# 두 연령대 (40대, 50대) 데이터 각각 생성\n",
    "df1_40=df1[df1['연령대_new']==40]\n",
    "df1_50=df1[df1['연령대_new']==50]"
   ]
  },
  {
   "cell_type": "code",
   "execution_count": 177,
   "id": "55304f5d-ef5c-4c22-b86c-acb2e2d24f61",
   "metadata": {},
   "outputs": [
    {
     "data": {
      "text/plain": [
       "NormaltestResult(statistic=np.float64(1057.5880494292712), pvalue=np.float64(2.2267579064575226e-230))"
      ]
     },
     "execution_count": 177,
     "metadata": {},
     "output_type": "execute_result"
    }
   ],
   "source": [
    "# 두 연령대의 구매금액의 분포가 정규성을 따르는지 확인\n",
    "# h0: 40대의 구매금액의 분포가 정규성을 따름\n",
    "stats.normaltest(df1_40['구매금액'])"
   ]
  },
  {
   "cell_type": "code",
   "execution_count": 179,
   "id": "fbd4d2c8-146a-4ca6-8114-071cdcd3b2ea",
   "metadata": {},
   "outputs": [
    {
     "data": {
      "text/plain": [
       "NormaltestResult(statistic=np.float64(651.4052688314714), pvalue=np.float64(3.541140284058096e-142))"
      ]
     },
     "execution_count": 179,
     "metadata": {},
     "output_type": "execute_result"
    }
   ],
   "source": [
    "# h0: 50대의 구매금액의 분포가 정규성을 따름\n",
    "stats.normaltest(df1_50['구매금액'])"
   ]
  },
  {
   "cell_type": "code",
   "execution_count": 181,
   "id": "341dd5aa-093f-4543-91c2-3d0f7e47188d",
   "metadata": {},
   "outputs": [
    {
     "data": {
      "text/plain": [
       "MannwhitneyuResult(statistic=np.float64(588357.5), pvalue=np.float64(0.1656017021193642))"
      ]
     },
     "execution_count": 181,
     "metadata": {},
     "output_type": "execute_result"
    }
   ],
   "source": [
    "# 유의수준 0.05에서 두 귀무가설 모두 reject\n",
    "# 두 집단의 구매금액이 정규성을 따르지 않으므로 Mann Whitney U 검정 수행\n",
    "# h0: 두 집단의 구매금액의 평균의 차이가 없음\n",
    "stats.mannwhitneyu(df1_40['구매금액'],df1_50['구매금액'])"
   ]
  },
  {
   "cell_type": "markdown",
   "id": "743d8656-a478-4160-a73c-18d9fc39fe2c",
   "metadata": {},
   "source": [
    "- 따라서 유의수준 0.05에서 h0 accpet\n",
    "- 두 집단의 구매금액의 평균에 차이가 없음"
   ]
  },
  {
   "cell_type": "markdown",
   "id": "67dd06ea-5db1-4b5c-96c1-a7c1c1be94d2",
   "metadata": {},
   "source": [
    "## 11\n",
    "#### **df1 데이터에서 '성별'에 따른 '총구매금액'의 평균을 시각화**"
   ]
  },
  {
   "cell_type": "code",
   "execution_count": 191,
   "id": "d1d45f03-125d-4594-b5e9-467032d61014",
   "metadata": {},
   "outputs": [
    {
     "data": {
      "text/plain": [
       "<Axes: xlabel='성별', ylabel='구매금액'>"
      ]
     },
     "execution_count": 191,
     "metadata": {},
     "output_type": "execute_result"
    },
    {
     "data": {
      "image/png": "[encoded data removed]",
      "text/plain": [
       "<Figure size 1500x1200 with 4 Axes>"
      ]
     },
     "metadata": {},
     "output_type": "display_data"
    }
   ],
   "source": [
    "import seaborn as sns\n",
    "import matplotlib.pyplot as plt\n",
    "import matplotlib as mpl\n",
    "mpl.rc('font',family='Malgun Gothic')\n",
    "# 4개의 그래프 한번에 보여주기\n",
    "fig,axes=plt.subplots(2,2,figsize=(15,12))\n",
    "fig.suptitle('성별에 따른 구매금액 분석 시각화')\n",
    "# 1 막대그래프로 시각화\n",
    "# 성별에 따른 총구매금액 평균 계산\n",
    "avg_purchase = df1.groupby('성별')['구매금액'].mean().reset_index()\n",
    "# 막대 그래프 시각화\n",
    "sns.barplot(x='성별', y='구매금액', data=avg_purchase,ax=axes[0,0])\n",
    "\n",
    "# 2 박스 그래프로 시각화\n",
    "sns.boxplot(x='성별', y='구매금액', data=df1, ax=axes[0, 1])\n",
    "\n",
    "# 3 히스토그램 시각화\n",
    "sns.histplot(data=df1, x='구매금액', hue='성별', kde=True, bins=30, ax=axes[1, 0])\n",
    "\n",
    "# 4 바이올린 플랏으로 시각화\n",
    "sns.violinplot(x='성별', y='구매금액', data=df1, ax=axes[1, 1])"
   ]
  },
  {
   "cell_type": "markdown",
   "id": "a533b124-98ba-4a0b-b72d-24db5f9a4b3d",
   "metadata": {},
   "source": [
    "## 12\n",
    "#### **'1회방문구매평균'을 바탕으로 고객등급을 분류하고자 한다. 10만원 이상 고객은 A / 5만원 이상은 B / 2만원 이상 C / 나머지는 D 등급으로 분류하여, '고객등급'이라는 새로운 항목을 생성**"
   ]
  },
  {
   "cell_type": "code",
   "execution_count": 192,
   "id": "29791ef9-7792-4a5b-9642-3fc802ca4e13",
   "metadata": {},
   "outputs": [
    {
     "data": {
      "text/html": [
       "<div>\n",
       "<style scoped>\n",
       "    .dataframe tbody tr th:only-of-type {\n",
       "        vertical-align: middle;\n",
       "    }\n",
       "\n",
       "    .dataframe tbody tr th {\n",
       "        vertical-align: top;\n",
       "    }\n",
       "\n",
       "    .dataframe thead th {\n",
       "        text-align: right;\n",
       "    }\n",
       "</style>\n",
       "<table border=\"1\" class=\"dataframe\">\n",
       "  <thead>\n",
       "    <tr style=\"text-align: right;\">\n",
       "      <th></th>\n",
       "      <th>회원번호</th>\n",
       "      <th>구매금액</th>\n",
       "      <th>구매수량</th>\n",
       "      <th>회원상태</th>\n",
       "      <th>성별</th>\n",
       "      <th>결혼유무</th>\n",
       "      <th>주소</th>\n",
       "      <th>생년</th>\n",
       "      <th>연령</th>\n",
       "      <th>연령대_new</th>\n",
       "      <th>방문횟수</th>\n",
       "    </tr>\n",
       "  </thead>\n",
       "  <tbody>\n",
       "    <tr>\n",
       "      <th>0</th>\n",
       "      <td>2101.0</td>\n",
       "      <td>1991230</td>\n",
       "      <td>382.0</td>\n",
       "      <td>정상회원</td>\n",
       "      <td>여</td>\n",
       "      <td>기혼</td>\n",
       "      <td>서울 강북구 미아동 134-</td>\n",
       "      <td>1967</td>\n",
       "      <td>51</td>\n",
       "      <td>50</td>\n",
       "      <td>342</td>\n",
       "    </tr>\n",
       "    <tr>\n",
       "      <th>1</th>\n",
       "      <td>2102.0</td>\n",
       "      <td>2095860</td>\n",
       "      <td>472.5</td>\n",
       "      <td>정상회원</td>\n",
       "      <td>여</td>\n",
       "      <td>미혼</td>\n",
       "      <td>경기 용인시 수지구 동천동</td>\n",
       "      <td>1947</td>\n",
       "      <td>71</td>\n",
       "      <td>70</td>\n",
       "      <td>409</td>\n",
       "    </tr>\n",
       "    <tr>\n",
       "      <th>2</th>\n",
       "      <td>2103.0</td>\n",
       "      <td>8273550</td>\n",
       "      <td>1675.4</td>\n",
       "      <td>정상회원</td>\n",
       "      <td>여</td>\n",
       "      <td>기혼</td>\n",
       "      <td>경기 용인시 수지구 동천동</td>\n",
       "      <td>1972</td>\n",
       "      <td>46</td>\n",
       "      <td>40</td>\n",
       "      <td>1598</td>\n",
       "    </tr>\n",
       "    <tr>\n",
       "      <th>3</th>\n",
       "      <td>2104.0</td>\n",
       "      <td>6289495</td>\n",
       "      <td>1401.8</td>\n",
       "      <td>정상회원</td>\n",
       "      <td>여</td>\n",
       "      <td>미혼</td>\n",
       "      <td>경기 용인시 수지구 성복동</td>\n",
       "      <td>1969</td>\n",
       "      <td>49</td>\n",
       "      <td>40</td>\n",
       "      <td>1180</td>\n",
       "    </tr>\n",
       "    <tr>\n",
       "      <th>4</th>\n",
       "      <td>2105.0</td>\n",
       "      <td>3067930</td>\n",
       "      <td>602.0</td>\n",
       "      <td>정상회원</td>\n",
       "      <td>여</td>\n",
       "      <td>기혼</td>\n",
       "      <td>경기 용인시 수지구 동천동</td>\n",
       "      <td>1948</td>\n",
       "      <td>70</td>\n",
       "      <td>70</td>\n",
       "      <td>512</td>\n",
       "    </tr>\n",
       "  </tbody>\n",
       "</table>\n",
       "</div>"
      ],
      "text/plain": [
       "     회원번호     구매금액    구매수량  회원상태 성별 결혼유무               주소    생년  연령  연령대_new  \\\n",
       "0  2101.0  1991230   382.0  정상회원  여   기혼  서울 강북구 미아동 134-  1967  51       50   \n",
       "1  2102.0  2095860   472.5  정상회원  여   미혼   경기 용인시 수지구 동천동  1947  71       70   \n",
       "2  2103.0  8273550  1675.4  정상회원  여   기혼   경기 용인시 수지구 동천동  1972  46       40   \n",
       "3  2104.0  6289495  1401.8  정상회원  여   미혼   경기 용인시 수지구 성복동  1969  49       40   \n",
       "4  2105.0  3067930   602.0  정상회원  여   기혼   경기 용인시 수지구 동천동  1948  70       70   \n",
       "\n",
       "   방문횟수  \n",
       "0   342  \n",
       "1   409  \n",
       "2  1598  \n",
       "3  1180  \n",
       "4   512  "
      ]
     },
     "execution_count": 192,
     "metadata": {},
     "output_type": "execute_result"
    }
   ],
   "source": [
    "df1.head()"
   ]
  },
  {
   "cell_type": "code",
   "execution_count": 195,
   "id": "7757fa2d-00c1-48d5-8083-22017ce0b410",
   "metadata": {},
   "outputs": [
    {
     "data": {
      "text/html": [
       "<div>\n",
       "<style scoped>\n",
       "    .dataframe tbody tr th:only-of-type {\n",
       "        vertical-align: middle;\n",
       "    }\n",
       "\n",
       "    .dataframe tbody tr th {\n",
       "        vertical-align: top;\n",
       "    }\n",
       "\n",
       "    .dataframe thead th {\n",
       "        text-align: right;\n",
       "    }\n",
       "</style>\n",
       "<table border=\"1\" class=\"dataframe\">\n",
       "  <thead>\n",
       "    <tr style=\"text-align: right;\">\n",
       "      <th></th>\n",
       "      <th>회원번호</th>\n",
       "      <th>구매금액</th>\n",
       "      <th>구매수량</th>\n",
       "      <th>회원상태</th>\n",
       "      <th>성별</th>\n",
       "      <th>결혼유무</th>\n",
       "      <th>주소</th>\n",
       "      <th>생년</th>\n",
       "      <th>연령</th>\n",
       "      <th>연령대_new</th>\n",
       "      <th>방문횟수</th>\n",
       "      <th>1회방문구매평균</th>\n",
       "    </tr>\n",
       "  </thead>\n",
       "  <tbody>\n",
       "    <tr>\n",
       "      <th>0</th>\n",
       "      <td>2101.0</td>\n",
       "      <td>1991230</td>\n",
       "      <td>382.0</td>\n",
       "      <td>정상회원</td>\n",
       "      <td>여</td>\n",
       "      <td>기혼</td>\n",
       "      <td>서울 강북구 미아동 134-</td>\n",
       "      <td>1967</td>\n",
       "      <td>51</td>\n",
       "      <td>50</td>\n",
       "      <td>342</td>\n",
       "      <td>5822.31</td>\n",
       "    </tr>\n",
       "    <tr>\n",
       "      <th>1</th>\n",
       "      <td>2102.0</td>\n",
       "      <td>2095860</td>\n",
       "      <td>472.5</td>\n",
       "      <td>정상회원</td>\n",
       "      <td>여</td>\n",
       "      <td>미혼</td>\n",
       "      <td>경기 용인시 수지구 동천동</td>\n",
       "      <td>1947</td>\n",
       "      <td>71</td>\n",
       "      <td>70</td>\n",
       "      <td>409</td>\n",
       "      <td>5124.35</td>\n",
       "    </tr>\n",
       "    <tr>\n",
       "      <th>2</th>\n",
       "      <td>2103.0</td>\n",
       "      <td>8273550</td>\n",
       "      <td>1675.4</td>\n",
       "      <td>정상회원</td>\n",
       "      <td>여</td>\n",
       "      <td>기혼</td>\n",
       "      <td>경기 용인시 수지구 동천동</td>\n",
       "      <td>1972</td>\n",
       "      <td>46</td>\n",
       "      <td>40</td>\n",
       "      <td>1598</td>\n",
       "      <td>5177.44</td>\n",
       "    </tr>\n",
       "    <tr>\n",
       "      <th>3</th>\n",
       "      <td>2104.0</td>\n",
       "      <td>6289495</td>\n",
       "      <td>1401.8</td>\n",
       "      <td>정상회원</td>\n",
       "      <td>여</td>\n",
       "      <td>미혼</td>\n",
       "      <td>경기 용인시 수지구 성복동</td>\n",
       "      <td>1969</td>\n",
       "      <td>49</td>\n",
       "      <td>40</td>\n",
       "      <td>1180</td>\n",
       "      <td>5330.08</td>\n",
       "    </tr>\n",
       "    <tr>\n",
       "      <th>4</th>\n",
       "      <td>2105.0</td>\n",
       "      <td>3067930</td>\n",
       "      <td>602.0</td>\n",
       "      <td>정상회원</td>\n",
       "      <td>여</td>\n",
       "      <td>기혼</td>\n",
       "      <td>경기 용인시 수지구 동천동</td>\n",
       "      <td>1948</td>\n",
       "      <td>70</td>\n",
       "      <td>70</td>\n",
       "      <td>512</td>\n",
       "      <td>5992.05</td>\n",
       "    </tr>\n",
       "  </tbody>\n",
       "</table>\n",
       "</div>"
      ],
      "text/plain": [
       "     회원번호     구매금액    구매수량  회원상태 성별 결혼유무               주소    생년  연령  연령대_new  \\\n",
       "0  2101.0  1991230   382.0  정상회원  여   기혼  서울 강북구 미아동 134-  1967  51       50   \n",
       "1  2102.0  2095860   472.5  정상회원  여   미혼   경기 용인시 수지구 동천동  1947  71       70   \n",
       "2  2103.0  8273550  1675.4  정상회원  여   기혼   경기 용인시 수지구 동천동  1972  46       40   \n",
       "3  2104.0  6289495  1401.8  정상회원  여   미혼   경기 용인시 수지구 성복동  1969  49       40   \n",
       "4  2105.0  3067930   602.0  정상회원  여   기혼   경기 용인시 수지구 동천동  1948  70       70   \n",
       "\n",
       "   방문횟수  1회방문구매평균  \n",
       "0   342   5822.31  \n",
       "1   409   5124.35  \n",
       "2  1598   5177.44  \n",
       "3  1180   5330.08  \n",
       "4   512   5992.05  "
      ]
     },
     "execution_count": 195,
     "metadata": {},
     "output_type": "execute_result"
    }
   ],
   "source": [
    "# 1회방문구매평균 변수 생성\n",
    "# 이때 소숫점 셋째자리에서 반올림\n",
    "df1['1회방문구매평균']=round(df1['구매금액']/df1['방문횟수'],2)\n",
    "df1.head()"
   ]
  },
  {
   "cell_type": "code",
   "execution_count": 197,
   "id": "ec1f605d-264f-44b8-9861-3987c2a5cd24",
   "metadata": {},
   "outputs": [
    {
     "data": {
      "text/html": [
       "<div>\n",
       "<style scoped>\n",
       "    .dataframe tbody tr th:only-of-type {\n",
       "        vertical-align: middle;\n",
       "    }\n",
       "\n",
       "    .dataframe tbody tr th {\n",
       "        vertical-align: top;\n",
       "    }\n",
       "\n",
       "    .dataframe thead th {\n",
       "        text-align: right;\n",
       "    }\n",
       "</style>\n",
       "<table border=\"1\" class=\"dataframe\">\n",
       "  <thead>\n",
       "    <tr style=\"text-align: right;\">\n",
       "      <th></th>\n",
       "      <th>1회방문구매평균</th>\n",
       "      <th>고객등급</th>\n",
       "    </tr>\n",
       "  </thead>\n",
       "  <tbody>\n",
       "    <tr>\n",
       "      <th>4280</th>\n",
       "      <td>5727.78</td>\n",
       "      <td>D</td>\n",
       "    </tr>\n",
       "    <tr>\n",
       "      <th>4281</th>\n",
       "      <td>7500.00</td>\n",
       "      <td>D</td>\n",
       "    </tr>\n",
       "    <tr>\n",
       "      <th>4282</th>\n",
       "      <td>6166.67</td>\n",
       "      <td>D</td>\n",
       "    </tr>\n",
       "    <tr>\n",
       "      <th>4283</th>\n",
       "      <td>5300.00</td>\n",
       "      <td>D</td>\n",
       "    </tr>\n",
       "    <tr>\n",
       "      <th>4284</th>\n",
       "      <td>9888.57</td>\n",
       "      <td>D</td>\n",
       "    </tr>\n",
       "  </tbody>\n",
       "</table>\n",
       "</div>"
      ],
      "text/plain": [
       "      1회방문구매평균 고객등급\n",
       "4280   5727.78    D\n",
       "4281   7500.00    D\n",
       "4282   6166.67    D\n",
       "4283   5300.00    D\n",
       "4284   9888.57    D"
      ]
     },
     "execution_count": 197,
     "metadata": {},
     "output_type": "execute_result"
    }
   ],
   "source": [
    "# 고객등급 변수 생성\n",
    "# 구간 설정\n",
    "bins = [0, 20000, 50000, 100000, float('inf')] \n",
    "# 구간에 대한 레이블 설정\n",
    "labels = ['D', 'C', 'B', 'A'] \n",
    "# 이때 right=False로 구간의 오른쪽 경계를 포함하지 않도록 설정\n",
    "df1['고객등급'] = pd.cut(df1['1회방문구매평균'], bins=bins, labels=labels, right=False)\n",
    "# 결과 확인\n",
    "df1[['1회방문구매평균', '고객등급']].tail()"
   ]
  },
  {
   "cell_type": "code",
   "execution_count": 198,
   "id": "912c810f-bb0b-4462-ae9b-f31b2ed23c19",
   "metadata": {},
   "outputs": [
    {
     "data": {
      "text/plain": [
       "고객등급\n",
       "D    4160\n",
       "C     111\n",
       "B       8\n",
       "A       6\n",
       "Name: count, dtype: int64"
      ]
     },
     "execution_count": 198,
     "metadata": {},
     "output_type": "execute_result"
    }
   ],
   "source": [
    "df1['고객등급'].value_counts()"
   ]
  },
  {
   "cell_type": "markdown",
   "id": "7f4bde51-bb93-41d5-903a-e6621a179861",
   "metadata": {},
   "source": [
    "## 13. \n",
    "#### **'고객등급'을 입력했을 때, 해당 고객등급에서 '성별'에 따른 '총구매금액' 기술통계량을계산하여 'result9_등급명.xlsx'저장하는 프로그램을 구성**\n"
   ]
  },
  {
   "cell_type": "code",
   "execution_count": 210,
   "id": "543214d7-fc2b-46d9-8ef5-49ded2025ce1",
   "metadata": {},
   "outputs": [],
   "source": [
    "def my_func():\n",
    "    # 고객 등급 입력\n",
    "    ans=input('고객등급을 입력하세요')\n",
    "    # 입력한 등급의 고객 데이터 추출\n",
    "    df1_ans=df1[df1['고객등급']==ans]\n",
    "    # 성별에 따른 총구매금액의 기술통계량 계산\n",
    "    df1_ans=df1_ans.groupby('성별')['구매금액'].describe()\n",
    "    # 엑셀에 저장\n",
    "    df1_ans.to_excel('C:/Users/sshyu/OneDrive/바탕 화면/DSA_13기/result9_{}.xlsx'.format(ans))"
   ]
  },
  {
   "cell_type": "code",
   "execution_count": 207,
   "id": "96c05ae1-99bc-4d31-bc4d-c4fdf1233927",
   "metadata": {},
   "outputs": [
    {
     "name": "stdin",
     "output_type": "stream",
     "text": [
      "고객등급을 입력하세요 C\n"
     ]
    }
   ],
   "source": [
    "my_func()"
   ]
  },
  {
   "cell_type": "code",
   "execution_count": 209,
   "id": "bc2a2129-734e-44de-93c1-e1ae811737a2",
   "metadata": {},
   "outputs": [
    {
     "data": {
      "text/html": [
       "<div>\n",
       "<style scoped>\n",
       "    .dataframe tbody tr th:only-of-type {\n",
       "        vertical-align: middle;\n",
       "    }\n",
       "\n",
       "    .dataframe tbody tr th {\n",
       "        vertical-align: top;\n",
       "    }\n",
       "\n",
       "    .dataframe thead th {\n",
       "        text-align: right;\n",
       "    }\n",
       "</style>\n",
       "<table border=\"1\" class=\"dataframe\">\n",
       "  <thead>\n",
       "    <tr style=\"text-align: right;\">\n",
       "      <th></th>\n",
       "      <th>성별</th>\n",
       "      <th>count</th>\n",
       "      <th>mean</th>\n",
       "      <th>std</th>\n",
       "      <th>min</th>\n",
       "      <th>25%</th>\n",
       "      <th>50%</th>\n",
       "      <th>75%</th>\n",
       "      <th>max</th>\n",
       "    </tr>\n",
       "  </thead>\n",
       "  <tbody>\n",
       "    <tr>\n",
       "      <th>0</th>\n",
       "      <td>남</td>\n",
       "      <td>22</td>\n",
       "      <td>126806.818182</td>\n",
       "      <td>155316.561757</td>\n",
       "      <td>22000</td>\n",
       "      <td>38400</td>\n",
       "      <td>72600</td>\n",
       "      <td>142075</td>\n",
       "      <td>702800</td>\n",
       "    </tr>\n",
       "    <tr>\n",
       "      <th>1</th>\n",
       "      <td>여</td>\n",
       "      <td>89</td>\n",
       "      <td>95083.820225</td>\n",
       "      <td>139877.762923</td>\n",
       "      <td>20000</td>\n",
       "      <td>26500</td>\n",
       "      <td>43300</td>\n",
       "      <td>88000</td>\n",
       "      <td>1077750</td>\n",
       "    </tr>\n",
       "  </tbody>\n",
       "</table>\n",
       "</div>"
      ],
      "text/plain": [
       "  성별  count           mean            std    min    25%    50%     75%  \\\n",
       "0  남     22  126806.818182  155316.561757  22000  38400  72600  142075   \n",
       "1  여     89   95083.820225  139877.762923  20000  26500  43300   88000   \n",
       "\n",
       "       max  \n",
       "0   702800  \n",
       "1  1077750  "
      ]
     },
     "execution_count": 209,
     "metadata": {},
     "output_type": "execute_result"
    }
   ],
   "source": [
    "# 결과 확인\n",
    "pd.read_excel('C:/Users/sshyu/OneDrive/바탕 화면/DSA_13기/result9_C.xlsx')"
   ]
  }
 ],
 "metadata": {
  "kernelspec": {
   "display_name": "Python 3 (ipykernel)",
   "language": "python",
   "name": "python3"
  },
  "language_info": {
   "codemirror_mode": {
    "name": "ipython",
    "version": 3
   },
   "file_extension": ".py",
   "mimetype": "text/x-python",
   "name": "python",
   "nbconvert_exporter": "python",
   "pygments_lexer": "ipython3",
   "version": "3.12.5"
  }
 },
 "nbformat": 4,
 "nbformat_minor": 5
}
