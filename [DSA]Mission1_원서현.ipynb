{
 "cells": [
  {
   "cell_type": "markdown",
   "id": "a092c4c1-09c1-41e9-8f4f-0024e7b917fa",
   "metadata": {},
   "source": [
    "## 1 .\n",
    "자료구조 Dictionary를 이용하여, if 문 없이 연도를 입력했을 때 윤년/평년을 판별하여 출력하는 프로그램을 생성하시오.\n"
   ]
  },
  {
   "cell_type": "code",
   "execution_count": 4,
   "id": "18598ee1-567e-4863-80b6-ca34ec670e00",
   "metadata": {},
   "outputs": [
    {
     "name": "stdin",
     "output_type": "stream",
     "text": [
      "연도를 입력하세요:  300\n"
     ]
    },
    {
     "name": "stdout",
     "output_type": "stream",
     "text": [
      "300년은 평년입니다.\n"
     ]
    }
   ],
   "source": [
    "## SOL 1\n",
    "# Dictionary를 사용하여 윤년/평년 매핑하기\n",
    "year_type = {\n",
    "    True: \"윤년\",\n",
    "    False: \"평년\"\n",
    "}\n",
    "\n",
    "# 연도 입력\n",
    "year = int(input(\"연도를 입력하세요: \"))\n",
    "\n",
    "# 윤년 여부 계산\n",
    "# 4, 100으로 나누어 떨어지는 년도를 평년이라고 계산\n",
    "leap_year_check = (year % 4 == 0) and (year % 100 != 0) or (year % 400 == 0)\n",
    "\n",
    "# 결과 출력\n",
    "print(f\"{year}년은 {year_type[leap_year_check]}입니다.\")\n"
   ]
  },
  {
   "cell_type": "code",
   "execution_count": 8,
   "id": "956cec68-8795-4936-b526-b93550094ff7",
   "metadata": {},
   "outputs": [
    {
     "name": "stdin",
     "output_type": "stream",
     "text": [
      "연도를 입력하세요:  500\n"
     ]
    },
    {
     "name": "stdout",
     "output_type": "stream",
     "text": [
      "500년은 평년입니다.\n"
     ]
    }
   ],
   "source": [
    "### SOL 2\n",
    "# 함수를 만들어 윤년/평년 계산기기\n",
    "# 윤년인지 확인하는 함수\n",
    "def is_leapyear(year):\n",
    "    return (year % 4 == 0 and year % 100 != 0) or (year % 400 == 0)\n",
    "\n",
    "# 4, 100으로 나누어떨어지면 True, 아니면 False를 출력\n",
    "\n",
    "# Dictionary를 사용하여 판별 함수 매핑하기\n",
    "year_type = {\n",
    "    True: \"윤년\",\n",
    "    False: \"평년\"\n",
    "}\n",
    "\n",
    "# 연도 입력\n",
    "year = int(input(\"연도를 입력하세요: \"))\n",
    "\n",
    "# 결과 출력\n",
    "print(f\"{year}년은 {year_type[is_leapyear(year)]}입니다.\")\n"
   ]
  },
  {
   "cell_type": "markdown",
   "id": "841a074c-2803-4bdd-9c9c-6f9454e121b4",
   "metadata": {},
   "source": [
    "## 2. \n",
    "A 학생의 과목별 점수가 아래와 같을 때, 이 점수를 딕셔너리 형태로 선언하고, 평균을 계산하시오\n",
    "\n",
    "\n",
    "- A : 국어 75, 영어 53, 수학 90, 사회 46, 한국사 60, 세계사 70, 과학, 34\n",
    "- 과목명은 Key값, 점수는 Value 값\n"
   ]
  },
  {
   "cell_type": "code",
   "execution_count": 11,
   "id": "c972c793-7d57-4dc7-a637-3d503e60c98e",
   "metadata": {},
   "outputs": [
    {
     "name": "stdout",
     "output_type": "stream",
     "text": [
      "A 학생의 평균 점수는 61.14점 입니다.\n"
     ]
    }
   ],
   "source": [
    "# A 학생의 과목별 점수를 딕셔너리 형태로 선언\n",
    "# 이때 과목명은 Key값, 점수는 Value값에 매핑\n",
    "scores = {\"국어\": 75, \"영어\": 53, \"수학\": 90, \"사회\": 46, \"한국사\": 60, \"세계사\": 70, \"과학\": 34}\n",
    "\n",
    "# 평균 계산 (합계를 과목 수로 나누기)\n",
    "average_score = sum(scores.values()) / len(scores)\n",
    "\n",
    "# 결과 출력\n",
    "# 이때 소수점 이하 두번째 자리까지 표시를 위해 .2f로 포매팅\n",
    "print(f\"A 학생의 평균 점수는 {average_score:.2f}점 입니다.\")"
   ]
  },
  {
   "cell_type": "markdown",
   "id": "67cc06d8-6f82-42ad-a3e3-5a408e560aa0",
   "metadata": {},
   "source": [
    "## 3. \n",
    "어떤 수를 입력했을 때, 입력한 수가 홀수이면 True, 짝수이면 False를 출력하는 프로그램을 제작하시오\n",
    "- if문을 사용 하지 않고 제작\n"
   ]
  },
  {
   "cell_type": "code",
   "execution_count": 13,
   "id": "b778c0de-9028-4739-8e2f-2e9ac3f279bd",
   "metadata": {},
   "outputs": [
    {
     "name": "stdin",
     "output_type": "stream",
     "text": [
      "숫자를 입력하세요:  34\n"
     ]
    },
    {
     "name": "stdout",
     "output_type": "stream",
     "text": [
      "False\n"
     ]
    }
   ],
   "source": [
    "## SOL1\n",
    "# 숫자 입력 (이때 정수 형태로 받음)\n",
    "number = int(input(\"숫자를 입력하세요: \"))\n",
    "\n",
    "# 홀수이면 True, 짝수이면 False\n",
    "result = number % 2 != 0\n",
    "\n",
    "# 결과 출력\n",
    "print(result)"
   ]
  },
  {
   "cell_type": "code",
   "execution_count": 14,
   "id": "1909443d-697b-4e69-bd94-f9286d72b4dc",
   "metadata": {},
   "outputs": [
    {
     "name": "stdin",
     "output_type": "stream",
     "text": [
      "숫자를 입력하세요:  45\n"
     ]
    },
    {
     "name": "stdout",
     "output_type": "stream",
     "text": [
      "True\n"
     ]
    }
   ],
   "source": [
    "## SOL2 - Dictionary를 사용\n",
    "# 홀수/짝수에 대한 결과를 딕셔너리로 정의\n",
    "is_odd = { 0: False, 1: True}\n",
    "\n",
    "# 숫자 입력 (이때 정수 형태로 받음)\n",
    "number = int(input(\"숫자를 입력하세요: \"))\n",
    "\n",
    "# 홀수이면 True, 짝수이면 False\n",
    "result = is_odd[number % 2]\n",
    "\n",
    "# 결과 출력\n",
    "print(result)"
   ]
  },
  {
   "cell_type": "markdown",
   "id": "38e32ea8-2d18-4bd8-a46f-2d9825e95d7c",
   "metadata": {},
   "source": [
    "## 4. \n",
    "For 반복문을 이용하여, 1부터 입력받은 수 까지 제곱 합을 구하는 프로그램을 만드시오.\n",
    "- Ex ) 1² + 2² + 3² + 4² + ... + n²\n"
   ]
  },
  {
   "cell_type": "code",
   "execution_count": 16,
   "id": "4c754473-8568-40a5-8045-fd973fb28933",
   "metadata": {},
   "outputs": [
    {
     "name": "stdin",
     "output_type": "stream",
     "text": [
      "숫자를 입력하세요:  10\n"
     ]
    },
    {
     "name": "stdout",
     "output_type": "stream",
     "text": [
      "1부터 10까지의 제곱 합은 385입니다.\n"
     ]
    }
   ],
   "source": [
    "# 숫자 입력받기\n",
    "n = int(input(\"숫자를 입력하세요: \"))\n",
    "\n",
    "# 제곱 합을 저장할 변수 sum_of_squares 초기화\n",
    "sum_of_squares = 0\n",
    "\n",
    "# for 반복문을 사용하여 1부터 n까지의 수에 대해 제곱 합 계산\n",
    "for i in range(1, n + 1):\n",
    "    # 각 for문을 돌릴 때 계산한 제곱 합을 sum_of_squares에 저장\n",
    "    sum_of_squares += i ** 2\n",
    "\n",
    "# 결과 출력\n",
    "print(f\"1부터 {n}까지의 제곱 합은 {sum_of_squares}입니다.\")\n"
   ]
  },
  {
   "cell_type": "markdown",
   "id": "3094d094-9e02-4fce-9693-7055137531b7",
   "metadata": {},
   "source": [
    "### Python 라이브러리 사용관련 문제\n",
    "- 사무용품을 렌탈해주는 회사에서 발생한 데이터(01_Data.csv)파일을 분석하고자 합니다.\n",
    "- Python의 Pandas 라이브러리로 아래의 문제를 해결해 보세요.\n"
   ]
  },
  {
   "cell_type": "code",
   "execution_count": 18,
   "id": "021f438d-c37d-44f0-93f1-6691b4a41c80",
   "metadata": {},
   "outputs": [],
   "source": [
    "# Pandas 라이브러리\n",
    "import pandas as pd"
   ]
  },
  {
   "cell_type": "markdown",
   "id": "6b82d6ef-61f6-4ad2-a68e-c7533b44dbd3",
   "metadata": {},
   "source": [
    "## 5. \n",
    "데이터 파일을 df1 변수로 선언하고, 데이터의 열개수와 행개수를 계산하시오."
   ]
  },
  {
   "cell_type": "code",
   "execution_count": 30,
   "id": "7e25fd6d-f08b-4ce0-a8e9-d21462383b28",
   "metadata": {},
   "outputs": [
    {
     "name": "stdout",
     "output_type": "stream",
     "text": [
      "df1의 열개수: 20 \n",
      "df1의 행개수: 51301 \n"
     ]
    }
   ],
   "source": [
    "# 데이터 파일을 df1 변수로 선언\n",
    "df1=pd.read_csv(\"C:/Users/sshyu/OneDrive/바탕 화면/DSA_13기/01_Data.csv\")\n",
    "# 데이터의 열개수 계산\n",
    "col_df1=df1.shape[1]\n",
    "# 데이터의 행개수 계산\n",
    "row_df1=df1.shape[0]\n",
    "print(f\"df1의 열개수: {col_df1} \\ndf1의 행개수: {row_df1} \")"
   ]
  },
  {
   "cell_type": "markdown",
   "id": "fa40848b-5088-409f-88c4-87682a4c6a1c",
   "metadata": {},
   "source": [
    "## 6. \n",
    "데이터에서 고객들의 유입경로(Channel)을 분석하고자 한다. 유입경로(Channel)중 가장 많은\n",
    "고객이 유입된 경로를 확인하시오."
   ]
  },
  {
   "cell_type": "code",
   "execution_count": 42,
   "id": "4504f4b6-bfdd-4b3f-9b9d-6bd444a3e41e",
   "metadata": {},
   "outputs": [
    {
     "name": "stdout",
     "output_type": "stream",
     "text": [
      "가장 많은 고객이 유입된 경로: 영업방판\n",
      "해당 경로에 유입된 고객 수: 23767\n"
     ]
    }
   ],
   "source": [
    "# 유입경로별 고객 수 집계\n",
    "channel_counts = df1[\"Channel\"].value_counts()\n",
    "\n",
    "# 가장 많이 고객이 유입된 경로 확인\n",
    "\n",
    "print(f\"가장 많은 고객이 유입된 경로: {channel_counts.idxmax()}\")\n",
    "print(f\"해당 경로에 유입된 고객 수: {channel_counts.max()}\")"
   ]
  },
  {
   "cell_type": "markdown",
   "id": "0a519cd2-3c2f-4b4e-8674-5057b28d6196",
   "metadata": {},
   "source": [
    "## 7. \n",
    "데이터에서 고객들이 가장 많이 계약한 제품군(Product_Type)을 분석하고자 한다. 제품군\n",
    "(Product_Type)에는 어떤 데이터가 있는지 확인하시오"
   ]
  },
  {
   "cell_type": "code",
   "execution_count": 48,
   "id": "a8bda8d5-a946-4ce0-b7b5-51a8b625aa8b",
   "metadata": {},
   "outputs": [
    {
     "name": "stdout",
     "output_type": "stream",
     "text": [
      "제품군 데이터: ['DES-1' 'DES-3A' 'DES-2' 'DES-R4' 'MMC' 'ERA']\n"
     ]
    }
   ],
   "source": [
    "# Product_Type 열의 고유한 값 확인\n",
    "print(f\"제품군 데이터: {df1[\"Product_Type\"].unique()}\")"
   ]
  },
  {
   "cell_type": "code",
   "execution_count": 50,
   "id": "31f4e7aa-05a9-4d2e-82a6-2efe71568369",
   "metadata": {},
   "outputs": [
    {
     "name": "stdout",
     "output_type": "stream",
     "text": [
      "제품군별 계약 수:\n",
      "Product_Type\n",
      "DES-1     39133\n",
      "DES-2      8996\n",
      "DES-3A     2081\n",
      "ERA         644\n",
      "DES-R4      327\n",
      "MMC         120\n",
      "Name: count, dtype: int64\n"
     ]
    }
   ],
   "source": [
    "# Product_Type별 계약 수 확인\n",
    "print(\"제품군별 계약 수:\")\n",
    "print(df1[\"Product_Type\"].value_counts())"
   ]
  },
  {
   "cell_type": "markdown",
   "id": "f6b7b720-e5f5-49c4-91a1-ba5e8d6a92be",
   "metadata": {},
   "source": [
    "## 8. \n",
    "데이터에서 고객들이 결제하는 은행(Bank)를 확인하고자 한다. 결제은행(Bank)항목에서 '신한카드'로 결제하는 고객들의 수를 확인하시오."
   ]
  },
  {
   "cell_type": "code",
   "execution_count": 54,
   "id": "e72ddd5b-f4dc-456b-9962-5d57636ec21a",
   "metadata": {},
   "outputs": [
    {
     "data": {
      "text/plain": [
       "1532"
      ]
     },
     "execution_count": 54,
     "metadata": {},
     "output_type": "execute_result"
    }
   ],
   "source": [
    "# Bank에서 신한카드로 결제하는 고객들의 수 확인\n",
    "df1[df1['Bank']=='신한카드'].shape[0]"
   ]
  },
  {
   "cell_type": "markdown",
   "id": "5d039149-4dc7-4c9a-9b84-c7c6fd7f8141",
   "metadata": {},
   "source": [
    "## 9. \n",
    "유입경로(Channel)에서 '대형마트A'로 유입된 고객들 중, 연체건수(Overdue_count)가 높은 상위 30명의 계약 명단을 추출하여 result4.xlsx 저장하시오."
   ]
  },
  {
   "cell_type": "code",
   "execution_count": 66,
   "id": "36f706ae-6ec4-48da-9a02-6741d97ff5b2",
   "metadata": {},
   "outputs": [],
   "source": [
    "## SOL1\n",
    "# '대형마트A'로 유입된 고객 필터링 및 연체건수 기준으로 정렬 후 상위 30명 추출\n",
    "result4=df1[df1['Channel']=='대형마트A'].sort_values('Overdue_count',ascending=False)[:30]"
   ]
  },
  {
   "cell_type": "code",
   "execution_count": 72,
   "id": "f25bdea8-f723-4b7b-b303-8fdcddc73992",
   "metadata": {},
   "outputs": [],
   "source": [
    "# 결과를 result4.xlsx 파일로 저장\n",
    "result4.to_excel('C:/Users/sshyu/OneDrive/바탕 화면/DSA_13기/result4.xlsx', index=False)"
   ]
  },
  {
   "cell_type": "code",
   "execution_count": 75,
   "id": "fee4a056-2e06-46c0-a60f-0c95d4567153",
   "metadata": {},
   "outputs": [],
   "source": [
    "## SOL2\n",
    "# '대형마트A'로 유입된 고객 필터링 및 연체건수 기준으로 상위 30명 추출\n",
    "result4=df1[df1[\"Channel\"] == \"대형마트A\"].nlargest(30, 'Overdue_count')\n",
    "\n",
    "# 결과를 result4.xlsx 파일로 저장\n",
    "result4.to_excel('C:/Users/sshyu/OneDrive/바탕 화면/DSA_13기/result4.xlsx', index=False)"
   ]
  },
  {
   "cell_type": "code",
   "execution_count": 81,
   "id": "dfe31d2e-32a2-48ca-a1bd-a9d15c94ce0b",
   "metadata": {},
   "outputs": [
    {
     "data": {
      "text/plain": [
       "(30, 20)"
      ]
     },
     "execution_count": 81,
     "metadata": {},
     "output_type": "execute_result"
    }
   ],
   "source": [
    "# 데이터 잘 저장되어 있는지 확인\n",
    "result4_true=pd.read_excel('C:/Users/sshyu/OneDrive/바탕 화면/DSA_13기/result4.xlsx')\n",
    "result4_true.shape"
   ]
  },
  {
   "cell_type": "markdown",
   "id": "0c7d1fa1-71bc-4e9c-95d4-e42fe35b695a",
   "metadata": {},
   "source": [
    "## 10. \n",
    "월랜탈비용(Amount_Month)이 15만원 이상인 고객들 중 판매유형(Sales_Type)이 '렌탈'에\n",
    "해당하는 고객만 추출하여, 해당 데이터의 행(index) 개수를 확인하시오."
   ]
  },
  {
   "cell_type": "code",
   "execution_count": 91,
   "id": "ad10002b-6479-4d68-a165-b5e0ef828db3",
   "metadata": {},
   "outputs": [
    {
     "data": {
      "text/plain": [
       "141"
      ]
     },
     "execution_count": 91,
     "metadata": {},
     "output_type": "execute_result"
    }
   ],
   "source": [
    "# 조건에 맞는 데이터 필터링 후 행 개수 확인\n",
    "df1[(df1['Amount_Month']>=150000) & (df1['Sales_Type']=='렌탈')].shape[0]"
   ]
  },
  {
   "cell_type": "markdown",
   "id": "4c2b688b-5611-4bed-bbab-80ec507ba7bb",
   "metadata": {},
   "source": [
    "## 11. \n",
    "제품군(Product_Type)중 빈도수가 가장 높은 상위 3개의 항목을 추출하여, df2로 선언한 뒤,\n",
    "계약일자(Datetime)에 따른 월렌탈비용(Amount_Month)의 합을 계산해 result5.xlsx파일로 저장하시오"
   ]
  },
  {
   "cell_type": "code",
   "execution_count": 123,
   "id": "4356d2cd-5e78-42ad-9bd8-0b0a5e6dc540",
   "metadata": {},
   "outputs": [
    {
     "data": {
      "text/plain": [
       "Product_Type\n",
       "DES-1     39133\n",
       "DES-2      8996\n",
       "DES-3A     2081\n",
       "Name: count, dtype: int64"
      ]
     },
     "execution_count": 123,
     "metadata": {},
     "output_type": "execute_result"
    }
   ],
   "source": [
    "# 상위 3개의 제품군 추출\n",
    "df1['Product_Type'].value_counts().nlargest(3)"
   ]
  },
  {
   "cell_type": "code",
   "execution_count": 129,
   "id": "2a7cd2a2-a711-4966-b589-cbf0aa5b6155",
   "metadata": {},
   "outputs": [],
   "source": [
    "# 상위 3개의 제품군을 포함한 데이터프레임 선언\n",
    "df2=df1[df1['Product_Type'].isin(df1['Product_Type'].value_counts().nlargest(3).index)]"
   ]
  },
  {
   "cell_type": "code",
   "execution_count": 130,
   "id": "fab6bafd-9d20-48b7-b7fe-1c6640101c64",
   "metadata": {},
   "outputs": [
    {
     "data": {
      "text/plain": [
       "array(['DES-1', 'DES-3A', 'DES-2'], dtype=object)"
      ]
     },
     "execution_count": 130,
     "metadata": {},
     "output_type": "execute_result"
    }
   ],
   "source": [
    "# 데이터가 잘 추출되었는지 확인\n",
    "df2['Product_Type'].unique()"
   ]
  },
  {
   "cell_type": "code",
   "execution_count": 132,
   "id": "a634753d-569c-4bfd-b145-3567b349d95e",
   "metadata": {},
   "outputs": [
    {
     "data": {
      "text/html": [
       "<div>\n",
       "<style scoped>\n",
       "    .dataframe tbody tr th:only-of-type {\n",
       "        vertical-align: middle;\n",
       "    }\n",
       "\n",
       "    .dataframe tbody tr th {\n",
       "        vertical-align: top;\n",
       "    }\n",
       "\n",
       "    .dataframe thead th {\n",
       "        text-align: right;\n",
       "    }\n",
       "</style>\n",
       "<table border=\"1\" class=\"dataframe\">\n",
       "  <thead>\n",
       "    <tr style=\"text-align: right;\">\n",
       "      <th></th>\n",
       "      <th>Index</th>\n",
       "      <th>Member_ID</th>\n",
       "      <th>Sales_Type</th>\n",
       "      <th>Contract_Type</th>\n",
       "      <th>Channel</th>\n",
       "      <th>Datetime</th>\n",
       "      <th>Term</th>\n",
       "      <th>Payment_Type</th>\n",
       "      <th>Product_Type</th>\n",
       "      <th>Amount_Month</th>\n",
       "      <th>Customer_Type</th>\n",
       "      <th>Age</th>\n",
       "      <th>Address1</th>\n",
       "      <th>Address2</th>\n",
       "      <th>State</th>\n",
       "      <th>Overdue_count</th>\n",
       "      <th>Overdue_Type</th>\n",
       "      <th>Gender</th>\n",
       "      <th>Credit_Rank</th>\n",
       "      <th>Bank</th>\n",
       "    </tr>\n",
       "  </thead>\n",
       "  <tbody>\n",
       "    <tr>\n",
       "      <th>0</th>\n",
       "      <td>1</td>\n",
       "      <td>66758234</td>\n",
       "      <td>렌탈</td>\n",
       "      <td>일반계약</td>\n",
       "      <td>영업방판</td>\n",
       "      <td>2019-05-06</td>\n",
       "      <td>60</td>\n",
       "      <td>CMS</td>\n",
       "      <td>DES-1</td>\n",
       "      <td>96900</td>\n",
       "      <td>개인</td>\n",
       "      <td>42.0</td>\n",
       "      <td>경기도</td>\n",
       "      <td>경기도</td>\n",
       "      <td>계약확정</td>\n",
       "      <td>0</td>\n",
       "      <td>없음</td>\n",
       "      <td>여자</td>\n",
       "      <td>9.0</td>\n",
       "      <td>새마을금고</td>\n",
       "    </tr>\n",
       "    <tr>\n",
       "      <th>1</th>\n",
       "      <td>2</td>\n",
       "      <td>66755948</td>\n",
       "      <td>렌탈</td>\n",
       "      <td>교체계약</td>\n",
       "      <td>영업방판</td>\n",
       "      <td>2020-02-20</td>\n",
       "      <td>60</td>\n",
       "      <td>카드이체</td>\n",
       "      <td>DES-1</td>\n",
       "      <td>102900</td>\n",
       "      <td>개인</td>\n",
       "      <td>39.0</td>\n",
       "      <td>경기도</td>\n",
       "      <td>경기도</td>\n",
       "      <td>계약확정</td>\n",
       "      <td>0</td>\n",
       "      <td>없음</td>\n",
       "      <td>남자</td>\n",
       "      <td>2.0</td>\n",
       "      <td>현대카드</td>\n",
       "    </tr>\n",
       "    <tr>\n",
       "      <th>2</th>\n",
       "      <td>3</td>\n",
       "      <td>66756657</td>\n",
       "      <td>렌탈</td>\n",
       "      <td>일반계약</td>\n",
       "      <td>홈쇼핑/방송</td>\n",
       "      <td>2019-02-28</td>\n",
       "      <td>60</td>\n",
       "      <td>CMS</td>\n",
       "      <td>DES-1</td>\n",
       "      <td>96900</td>\n",
       "      <td>개인</td>\n",
       "      <td>48.0</td>\n",
       "      <td>경기도</td>\n",
       "      <td>경기도</td>\n",
       "      <td>계약확정</td>\n",
       "      <td>0</td>\n",
       "      <td>없음</td>\n",
       "      <td>여자</td>\n",
       "      <td>8.0</td>\n",
       "      <td>우리은행</td>\n",
       "    </tr>\n",
       "    <tr>\n",
       "      <th>3</th>\n",
       "      <td>4</td>\n",
       "      <td>66423450</td>\n",
       "      <td>멤버십</td>\n",
       "      <td>멤버십3유형</td>\n",
       "      <td>재계약</td>\n",
       "      <td>2019-05-13</td>\n",
       "      <td>12</td>\n",
       "      <td>CMS</td>\n",
       "      <td>DES-1</td>\n",
       "      <td>66900</td>\n",
       "      <td>개인</td>\n",
       "      <td>39.0</td>\n",
       "      <td>경기도</td>\n",
       "      <td>경기도</td>\n",
       "      <td>계약확정</td>\n",
       "      <td>0</td>\n",
       "      <td>없음</td>\n",
       "      <td>남자</td>\n",
       "      <td>5.0</td>\n",
       "      <td>농협회원조합</td>\n",
       "    </tr>\n",
       "    <tr>\n",
       "      <th>4</th>\n",
       "      <td>5</td>\n",
       "      <td>66423204</td>\n",
       "      <td>멤버십</td>\n",
       "      <td>멤버십3유형</td>\n",
       "      <td>재계약</td>\n",
       "      <td>2019-05-10</td>\n",
       "      <td>12</td>\n",
       "      <td>CMS</td>\n",
       "      <td>DES-1</td>\n",
       "      <td>66900</td>\n",
       "      <td>개인</td>\n",
       "      <td>60.0</td>\n",
       "      <td>경기도</td>\n",
       "      <td>경기도</td>\n",
       "      <td>기간만료</td>\n",
       "      <td>12</td>\n",
       "      <td>있음</td>\n",
       "      <td>남자</td>\n",
       "      <td>8.0</td>\n",
       "      <td>농협회원조합</td>\n",
       "    </tr>\n",
       "  </tbody>\n",
       "</table>\n",
       "</div>"
      ],
      "text/plain": [
       "   Index  Member_ID Sales_Type Contract_Type Channel   Datetime  Term  \\\n",
       "0      1   66758234         렌탈          일반계약    영업방판 2019-05-06    60   \n",
       "1      2   66755948         렌탈          교체계약    영업방판 2020-02-20    60   \n",
       "2      3   66756657         렌탈          일반계약  홈쇼핑/방송 2019-02-28    60   \n",
       "3      4   66423450        멤버십        멤버십3유형     재계약 2019-05-13    12   \n",
       "4      5   66423204        멤버십        멤버십3유형     재계약 2019-05-10    12   \n",
       "\n",
       "  Payment_Type Product_Type  Amount_Month Customer_Type   Age Address1  \\\n",
       "0          CMS        DES-1         96900            개인  42.0      경기도   \n",
       "1         카드이체        DES-1        102900            개인  39.0      경기도   \n",
       "2          CMS        DES-1         96900            개인  48.0      경기도   \n",
       "3          CMS        DES-1         66900            개인  39.0      경기도   \n",
       "4          CMS        DES-1         66900            개인  60.0      경기도   \n",
       "\n",
       "  Address2 State  Overdue_count Overdue_Type Gender  Credit_Rank    Bank  \n",
       "0      경기도  계약확정              0           없음     여자          9.0   새마을금고  \n",
       "1      경기도  계약확정              0           없음     남자          2.0    현대카드  \n",
       "2      경기도  계약확정              0           없음     여자          8.0    우리은행  \n",
       "3      경기도  계약확정              0           없음     남자          5.0  농협회원조합  \n",
       "4      경기도  기간만료             12           있음     남자          8.0  농협회원조합  "
      ]
     },
     "execution_count": 132,
     "metadata": {},
     "output_type": "execute_result"
    }
   ],
   "source": [
    "df2.head()"
   ]
  },
  {
   "cell_type": "code",
   "execution_count": 138,
   "id": "a525e646-e42d-43f4-bd60-0afa7964d6d6",
   "metadata": {},
   "outputs": [],
   "source": [
    "# Datetime열을 datetime 형식으로 변환\n",
    "df2.loc[:, 'Datetime'] = pd.to_datetime(df2['Datetime'])\n",
    "\n",
    "# 계약일자를 기준으로 월별로 그룹화하여 Amount_Month의 합 계산\n",
    "result5 = df2.groupby(df2['Datetime'].dt.to_period('M')).agg({'Amount_Month': 'sum'})\n",
    "\n",
    "# 결과를 result5.xlsx 파일로 저장\n",
    "result5.to_excel('C:/Users/sshyu/OneDrive/바탕 화면/DSA_13기/result5.xlsx', index=True)"
   ]
  },
  {
   "cell_type": "code",
   "execution_count": 139,
   "id": "00758102-376c-4e40-b804-d51d95115648",
   "metadata": {},
   "outputs": [
    {
     "data": {
      "text/html": [
       "<div>\n",
       "<style scoped>\n",
       "    .dataframe tbody tr th:only-of-type {\n",
       "        vertical-align: middle;\n",
       "    }\n",
       "\n",
       "    .dataframe tbody tr th {\n",
       "        vertical-align: top;\n",
       "    }\n",
       "\n",
       "    .dataframe thead th {\n",
       "        text-align: right;\n",
       "    }\n",
       "</style>\n",
       "<table border=\"1\" class=\"dataframe\">\n",
       "  <thead>\n",
       "    <tr style=\"text-align: right;\">\n",
       "      <th></th>\n",
       "      <th>Datetime</th>\n",
       "      <th>Amount_Month</th>\n",
       "    </tr>\n",
       "  </thead>\n",
       "  <tbody>\n",
       "    <tr>\n",
       "      <th>0</th>\n",
       "      <td>2019-01-01</td>\n",
       "      <td>402228780</td>\n",
       "    </tr>\n",
       "    <tr>\n",
       "      <th>1</th>\n",
       "      <td>2019-02-01</td>\n",
       "      <td>606498831</td>\n",
       "    </tr>\n",
       "    <tr>\n",
       "      <th>2</th>\n",
       "      <td>2019-03-01</td>\n",
       "      <td>437542614</td>\n",
       "    </tr>\n",
       "    <tr>\n",
       "      <th>3</th>\n",
       "      <td>2019-04-01</td>\n",
       "      <td>329044242</td>\n",
       "    </tr>\n",
       "    <tr>\n",
       "      <th>4</th>\n",
       "      <td>2019-05-01</td>\n",
       "      <td>273784095</td>\n",
       "    </tr>\n",
       "  </tbody>\n",
       "</table>\n",
       "</div>"
      ],
      "text/plain": [
       "    Datetime  Amount_Month\n",
       "0 2019-01-01     402228780\n",
       "1 2019-02-01     606498831\n",
       "2 2019-03-01     437542614\n",
       "3 2019-04-01     329044242\n",
       "4 2019-05-01     273784095"
      ]
     },
     "execution_count": 139,
     "metadata": {},
     "output_type": "execute_result"
    }
   ],
   "source": [
    "# 데이터 잘 저장되어 있는지 확인\n",
    "result5_true=pd.read_excel('C:/Users/sshyu/OneDrive/바탕 화면/DSA_13기/result5.xlsx')\n",
    "result5_true.head()"
   ]
  }
 ],
 "metadata": {
  "kernelspec": {
   "display_name": "Python 3 (ipykernel)",
   "language": "python",
   "name": "python3"
  },
  "language_info": {
   "codemirror_mode": {
    "name": "ipython",
    "version": 3
   },
   "file_extension": ".py",
   "mimetype": "text/x-python",
   "name": "python",
   "nbconvert_exporter": "python",
   "pygments_lexer": "ipython3",
   "version": "3.12.5"
  }
 },
 "nbformat": 4,
 "nbformat_minor": 5
}
