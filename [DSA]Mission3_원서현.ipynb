{
 "cells": [
  {
   "cell_type": "markdown",
   "id": "fae1bfb6-0c8a-4626-ae18-9542740d1338",
   "metadata": {},
   "source": [
    "- 07_ERP.zip 파일을 압축 해제하여, 해당 3개의 데이터 파일을 불러와 아래의 분석을 실시하시오.\n",
    "- 해당 데이터는 생필품을 납품하는 회사의 ERP Enterprise Resource Planning(전사적 자원 관리)에서 발생한, 유통 관련 데이터이다.\n",
    "- 07_ERP.zip 파일을 압축 해제하여, 해당 3개의 데이터를 불러와 아래와 같이 변환 하시오.\n",
    "\n",
    "기간은 파일 상단에 적힌 기간월을 작성\n",
    "Column 명 '합계'는 앞에 공백이 존재 ' 합계'"
   ]
  },
  {
   "attachments": {
    "b663655a-0980-4584-b332-ecb0b0ac70c6.png": {
     "image/png": "[encoded data removed]"
    }
   },
   "cell_type": "markdown",
   "id": "d9c7976c-7076-4f2d-abf9-55a35a23a9af",
   "metadata": {},
   "source": [
    "![image.png](attachment:b663655a-0980-4584-b332-ecb0b0ac70c6.png)"
   ]
  },
  {
   "cell_type": "markdown",
   "id": "275b86a0-1984-4200-aff0-932431d5ba77",
   "metadata": {},
   "source": [
    "데이터 불러오기"
   ]
  },
  {
   "cell_type": "code",
   "execution_count": 103,
   "id": "3c2061e0-0f51-4749-a9cf-01e7e75ee7ac",
   "metadata": {},
   "outputs": [],
   "source": [
    "import pandas as pd\n",
    "df1=pd.read_excel(\"C:/Users/sshyu/OneDrive/바탕 화면/DSA_13기/기간별상품매출현황_202306.xlsx\")\n",
    "df2=pd.read_excel(\"C:/Users/sshyu/OneDrive/바탕 화면/DSA_13기/기간별상품매출현황_202307.xlsx\")\n",
    "df3=pd.read_excel(\"C:/Users/sshyu/OneDrive/바탕 화면/DSA_13기/기간별상품매출현황_202308.xlsx\")"
   ]
  },
  {
   "cell_type": "markdown",
   "id": "1dc5110e-8a14-4dc1-9059-76bdc91157e7",
   "metadata": {},
   "source": [
    "데이터 확인"
   ]
  },
  {
   "cell_type": "code",
   "execution_count": 65,
   "id": "5adba646-ae36-46d8-b651-4fe4a2f92e45",
   "metadata": {},
   "outputs": [
    {
     "data": {
      "text/html": [
       "<div>\n",
       "<style scoped>\n",
       "    .dataframe tbody tr th:only-of-type {\n",
       "        vertical-align: middle;\n",
       "    }\n",
       "\n",
       "    .dataframe tbody tr th {\n",
       "        vertical-align: top;\n",
       "    }\n",
       "\n",
       "    .dataframe thead th {\n",
       "        text-align: right;\n",
       "    }\n",
       "</style>\n",
       "<table border=\"1\" class=\"dataframe\">\n",
       "  <thead>\n",
       "    <tr style=\"text-align: right;\">\n",
       "      <th></th>\n",
       "      <th>조회기간-시작  = 20230601</th>\n",
       "      <th>Unnamed: 1</th>\n",
       "      <th>Unnamed: 2</th>\n",
       "      <th>Unnamed: 3</th>\n",
       "      <th>Unnamed: 4</th>\n",
       "      <th>Unnamed: 5</th>\n",
       "      <th>Unnamed: 6</th>\n",
       "      <th>Unnamed: 7</th>\n",
       "      <th>Unnamed: 8</th>\n",
       "      <th>Unnamed: 9</th>\n",
       "      <th>...</th>\n",
       "      <th>Unnamed: 636</th>\n",
       "      <th>Unnamed: 637</th>\n",
       "      <th>Unnamed: 638</th>\n",
       "      <th>Unnamed: 639</th>\n",
       "      <th>Unnamed: 640</th>\n",
       "      <th>Unnamed: 641</th>\n",
       "      <th>Unnamed: 642</th>\n",
       "      <th>Unnamed: 643</th>\n",
       "      <th>Unnamed: 644</th>\n",
       "      <th>Unnamed: 645</th>\n",
       "    </tr>\n",
       "  </thead>\n",
       "  <tbody>\n",
       "    <tr>\n",
       "      <th>0</th>\n",
       "      <td>조회기간-종료  = 20230630</td>\n",
       "      <td>NaN</td>\n",
       "      <td>NaN</td>\n",
       "      <td>NaN</td>\n",
       "      <td>NaN</td>\n",
       "      <td>NaN</td>\n",
       "      <td>NaN</td>\n",
       "      <td>NaN</td>\n",
       "      <td>NaN</td>\n",
       "      <td>NaN</td>\n",
       "      <td>...</td>\n",
       "      <td>NaN</td>\n",
       "      <td>NaN</td>\n",
       "      <td>NaN</td>\n",
       "      <td>NaN</td>\n",
       "      <td>NaN</td>\n",
       "      <td>NaN</td>\n",
       "      <td>NaN</td>\n",
       "      <td>NaN</td>\n",
       "      <td>NaN</td>\n",
       "      <td>NaN</td>\n",
       "    </tr>\n",
       "    <tr>\n",
       "      <th>1</th>\n",
       "      <td>순번</td>\n",
       "      <td>상품코드</td>\n",
       "      <td>상품명</td>\n",
       "      <td>합계</td>\n",
       "      <td>(1154)의정부점</td>\n",
       "      <td>(1155)별내점</td>\n",
       "      <td>(1156)풍산점</td>\n",
       "      <td>(1157)김포한강점</td>\n",
       "      <td>(1158)세종점</td>\n",
       "      <td>(1159)킨텍스점</td>\n",
       "      <td>...</td>\n",
       "      <td>(L21)위시티점</td>\n",
       "      <td>(L23)걸포동점</td>\n",
       "      <td>(L27)통일동산점</td>\n",
       "      <td>(L35)성대점</td>\n",
       "      <td>(L36)병점점</td>\n",
       "      <td>(L38)율전점</td>\n",
       "      <td>(L39)본오점</td>\n",
       "      <td>(L40)검암점</td>\n",
       "      <td>(L44)신길점</td>\n",
       "      <td>(L46)용호점</td>\n",
       "    </tr>\n",
       "    <tr>\n",
       "      <th>2</th>\n",
       "      <td>NaN</td>\n",
       "      <td>NaN</td>\n",
       "      <td>NaN</td>\n",
       "      <td>수량</td>\n",
       "      <td>수량</td>\n",
       "      <td>수량</td>\n",
       "      <td>수량</td>\n",
       "      <td>수량</td>\n",
       "      <td>수량</td>\n",
       "      <td>수량</td>\n",
       "      <td>...</td>\n",
       "      <td>수량</td>\n",
       "      <td>수량</td>\n",
       "      <td>수량</td>\n",
       "      <td>수량</td>\n",
       "      <td>수량</td>\n",
       "      <td>수량</td>\n",
       "      <td>수량</td>\n",
       "      <td>수량</td>\n",
       "      <td>수량</td>\n",
       "      <td>수량</td>\n",
       "    </tr>\n",
       "  </tbody>\n",
       "</table>\n",
       "<p>3 rows × 646 columns</p>\n",
       "</div>"
      ],
      "text/plain": [
       "   조회기간-시작  = 20230601 Unnamed: 1 Unnamed: 2 Unnamed: 3  Unnamed: 4  \\\n",
       "0  조회기간-종료  = 20230630        NaN        NaN        NaN         NaN   \n",
       "1                   순번       상품코드        상품명         합계  (1154)의정부점   \n",
       "2                  NaN        NaN        NaN         수량          수량   \n",
       "\n",
       "  Unnamed: 5 Unnamed: 6   Unnamed: 7 Unnamed: 8  Unnamed: 9  ... Unnamed: 636  \\\n",
       "0        NaN        NaN          NaN        NaN         NaN  ...          NaN   \n",
       "1  (1155)별내점  (1156)풍산점  (1157)김포한강점  (1158)세종점  (1159)킨텍스점  ...    (L21)위시티점   \n",
       "2         수량         수량           수량         수량          수량  ...           수량   \n",
       "\n",
       "  Unnamed: 637 Unnamed: 638 Unnamed: 639 Unnamed: 640 Unnamed: 641  \\\n",
       "0          NaN          NaN          NaN          NaN          NaN   \n",
       "1    (L23)걸포동점   (L27)통일동산점     (L35)성대점     (L36)병점점     (L38)율전점   \n",
       "2           수량           수량           수량           수량           수량   \n",
       "\n",
       "  Unnamed: 642 Unnamed: 643 Unnamed: 644 Unnamed: 645  \n",
       "0          NaN          NaN          NaN          NaN  \n",
       "1     (L39)본오점     (L40)검암점     (L44)신길점     (L46)용호점  \n",
       "2           수량           수량           수량           수량  \n",
       "\n",
       "[3 rows x 646 columns]"
      ]
     },
     "execution_count": 65,
     "metadata": {},
     "output_type": "execute_result"
    }
   ],
   "source": [
    "df1.head(3)"
   ]
  },
  {
   "cell_type": "code",
   "execution_count": 66,
   "id": "1c9168af-34e8-477a-84c7-4b92d4189850",
   "metadata": {},
   "outputs": [
    {
     "data": {
      "text/html": [
       "<div>\n",
       "<style scoped>\n",
       "    .dataframe tbody tr th:only-of-type {\n",
       "        vertical-align: middle;\n",
       "    }\n",
       "\n",
       "    .dataframe tbody tr th {\n",
       "        vertical-align: top;\n",
       "    }\n",
       "\n",
       "    .dataframe thead th {\n",
       "        text-align: right;\n",
       "    }\n",
       "</style>\n",
       "<table border=\"1\" class=\"dataframe\">\n",
       "  <thead>\n",
       "    <tr style=\"text-align: right;\">\n",
       "      <th></th>\n",
       "      <th>조회기간-시작  = 20230701</th>\n",
       "      <th>Unnamed: 1</th>\n",
       "      <th>Unnamed: 2</th>\n",
       "      <th>Unnamed: 3</th>\n",
       "      <th>Unnamed: 4</th>\n",
       "      <th>Unnamed: 5</th>\n",
       "      <th>Unnamed: 6</th>\n",
       "      <th>Unnamed: 7</th>\n",
       "      <th>Unnamed: 8</th>\n",
       "      <th>Unnamed: 9</th>\n",
       "      <th>...</th>\n",
       "      <th>Unnamed: 642</th>\n",
       "      <th>Unnamed: 643</th>\n",
       "      <th>Unnamed: 644</th>\n",
       "      <th>Unnamed: 645</th>\n",
       "      <th>Unnamed: 646</th>\n",
       "      <th>Unnamed: 647</th>\n",
       "      <th>Unnamed: 648</th>\n",
       "      <th>Unnamed: 649</th>\n",
       "      <th>Unnamed: 650</th>\n",
       "      <th>Unnamed: 651</th>\n",
       "    </tr>\n",
       "  </thead>\n",
       "  <tbody>\n",
       "    <tr>\n",
       "      <th>0</th>\n",
       "      <td>조회기간-종료  = 20230731</td>\n",
       "      <td>NaN</td>\n",
       "      <td>NaN</td>\n",
       "      <td>NaN</td>\n",
       "      <td>NaN</td>\n",
       "      <td>NaN</td>\n",
       "      <td>NaN</td>\n",
       "      <td>NaN</td>\n",
       "      <td>NaN</td>\n",
       "      <td>NaN</td>\n",
       "      <td>...</td>\n",
       "      <td>NaN</td>\n",
       "      <td>NaN</td>\n",
       "      <td>NaN</td>\n",
       "      <td>NaN</td>\n",
       "      <td>NaN</td>\n",
       "      <td>NaN</td>\n",
       "      <td>NaN</td>\n",
       "      <td>NaN</td>\n",
       "      <td>NaN</td>\n",
       "      <td>NaN</td>\n",
       "    </tr>\n",
       "    <tr>\n",
       "      <th>1</th>\n",
       "      <td>순번</td>\n",
       "      <td>상품코드</td>\n",
       "      <td>상품명</td>\n",
       "      <td>합계</td>\n",
       "      <td>(1154)의정부점</td>\n",
       "      <td>(1155)별내점</td>\n",
       "      <td>(1156)풍산점</td>\n",
       "      <td>(1157)김포한강점</td>\n",
       "      <td>(1158)세종점</td>\n",
       "      <td>(1159)킨텍스점</td>\n",
       "      <td>...</td>\n",
       "      <td>(L21)위시티점</td>\n",
       "      <td>(L23)걸포동점</td>\n",
       "      <td>(L27)통일동산점</td>\n",
       "      <td>(L35)성대점</td>\n",
       "      <td>(L36)병점점</td>\n",
       "      <td>(L38)율전점</td>\n",
       "      <td>(L39)본오점</td>\n",
       "      <td>(L40)검암점</td>\n",
       "      <td>(L44)신길점</td>\n",
       "      <td>(L46)용호점</td>\n",
       "    </tr>\n",
       "    <tr>\n",
       "      <th>2</th>\n",
       "      <td>NaN</td>\n",
       "      <td>NaN</td>\n",
       "      <td>NaN</td>\n",
       "      <td>수량</td>\n",
       "      <td>수량</td>\n",
       "      <td>수량</td>\n",
       "      <td>수량</td>\n",
       "      <td>수량</td>\n",
       "      <td>수량</td>\n",
       "      <td>수량</td>\n",
       "      <td>...</td>\n",
       "      <td>수량</td>\n",
       "      <td>수량</td>\n",
       "      <td>수량</td>\n",
       "      <td>수량</td>\n",
       "      <td>수량</td>\n",
       "      <td>수량</td>\n",
       "      <td>수량</td>\n",
       "      <td>수량</td>\n",
       "      <td>수량</td>\n",
       "      <td>수량</td>\n",
       "    </tr>\n",
       "  </tbody>\n",
       "</table>\n",
       "<p>3 rows × 652 columns</p>\n",
       "</div>"
      ],
      "text/plain": [
       "   조회기간-시작  = 20230701 Unnamed: 1 Unnamed: 2 Unnamed: 3  Unnamed: 4  \\\n",
       "0  조회기간-종료  = 20230731        NaN        NaN        NaN         NaN   \n",
       "1                   순번       상품코드        상품명         합계  (1154)의정부점   \n",
       "2                  NaN        NaN        NaN         수량          수량   \n",
       "\n",
       "  Unnamed: 5 Unnamed: 6   Unnamed: 7 Unnamed: 8  Unnamed: 9  ... Unnamed: 642  \\\n",
       "0        NaN        NaN          NaN        NaN         NaN  ...          NaN   \n",
       "1  (1155)별내점  (1156)풍산점  (1157)김포한강점  (1158)세종점  (1159)킨텍스점  ...    (L21)위시티점   \n",
       "2         수량         수량           수량         수량          수량  ...           수량   \n",
       "\n",
       "  Unnamed: 643 Unnamed: 644 Unnamed: 645 Unnamed: 646 Unnamed: 647  \\\n",
       "0          NaN          NaN          NaN          NaN          NaN   \n",
       "1    (L23)걸포동점   (L27)통일동산점     (L35)성대점     (L36)병점점     (L38)율전점   \n",
       "2           수량           수량           수량           수량           수량   \n",
       "\n",
       "  Unnamed: 648 Unnamed: 649 Unnamed: 650 Unnamed: 651  \n",
       "0          NaN          NaN          NaN          NaN  \n",
       "1     (L39)본오점     (L40)검암점     (L44)신길점     (L46)용호점  \n",
       "2           수량           수량           수량           수량  \n",
       "\n",
       "[3 rows x 652 columns]"
      ]
     },
     "execution_count": 66,
     "metadata": {},
     "output_type": "execute_result"
    }
   ],
   "source": [
    "df2.head(3)"
   ]
  },
  {
   "cell_type": "code",
   "execution_count": 67,
   "id": "1702e787-776a-408d-9ffc-214d894b7069",
   "metadata": {},
   "outputs": [
    {
     "data": {
      "text/html": [
       "<div>\n",
       "<style scoped>\n",
       "    .dataframe tbody tr th:only-of-type {\n",
       "        vertical-align: middle;\n",
       "    }\n",
       "\n",
       "    .dataframe tbody tr th {\n",
       "        vertical-align: top;\n",
       "    }\n",
       "\n",
       "    .dataframe thead th {\n",
       "        text-align: right;\n",
       "    }\n",
       "</style>\n",
       "<table border=\"1\" class=\"dataframe\">\n",
       "  <thead>\n",
       "    <tr style=\"text-align: right;\">\n",
       "      <th></th>\n",
       "      <th>조회기간-시작  = 20230801</th>\n",
       "      <th>Unnamed: 1</th>\n",
       "      <th>Unnamed: 2</th>\n",
       "      <th>Unnamed: 3</th>\n",
       "      <th>Unnamed: 4</th>\n",
       "      <th>Unnamed: 5</th>\n",
       "      <th>Unnamed: 6</th>\n",
       "      <th>Unnamed: 7</th>\n",
       "      <th>Unnamed: 8</th>\n",
       "      <th>Unnamed: 9</th>\n",
       "      <th>...</th>\n",
       "      <th>Unnamed: 646</th>\n",
       "      <th>Unnamed: 647</th>\n",
       "      <th>Unnamed: 648</th>\n",
       "      <th>Unnamed: 649</th>\n",
       "      <th>Unnamed: 650</th>\n",
       "      <th>Unnamed: 651</th>\n",
       "      <th>Unnamed: 652</th>\n",
       "      <th>Unnamed: 653</th>\n",
       "      <th>Unnamed: 654</th>\n",
       "      <th>Unnamed: 655</th>\n",
       "    </tr>\n",
       "  </thead>\n",
       "  <tbody>\n",
       "    <tr>\n",
       "      <th>0</th>\n",
       "      <td>조회기간-종료  = 20230831</td>\n",
       "      <td>NaN</td>\n",
       "      <td>NaN</td>\n",
       "      <td>NaN</td>\n",
       "      <td>NaN</td>\n",
       "      <td>NaN</td>\n",
       "      <td>NaN</td>\n",
       "      <td>NaN</td>\n",
       "      <td>NaN</td>\n",
       "      <td>NaN</td>\n",
       "      <td>...</td>\n",
       "      <td>NaN</td>\n",
       "      <td>NaN</td>\n",
       "      <td>NaN</td>\n",
       "      <td>NaN</td>\n",
       "      <td>NaN</td>\n",
       "      <td>NaN</td>\n",
       "      <td>NaN</td>\n",
       "      <td>NaN</td>\n",
       "      <td>NaN</td>\n",
       "      <td>NaN</td>\n",
       "    </tr>\n",
       "    <tr>\n",
       "      <th>1</th>\n",
       "      <td>순번</td>\n",
       "      <td>상품코드</td>\n",
       "      <td>상품명</td>\n",
       "      <td>합계</td>\n",
       "      <td>(1154)의정부점</td>\n",
       "      <td>(1155)별내점</td>\n",
       "      <td>(1156)풍산점</td>\n",
       "      <td>(1157)김포한강점</td>\n",
       "      <td>(1158)세종점</td>\n",
       "      <td>(1159)킨텍스점</td>\n",
       "      <td>...</td>\n",
       "      <td>(L21)위시티점</td>\n",
       "      <td>(L23)걸포동점</td>\n",
       "      <td>(L27)통일동산점</td>\n",
       "      <td>(L35)성대점</td>\n",
       "      <td>(L36)병점점</td>\n",
       "      <td>(L38)율전점</td>\n",
       "      <td>(L39)본오점</td>\n",
       "      <td>(L40)검암점</td>\n",
       "      <td>(L44)신길점</td>\n",
       "      <td>(L46)용호점</td>\n",
       "    </tr>\n",
       "    <tr>\n",
       "      <th>2</th>\n",
       "      <td>NaN</td>\n",
       "      <td>NaN</td>\n",
       "      <td>NaN</td>\n",
       "      <td>수량</td>\n",
       "      <td>수량</td>\n",
       "      <td>수량</td>\n",
       "      <td>수량</td>\n",
       "      <td>수량</td>\n",
       "      <td>수량</td>\n",
       "      <td>수량</td>\n",
       "      <td>...</td>\n",
       "      <td>수량</td>\n",
       "      <td>수량</td>\n",
       "      <td>수량</td>\n",
       "      <td>수량</td>\n",
       "      <td>수량</td>\n",
       "      <td>수량</td>\n",
       "      <td>수량</td>\n",
       "      <td>수량</td>\n",
       "      <td>수량</td>\n",
       "      <td>수량</td>\n",
       "    </tr>\n",
       "  </tbody>\n",
       "</table>\n",
       "<p>3 rows × 656 columns</p>\n",
       "</div>"
      ],
      "text/plain": [
       "   조회기간-시작  = 20230801 Unnamed: 1 Unnamed: 2 Unnamed: 3  Unnamed: 4  \\\n",
       "0  조회기간-종료  = 20230831        NaN        NaN        NaN         NaN   \n",
       "1                   순번       상품코드        상품명         합계  (1154)의정부점   \n",
       "2                  NaN        NaN        NaN         수량          수량   \n",
       "\n",
       "  Unnamed: 5 Unnamed: 6   Unnamed: 7 Unnamed: 8  Unnamed: 9  ... Unnamed: 646  \\\n",
       "0        NaN        NaN          NaN        NaN         NaN  ...          NaN   \n",
       "1  (1155)별내점  (1156)풍산점  (1157)김포한강점  (1158)세종점  (1159)킨텍스점  ...    (L21)위시티점   \n",
       "2         수량         수량           수량         수량          수량  ...           수량   \n",
       "\n",
       "  Unnamed: 647 Unnamed: 648 Unnamed: 649 Unnamed: 650 Unnamed: 651  \\\n",
       "0          NaN          NaN          NaN          NaN          NaN   \n",
       "1    (L23)걸포동점   (L27)통일동산점     (L35)성대점     (L36)병점점     (L38)율전점   \n",
       "2           수량           수량           수량           수량           수량   \n",
       "\n",
       "  Unnamed: 652 Unnamed: 653 Unnamed: 654 Unnamed: 655  \n",
       "0          NaN          NaN          NaN          NaN  \n",
       "1     (L39)본오점     (L40)검암점     (L44)신길점     (L46)용호점  \n",
       "2           수량           수량           수량           수량  \n",
       "\n",
       "[3 rows x 656 columns]"
      ]
     },
     "execution_count": 67,
     "metadata": {},
     "output_type": "execute_result"
    }
   ],
   "source": [
    "df3.head(3)"
   ]
  },
  {
   "cell_type": "markdown",
   "id": "8a9015c3-10cf-4544-bdc4-7e6ade93ebb6",
   "metadata": {},
   "source": [
    "데이터 변환 함수 만들기"
   ]
  },
  {
   "cell_type": "code",
   "execution_count": 105,
   "id": "d22ff8ed-3a31-427a-a7ea-c1ae3689d3f5",
   "metadata": {},
   "outputs": [],
   "source": [
    "# 데이터 변환\n",
    "def my_func(df,month):\n",
    "    # df의 첫번째 행을 칼럼명으로 사용\n",
    "    df.columns=df.iloc[1]\n",
    "    # 불필요한 행 제거\n",
    "    df=df.iloc[4:].reset_index(drop=True)\n",
    "    # 칼럼에 있던 지점명을 인덱스별로 추출\n",
    "    # id_vars는 기준이 되는 칼럼을 지정, value_vars는 녹여서 같이 행으로 들어갈 칼럼 지정\n",
    "    # value_name을 통해 melt 상태에서의 칼럼명 바꾸기\n",
    "    df=pd.melt(df,id_vars=['순번','상품코드','상품명',' 합계'],var_name='지점',value_name='판매량')\n",
    "    # 기간 열 추가\n",
    "    df['기간']=month\n",
    "    # 상품코드에서 처음 5개의 0을 제거\n",
    "    df['상품코드']=df['상품코드'].astype(str).str.replace('^00000', '', regex=True)\n",
    "    # 상품코드와 순번을 float 타입으로 변환\n",
    "    # 이때 소숫점 밑 한자리까지만 표현되도록 (e+nn 형태 방지)\n",
    "    df['상품코드']=df['상품코드'].astype(float).apply(lambda x: f'{x:.1f}')\n",
    "    df['순번']=df['순번'].astype(float)\n",
    "    # 판매량과 합계를 int형으로 바꾸기\n",
    "    df[['판매량',' 합계']]=df[['판매량',' 합계']].astype(int)\n",
    "    # 열 순서 변경\n",
    "    df=df[['순번', '상품코드', '상품명', '지점', '기간', '판매량', ' 합계']]\n",
    "    return df"
   ]
  },
  {
   "cell_type": "markdown",
   "id": "20399104-0d51-4bfc-93db-7476c097ac2e",
   "metadata": {},
   "source": [
    "데이터 변환 적용"
   ]
  },
  {
   "cell_type": "code",
   "execution_count": 106,
   "id": "4dfd3279-b7bc-4d83-8e4f-74a216fec31b",
   "metadata": {},
   "outputs": [],
   "source": [
    "df1=my_func(df1,'6월')\n",
    "df2=my_func(df2,'7월')\n",
    "df3=my_func(df3,'8월')"
   ]
  },
  {
   "cell_type": "code",
   "execution_count": 107,
   "id": "a0977cee-8c36-46f8-8758-2687c4732f72",
   "metadata": {},
   "outputs": [],
   "source": [
    "# 6월, 7월, 8월 데이터를 하나로 합침\n",
    "df= pd.concat([df1, df2, df3], ignore_index=True).reset_index(drop=True)"
   ]
  },
  {
   "cell_type": "code",
   "execution_count": 108,
   "id": "264f4e04-9697-4b16-b8f6-3f9841243705",
   "metadata": {},
   "outputs": [
    {
     "data": {
      "text/html": [
       "<div>\n",
       "<style scoped>\n",
       "    .dataframe tbody tr th:only-of-type {\n",
       "        vertical-align: middle;\n",
       "    }\n",
       "\n",
       "    .dataframe tbody tr th {\n",
       "        vertical-align: top;\n",
       "    }\n",
       "\n",
       "    .dataframe thead th {\n",
       "        text-align: right;\n",
       "    }\n",
       "</style>\n",
       "<table border=\"1\" class=\"dataframe\">\n",
       "  <thead>\n",
       "    <tr style=\"text-align: right;\">\n",
       "      <th></th>\n",
       "      <th>순번</th>\n",
       "      <th>상품코드</th>\n",
       "      <th>상품명</th>\n",
       "      <th>지점</th>\n",
       "      <th>기간</th>\n",
       "      <th>판매량</th>\n",
       "      <th>합계</th>\n",
       "    </tr>\n",
       "  </thead>\n",
       "  <tbody>\n",
       "    <tr>\n",
       "      <th>0</th>\n",
       "      <td>1.0</td>\n",
       "      <td>1801828.0</td>\n",
       "      <td>자연숨결 식약처 허가 초미세먼지 마스크 대형 60매(KF94)</td>\n",
       "      <td>(1154)의정부점</td>\n",
       "      <td>6월</td>\n",
       "      <td>174</td>\n",
       "      <td>65402</td>\n",
       "    </tr>\n",
       "    <tr>\n",
       "      <th>1</th>\n",
       "      <td>2.0</td>\n",
       "      <td>1801859.0</td>\n",
       "      <td>블루방역황사마스크 65매 KF94</td>\n",
       "      <td>(1154)의정부점</td>\n",
       "      <td>6월</td>\n",
       "      <td>0</td>\n",
       "      <td>1</td>\n",
       "    </tr>\n",
       "    <tr>\n",
       "      <th>2</th>\n",
       "      <td>3.0</td>\n",
       "      <td>40786179.0</td>\n",
       "      <td>클린위즈 매직클리너 얼룩제거 세트</td>\n",
       "      <td>(1154)의정부점</td>\n",
       "      <td>6월</td>\n",
       "      <td>4</td>\n",
       "      <td>2158</td>\n",
       "    </tr>\n",
       "    <tr>\n",
       "      <th>3</th>\n",
       "      <td>4.0</td>\n",
       "      <td>41001356.0</td>\n",
       "      <td>트루마리 순수휴지 30미터 90롤</td>\n",
       "      <td>(1154)의정부점</td>\n",
       "      <td>6월</td>\n",
       "      <td>14</td>\n",
       "      <td>3649</td>\n",
       "    </tr>\n",
       "    <tr>\n",
       "      <th>4</th>\n",
       "      <td>5.0</td>\n",
       "      <td>88005324.0</td>\n",
       "      <td>자연숨결 식약처 허가 초미세먼지 마스크 대형30매 + 중형 30매(KF94)</td>\n",
       "      <td>(1154)의정부점</td>\n",
       "      <td>6월</td>\n",
       "      <td>0</td>\n",
       "      <td>1</td>\n",
       "    </tr>\n",
       "  </tbody>\n",
       "</table>\n",
       "</div>"
      ],
      "text/plain": [
       "    순번        상품코드                                         상품명          지점  \\\n",
       "0  1.0   1801828.0          자연숨결 식약처 허가 초미세먼지 마스크 대형 60매(KF94)  (1154)의정부점   \n",
       "1  2.0   1801859.0                          블루방역황사마스크 65매 KF94  (1154)의정부점   \n",
       "2  3.0  40786179.0                          클린위즈 매직클리너 얼룩제거 세트  (1154)의정부점   \n",
       "3  4.0  41001356.0                          트루마리 순수휴지 30미터 90롤  (1154)의정부점   \n",
       "4  5.0  88005324.0  자연숨결 식약처 허가 초미세먼지 마스크 대형30매 + 중형 30매(KF94)  (1154)의정부점   \n",
       "\n",
       "   기간  판매량     합계  \n",
       "0  6월  174  65402  \n",
       "1  6월    0      1  \n",
       "2  6월    4   2158  \n",
       "3  6월   14   3649  \n",
       "4  6월    0      1  "
      ]
     },
     "execution_count": 108,
     "metadata": {},
     "output_type": "execute_result"
    }
   ],
   "source": [
    "# 데이터 확인하기\n",
    "df.head()"
   ]
  },
  {
   "cell_type": "code",
   "execution_count": 119,
   "id": "8ec1f357-2823-40dd-9d42-c36e53592a25",
   "metadata": {},
   "outputs": [
    {
     "name": "stdout",
     "output_type": "stream",
     "text": [
      "(73830, 7)\n",
      "(78408, 7)\n",
      "(84760, 7)\n",
      "(236998, 7)\n"
     ]
    }
   ],
   "source": [
    "print(df1.shape)\n",
    "print(df2.shape)\n",
    "print(df3.shape)\n",
    "print(df.shape)\n",
    "# 데이터가 잘 합쳐졌는지 확인"
   ]
  },
  {
   "cell_type": "markdown",
   "id": "1b0db24f-7ad7-4658-8a74-286c6c87e588",
   "metadata": {},
   "source": [
    "## 1 \n",
    "**'지점' 중 '판매량'의 합이 가장 높은 2개 지점을 확인하시오.**"
   ]
  },
  {
   "cell_type": "code",
   "execution_count": 110,
   "id": "abcfaa33-ce4d-4c20-b2e4-36b1f37d6944",
   "metadata": {},
   "outputs": [
    {
     "data": {
      "text/plain": [
       "지점\n",
       "(610)부천점    67612\n",
       "(600)안양점    62987\n",
       "Name: 판매량, dtype: int64"
      ]
     },
     "execution_count": 110,
     "metadata": {},
     "output_type": "execute_result"
    }
   ],
   "source": [
    "df.groupby('지점')['판매량'].sum().sort_values(ascending=False)[:2]"
   ]
  },
  {
   "cell_type": "markdown",
   "id": "8be1aa16-67fd-40d9-a6ab-754e2a4525ad",
   "metadata": {},
   "source": [
    "## 2\n",
    "**앞서 확인한, 2개의 지점의 '판매량'에 대해 각각 정규성 검정을 수행하고, 결론을 작성하시오.**"
   ]
  },
  {
   "cell_type": "code",
   "execution_count": 113,
   "id": "3a9a6c91-aa81-4d31-bb6d-de5c07ea1a98",
   "metadata": {},
   "outputs": [],
   "source": [
    "import scipy.stats as stats\n",
    "df_b=df.loc[df['지점']=='(610)부천점']\n",
    "df_o=df.loc[df['지점']=='(600)안양점']"
   ]
  },
  {
   "cell_type": "code",
   "execution_count": 121,
   "id": "384c587f-ffe3-456f-9af5-ba72fc460198",
   "metadata": {},
   "outputs": [
    {
     "data": {
      "text/plain": [
       "NormaltestResult(statistic=np.float64(392.59371327162387), pvalue=np.float64(5.6151110292193245e-86))"
      ]
     },
     "execution_count": 121,
     "metadata": {},
     "output_type": "execute_result"
    }
   ],
   "source": [
    "stats.normaltest(df_b['판매량'])"
   ]
  },
  {
   "cell_type": "markdown",
   "id": "efc8cfa6-391b-421b-a9e3-0986246a6d1a",
   "metadata": {},
   "source": [
    "h0: 부천점 지점 데이터의 판매량이 정규분포를 따름\n",
    "\n",
    "이때 pvalue<a (a=0.05)이므로 h0 reject; 부천점 지점 데이터의 판매량은 정규분포를 따르지 않음"
   ]
  },
  {
   "cell_type": "code",
   "execution_count": 115,
   "id": "55538fa8-1482-499b-9f78-d4994a595ffe",
   "metadata": {},
   "outputs": [
    {
     "data": {
      "text/plain": [
       "NormaltestResult(statistic=np.float64(291.630042482356), pvalue=np.float64(4.71347161815466e-64))"
      ]
     },
     "execution_count": 115,
     "metadata": {},
     "output_type": "execute_result"
    }
   ],
   "source": [
    "stats.normaltest(df_o['판매량'])"
   ]
  },
  {
   "cell_type": "markdown",
   "id": "95514204-83c0-4884-9e68-3364662a0424",
   "metadata": {},
   "source": [
    "h0: 안양점 지점 데이터의 판매량이 정규분포를 따름\n",
    "\n",
    "이때 pvalue<a (a=0.05)이므로 h0 reject; 안양점 지점 데이터의 판매량은 정규분포를 따르지 않음"
   ]
  },
  {
   "cell_type": "markdown",
   "id": "0020665a-2812-4136-8e97-75d621f276df",
   "metadata": {},
   "source": [
    "## 3\n",
    "**앞서 확인한, 2개의 지점의 '판매량'의 대표값(중앙값)의 차이를 계산하고자 한다. 가설을 수립하고, Rank Sum Test를 이용해 가설검정을 수행하시오 .**"
   ]
  },
  {
   "cell_type": "code",
   "execution_count": 368,
   "id": "40a917fe-7d79-404c-899a-47bfc773a068",
   "metadata": {},
   "outputs": [
    {
     "data": {
      "text/plain": [
       "RanksumsResult(statistic=np.float64(0.23404972309949237), pvalue=np.float64(0.8149463770358858))"
      ]
     },
     "execution_count": 368,
     "metadata": {},
     "output_type": "execute_result"
    }
   ],
   "source": [
    "stats.ranksums(df_b['판매량'],df_o['판매량'])"
   ]
  },
  {
   "cell_type": "markdown",
   "id": "3e7a3346-c391-46d5-bd46-7f5627fee15d",
   "metadata": {},
   "source": [
    "h0: 두 지점의 판매량의 중앙값 차이가 없음\n",
    "\n",
    "이때 pvalue>a (a=0.05)이므로 h0 accept; 두 지점의 중앙값 차이가 없음"
   ]
  },
  {
   "cell_type": "code",
   "execution_count": 129,
   "id": "69469143-ef0a-4cd4-bc22-41ca9f40320f",
   "metadata": {},
   "outputs": [
    {
     "name": "stdout",
     "output_type": "stream",
     "text": [
      "부천점 지점의 판매량의 중앙값: 0.0\n",
      "안양점 지점의 판매량의 중앙값: 0.0\n"
     ]
    },
    {
     "data": {
      "text/plain": [
       "Text(0.5, 1.0, '안양점 판매량 히스토그램')"
      ]
     },
     "execution_count": 129,
     "metadata": {},
     "output_type": "execute_result"
    },
    {
     "data": {
      "image/png": "[encoded data removed]",
      "text/plain": [
       "<Figure size 1000x500 with 2 Axes>"
      ]
     },
     "metadata": {},
     "output_type": "display_data"
    }
   ],
   "source": [
    "# 실제 중앙값 확인\n",
    "import matplotlib as mpl\n",
    "import matplotlib.pyplot as plt\n",
    "import seaborn as sns\n",
    "mpl.rc('font',family='Malgun Gothic')\n",
    "print('부천점 지점의 판매량의 중앙값:',df_b['판매량'].median())\n",
    "print('안양점 지점의 판매량의 중앙값:',df_o['판매량'].median())\n",
    "# 그래프 두개 한번에 보여주기\n",
    "fig, axes = plt.subplots(1, 2, figsize=(10,5))\n",
    "sns.histplot(df_b['판매량'],ax=axes[0])\n",
    "axes[0].set_title('부천점 판매량 히스토그램')\n",
    "\n",
    "sns.histplot(df_o['판매량'],ax=axes[1])\n",
    "axes[1].set_title('안양점 판매량 히스토그램')"
   ]
  },
  {
   "cell_type": "markdown",
   "id": "2214214f-baec-42d0-81b4-943645f1f06b",
   "metadata": {},
   "source": [
    "두 지점 모두 판매량의 중앙값이 0이므로 중앙값의 차이가 없음\n",
    "\n",
    "중앙값이 0인 데이터가 너무 많기 때문에 두 지점의 판매량의 중앙값 차이가 무의미할 것이라 판단\n",
    "\n",
    "**판매량이 0인 칼럼을 제외하고 두 집단의 중앙값 차이 확인**"
   ]
  },
  {
   "cell_type": "code",
   "execution_count": 140,
   "id": "9f46986c-bd05-44cf-9c8f-2b3175c6029c",
   "metadata": {},
   "outputs": [
    {
     "data": {
      "text/plain": [
       "RanksumsResult(statistic=np.float64(-2.4991082524377912), pvalue=np.float64(0.012450627158643967))"
      ]
     },
     "execution_count": 140,
     "metadata": {},
     "output_type": "execute_result"
    }
   ],
   "source": [
    "df_bx=df_b.loc[df_b['판매량']!=0]\n",
    "df_ox=df_o.loc[df_o['판매량']!=0]\n",
    "stats.ranksums(df_bx['판매량'],df_ox['판매량'])"
   ]
  },
  {
   "cell_type": "markdown",
   "id": "965f947d-d59c-42b8-ba22-46c744fa3a26",
   "metadata": {},
   "source": [
    "h0: 두 지점의 중앙값 차이가 없음\n",
    "\n",
    "이때 pvalue<a (a=0.05)이므로 h0 reject; 두 지점의 중앙값 차이가 있음"
   ]
  },
  {
   "cell_type": "code",
   "execution_count": 142,
   "id": "ead4fd76-fec2-4ece-9b50-434eb44f7fdd",
   "metadata": {},
   "outputs": [
    {
     "name": "stdout",
     "output_type": "stream",
     "text": [
      "부천점 지점의 판매량의 중앙값(판매량이 0인 값 제외): 106.5\n",
      "안양점 지점의 판매량의 중앙값(판매량이 0인 값 제외): 138.0\n"
     ]
    }
   ],
   "source": [
    "# 실제 데이터 확인\n",
    "print('부천점 지점의 판매량의 중앙값(판매량이 0인 값 제외):',df_bx['판매량'].median())\n",
    "print('안양점 지점의 판매량의 중앙값(판매량이 0인 값 제외):',df_ox['판매량'].median())"
   ]
  },
  {
   "cell_type": "markdown",
   "id": "5b4c242f-01f0-4792-8789-e8889627313d",
   "metadata": {},
   "source": [
    "## 4\n",
    "**앞서 확인한, 2개의 지점의 '판매량'의 Histogram을 Plotly라이브러리로 시각화 하시오.**"
   ]
  },
  {
   "cell_type": "code",
   "execution_count": 131,
   "id": "f065e318-4082-4824-baef-52c9db327f27",
   "metadata": {},
   "outputs": [
    {
     "data": {
      "text/html": [
       "<div>\n",
       "<style scoped>\n",
       "    .dataframe tbody tr th:only-of-type {\n",
       "        vertical-align: middle;\n",
       "    }\n",
       "\n",
       "    .dataframe tbody tr th {\n",
       "        vertical-align: top;\n",
       "    }\n",
       "\n",
       "    .dataframe thead th {\n",
       "        text-align: right;\n",
       "    }\n",
       "</style>\n",
       "<table border=\"1\" class=\"dataframe\">\n",
       "  <thead>\n",
       "    <tr style=\"text-align: right;\">\n",
       "      <th></th>\n",
       "      <th>순번</th>\n",
       "      <th>상품코드</th>\n",
       "      <th>상품명</th>\n",
       "      <th>지점</th>\n",
       "      <th>기간</th>\n",
       "      <th>판매량</th>\n",
       "      <th>합계</th>\n",
       "    </tr>\n",
       "  </thead>\n",
       "  <tbody>\n",
       "    <tr>\n",
       "      <th>53360</th>\n",
       "      <td>1.0</td>\n",
       "      <td>1801828.0</td>\n",
       "      <td>자연숨결 식약처 허가 초미세먼지 마스크 대형 60매(KF94)</td>\n",
       "      <td>(610)부천점</td>\n",
       "      <td>6월</td>\n",
       "      <td>835</td>\n",
       "      <td>65402</td>\n",
       "    </tr>\n",
       "    <tr>\n",
       "      <th>53361</th>\n",
       "      <td>2.0</td>\n",
       "      <td>1801859.0</td>\n",
       "      <td>블루방역황사마스크 65매 KF94</td>\n",
       "      <td>(610)부천점</td>\n",
       "      <td>6월</td>\n",
       "      <td>0</td>\n",
       "      <td>1</td>\n",
       "    </tr>\n",
       "    <tr>\n",
       "      <th>53362</th>\n",
       "      <td>3.0</td>\n",
       "      <td>40786179.0</td>\n",
       "      <td>클린위즈 매직클리너 얼룩제거 세트</td>\n",
       "      <td>(610)부천점</td>\n",
       "      <td>6월</td>\n",
       "      <td>19</td>\n",
       "      <td>2158</td>\n",
       "    </tr>\n",
       "    <tr>\n",
       "      <th>53363</th>\n",
       "      <td>4.0</td>\n",
       "      <td>41001356.0</td>\n",
       "      <td>트루마리 순수휴지 30미터 90롤</td>\n",
       "      <td>(610)부천점</td>\n",
       "      <td>6월</td>\n",
       "      <td>6</td>\n",
       "      <td>3649</td>\n",
       "    </tr>\n",
       "    <tr>\n",
       "      <th>53364</th>\n",
       "      <td>5.0</td>\n",
       "      <td>88005324.0</td>\n",
       "      <td>자연숨결 식약처 허가 초미세먼지 마스크 대형30매 + 중형 30매(KF94)</td>\n",
       "      <td>(610)부천점</td>\n",
       "      <td>6월</td>\n",
       "      <td>0</td>\n",
       "      <td>1</td>\n",
       "    </tr>\n",
       "  </tbody>\n",
       "</table>\n",
       "</div>"
      ],
      "text/plain": [
       "        순번        상품코드                                         상품명        지점  \\\n",
       "53360  1.0   1801828.0          자연숨결 식약처 허가 초미세먼지 마스크 대형 60매(KF94)  (610)부천점   \n",
       "53361  2.0   1801859.0                          블루방역황사마스크 65매 KF94  (610)부천점   \n",
       "53362  3.0  40786179.0                          클린위즈 매직클리너 얼룩제거 세트  (610)부천점   \n",
       "53363  4.0  41001356.0                          트루마리 순수휴지 30미터 90롤  (610)부천점   \n",
       "53364  5.0  88005324.0  자연숨결 식약처 허가 초미세먼지 마스크 대형30매 + 중형 30매(KF94)  (610)부천점   \n",
       "\n",
       "       기간  판매량     합계  \n",
       "53360  6월  835  65402  \n",
       "53361  6월    0      1  \n",
       "53362  6월   19   2158  \n",
       "53363  6월    6   3649  \n",
       "53364  6월    0      1  "
      ]
     },
     "execution_count": 131,
     "metadata": {},
     "output_type": "execute_result"
    }
   ],
   "source": [
    "df_b.head()"
   ]
  },
  {
   "cell_type": "code",
   "execution_count": 133,
   "id": "209e226e-8371-43d5-a58d-62ca1f1c7025",
   "metadata": {},
   "outputs": [
    {
     "data": {
      "application/vnd.plotly.v1+json": {
       "config": {
        "plotlyServerURL": "https://plot.ly"
       },
       "data": [
        {
         "alignmentgroup": "True",
         "bingroup": "x",
         "hovertemplate": "지점=(610)부천점<br>판매량=%{x}<br>count=%{y}<extra></extra>",
         "legendgroup": "(610)부천점",
         "marker": {
          "color": "#636efa",
          "pattern": {
           "shape": ""
          }
         },
         "name": "(610)부천점",
         "offsetgroup": "(610)부천점",
         "orientation": "v",
         "showlegend": true,
         "type": "histogram",
         "x": [
          835,
          0,
          19,
          6,
          0,
          0,
          1722,
          0,
          0,
          0,
          0,
          0,
          0,
          0,
          0,
          533,
          0,
          0,
          0,
          17,
          58,
          0,
          0,
          63,
          22,
          74,
          747,
          0,
          53,
          0,
          47,
          4,
          11,
          0,
          499,
          0,
          0,
          0,
          0,
          163,
          0,
          0,
          215,
          102,
          107,
          67,
          142,
          120,
          0,
          40,
          0,
          46,
          0,
          0,
          7,
          0,
          0,
          176,
          0,
          0,
          0,
          35,
          110,
          57,
          1,
          0,
          30,
          16,
          0,
          0,
          0,
          0,
          0,
          0,
          0,
          0,
          0,
          0,
          0,
          0,
          9,
          6,
          5,
          0,
          876,
          157,
          0,
          0,
          0,
          0,
          979,
          0,
          1405,
          0,
          69,
          2097,
          0,
          323,
          0,
          120,
          1594,
          0,
          3984,
          472,
          172,
          0,
          0,
          0,
          0,
          0,
          0,
          0,
          0,
          2062,
          120,
          1551,
          124,
          80,
          0,
          0,
          124,
          0,
          0,
          0,
          0,
          0,
          0,
          994,
          0,
          0,
          0,
          136,
          47,
          0,
          0,
          59,
          23,
          54,
          452,
          0,
          102,
          0,
          122,
          133,
          0,
          13,
          0,
          569,
          0,
          0,
          0,
          0,
          235,
          0,
          0,
          0,
          129,
          181,
          44,
          112,
          240,
          0,
          20,
          0,
          0,
          17,
          0,
          30,
          0,
          0,
          83,
          0,
          0,
          0,
          0,
          35,
          272,
          110,
          0,
          0,
          0,
          11,
          12,
          0,
          0,
          0,
          0,
          0,
          0,
          0,
          0,
          150,
          0,
          0,
          0,
          0,
          0,
          37,
          15,
          0,
          60,
          669,
          21,
          34,
          14,
          315,
          0,
          21,
          0,
          0,
          0,
          1483,
          0,
          127,
          2393,
          0,
          533,
          0,
          142,
          2231,
          0,
          4832,
          546,
          213,
          0,
          0,
          0,
          0,
          0,
          0,
          9,
          36,
          12,
          0,
          2176,
          164,
          734,
          55,
          97,
          0,
          0,
          2936,
          0,
          0,
          0,
          0,
          0,
          0,
          639,
          0,
          0,
          0,
          0,
          0,
          0,
          61,
          37,
          0,
          0,
          0,
          68,
          27,
          70,
          33,
          0,
          111,
          0,
          185,
          169,
          0,
          9,
          0,
          594,
          0,
          0,
          129,
          0,
          0,
          202,
          120,
          106,
          106,
          196,
          223,
          0,
          0,
          81,
          0,
          263,
          0,
          28,
          33,
          22,
          0,
          17,
          0,
          25,
          0,
          0,
          100,
          0,
          0,
          0,
          14,
          135,
          99,
          0,
          0,
          7,
          25,
          0,
          0,
          0,
          4,
          0,
          0,
          0,
          509,
          0,
          0,
          0,
          0,
          36,
          0,
          0,
          0,
          167,
          0,
          35,
          46,
          9,
          0,
          98,
          29,
          6,
          37,
          43,
          0,
          1662,
          0,
          1521,
          0,
          151,
          2501,
          0,
          543,
          0,
          0,
          1972,
          0,
          4373,
          640,
          187,
          0,
          0,
          0,
          0,
          13,
          120,
          90,
          123,
          0,
          0,
          0,
          1866,
          134
         ],
         "xaxis": "x",
         "yaxis": "y"
        },
        {
         "alignmentgroup": "True",
         "bingroup": "x",
         "hovertemplate": "지점=(600)안양점<br>판매량=%{x}<br>count=%{y}<extra></extra>",
         "legendgroup": "(600)안양점",
         "marker": {
          "color": "#EF553B",
          "pattern": {
           "shape": ""
          }
         },
         "name": "(600)안양점",
         "offsetgroup": "(600)안양점",
         "orientation": "v",
         "showlegend": true,
         "type": "histogram",
         "x": [
          106,
          0,
          24,
          0,
          0,
          790,
          598,
          0,
          0,
          0,
          0,
          0,
          0,
          0,
          0,
          1124,
          0,
          0,
          0,
          45,
          209,
          0,
          0,
          55,
          18,
          86,
          758,
          0,
          218,
          0,
          70,
          0,
          0,
          0,
          567,
          0,
          0,
          0,
          0,
          134,
          0,
          0,
          282,
          105,
          138,
          320,
          104,
          64,
          0,
          124,
          0,
          158,
          0,
          0,
          48,
          0,
          0,
          266,
          0,
          0,
          0,
          186,
          150,
          0,
          0,
          0,
          0,
          15,
          0,
          0,
          103,
          0,
          0,
          0,
          0,
          0,
          0,
          0,
          0,
          0,
          0,
          0,
          0,
          0,
          702,
          282,
          0,
          0,
          0,
          0,
          2225,
          0,
          1099,
          0,
          120,
          2637,
          0,
          194,
          0,
          91,
          1079,
          0,
          1536,
          1020,
          224,
          0,
          0,
          0,
          0,
          25,
          0,
          0,
          0,
          1489,
          67,
          1710,
          366,
          0,
          0,
          299,
          80,
          0,
          0,
          0,
          0,
          0,
          0,
          2167,
          0,
          0,
          0,
          359,
          91,
          0,
          0,
          95,
          13,
          114,
          161,
          0,
          119,
          0,
          66,
          671,
          0,
          0,
          0,
          497,
          0,
          0,
          0,
          0,
          142,
          0,
          0,
          0,
          112,
          261,
          277,
          177,
          80,
          0,
          45,
          0,
          0,
          107,
          0,
          52,
          0,
          0,
          141,
          0,
          0,
          0,
          0,
          63,
          541,
          0,
          0,
          0,
          0,
          0,
          6,
          0,
          0,
          0,
          65,
          0,
          0,
          0,
          0,
          100,
          67,
          0,
          0,
          0,
          0,
          0,
          0,
          0,
          12,
          548,
          1,
          34,
          5,
          233,
          0,
          19,
          0,
          2105,
          0,
          1371,
          0,
          135,
          2365,
          0,
          234,
          0,
          149,
          1048,
          0,
          1583,
          985,
          260,
          0,
          0,
          0,
          0,
          0,
          0,
          0,
          3,
          3,
          0,
          1824,
          115,
          839,
          42,
          45,
          0,
          0,
          1125,
          0,
          0,
          0,
          0,
          0,
          0,
          1193,
          0,
          0,
          0,
          0,
          0,
          0,
          117,
          112,
          0,
          0,
          0,
          127,
          16,
          171,
          0,
          0,
          283,
          0,
          150,
          239,
          0,
          0,
          0,
          520,
          0,
          0,
          102,
          0,
          0,
          168,
          85,
          135,
          206,
          201,
          62,
          0,
          0,
          49,
          0,
          0,
          0,
          50,
          56,
          133,
          0,
          118,
          0,
          66,
          0,
          0,
          136,
          0,
          0,
          0,
          48,
          205,
          0,
          0,
          0,
          0,
          0,
          0,
          0,
          0,
          43,
          0,
          0,
          0,
          798,
          0,
          0,
          0,
          0,
          0,
          0,
          0,
          0,
          210,
          0,
          42,
          55,
          0,
          0,
          23,
          19,
          7,
          37,
          35,
          0,
          1757,
          0,
          1426,
          0,
          231,
          2633,
          0,
          476,
          0,
          49,
          1114,
          0,
          2343,
          1072,
          202,
          0,
          0,
          0,
          0,
          25,
          149,
          30,
          192,
          11,
          0,
          0,
          1345,
          133
         ],
         "xaxis": "x",
         "yaxis": "y"
        }
       ],
       "layout": {
        "autosize": true,
        "barmode": "relative",
        "legend": {
         "title": {
          "text": "지점"
         },
         "tracegroupgap": 0
        },
        "margin": {
         "t": 60
        },
        "template": {
         "data": {
          "bar": [
           {
            "error_x": {
             "color": "#2a3f5f"
            },
            "error_y": {
             "color": "#2a3f5f"
            },
            "marker": {
             "line": {
              "color": "#E5ECF6",
              "width": 0.5
             },
             "pattern": {
              "fillmode": "overlay",
              "size": 10,
              "solidity": 0.2
             }
            },
            "type": "bar"
           }
          ],
          "barpolar": [
           {
            "marker": {
             "line": {
              "color": "#E5ECF6",
              "width": 0.5
             },
             "pattern": {
              "fillmode": "overlay",
              "size": 10,
              "solidity": 0.2
             }
            },
            "type": "barpolar"
           }
          ],
          "carpet": [
           {
            "aaxis": {
             "endlinecolor": "#2a3f5f",
             "gridcolor": "white",
             "linecolor": "white",
             "minorgridcolor": "white",
             "startlinecolor": "#2a3f5f"
            },
            "baxis": {
             "endlinecolor": "#2a3f5f",
             "gridcolor": "white",
             "linecolor": "white",
             "minorgridcolor": "white",
             "startlinecolor": "#2a3f5f"
            },
            "type": "carpet"
           }
          ],
          "choropleth": [
           {
            "colorbar": {
             "outlinewidth": 0,
             "ticks": ""
            },
            "type": "choropleth"
           }
          ],
          "contour": [
           {
            "colorbar": {
             "outlinewidth": 0,
             "ticks": ""
            },
            "colorscale": [
             [
              0,
              "#0d0887"
             ],
             [
              0.1111111111111111,
              "#46039f"
             ],
             [
              0.2222222222222222,
              "#7201a8"
             ],
             [
              0.3333333333333333,
              "#9c179e"
             ],
             [
              0.4444444444444444,
              "#bd3786"
             ],
             [
              0.5555555555555556,
              "#d8576b"
             ],
             [
              0.6666666666666666,
              "#ed7953"
             ],
             [
              0.7777777777777778,
              "#fb9f3a"
             ],
             [
              0.8888888888888888,
              "#fdca26"
             ],
             [
              1,
              "#f0f921"
             ]
            ],
            "type": "contour"
           }
          ],
          "contourcarpet": [
           {
            "colorbar": {
             "outlinewidth": 0,
             "ticks": ""
            },
            "type": "contourcarpet"
           }
          ],
          "heatmap": [
           {
            "colorbar": {
             "outlinewidth": 0,
             "ticks": ""
            },
            "colorscale": [
             [
              0,
              "#0d0887"
             ],
             [
              0.1111111111111111,
              "#46039f"
             ],
             [
              0.2222222222222222,
              "#7201a8"
             ],
             [
              0.3333333333333333,
              "#9c179e"
             ],
             [
              0.4444444444444444,
              "#bd3786"
             ],
             [
              0.5555555555555556,
              "#d8576b"
             ],
             [
              0.6666666666666666,
              "#ed7953"
             ],
             [
              0.7777777777777778,
              "#fb9f3a"
             ],
             [
              0.8888888888888888,
              "#fdca26"
             ],
             [
              1,
              "#f0f921"
             ]
            ],
            "type": "heatmap"
           }
          ],
          "heatmapgl": [
           {
            "colorbar": {
             "outlinewidth": 0,
             "ticks": ""
            },
            "colorscale": [
             [
              0,
              "#0d0887"
             ],
             [
              0.1111111111111111,
              "#46039f"
             ],
             [
              0.2222222222222222,
              "#7201a8"
             ],
             [
              0.3333333333333333,
              "#9c179e"
             ],
             [
              0.4444444444444444,
              "#bd3786"
             ],
             [
              0.5555555555555556,
              "#d8576b"
             ],
             [
              0.6666666666666666,
              "#ed7953"
             ],
             [
              0.7777777777777778,
              "#fb9f3a"
             ],
             [
              0.8888888888888888,
              "#fdca26"
             ],
             [
              1,
              "#f0f921"
             ]
            ],
            "type": "heatmapgl"
           }
          ],
          "histogram": [
           {
            "marker": {
             "pattern": {
              "fillmode": "overlay",
              "size": 10,
              "solidity": 0.2
             }
            },
            "type": "histogram"
           }
          ],
          "histogram2d": [
           {
            "colorbar": {
             "outlinewidth": 0,
             "ticks": ""
            },
            "colorscale": [
             [
              0,
              "#0d0887"
             ],
             [
              0.1111111111111111,
              "#46039f"
             ],
             [
              0.2222222222222222,
              "#7201a8"
             ],
             [
              0.3333333333333333,
              "#9c179e"
             ],
             [
              0.4444444444444444,
              "#bd3786"
             ],
             [
              0.5555555555555556,
              "#d8576b"
             ],
             [
              0.6666666666666666,
              "#ed7953"
             ],
             [
              0.7777777777777778,
              "#fb9f3a"
             ],
             [
              0.8888888888888888,
              "#fdca26"
             ],
             [
              1,
              "#f0f921"
             ]
            ],
            "type": "histogram2d"
           }
          ],
          "histogram2dcontour": [
           {
            "colorbar": {
             "outlinewidth": 0,
             "ticks": ""
            },
            "colorscale": [
             [
              0,
              "#0d0887"
             ],
             [
              0.1111111111111111,
              "#46039f"
             ],
             [
              0.2222222222222222,
              "#7201a8"
             ],
             [
              0.3333333333333333,
              "#9c179e"
             ],
             [
              0.4444444444444444,
              "#bd3786"
             ],
             [
              0.5555555555555556,
              "#d8576b"
             ],
             [
              0.6666666666666666,
              "#ed7953"
             ],
             [
              0.7777777777777778,
              "#fb9f3a"
             ],
             [
              0.8888888888888888,
              "#fdca26"
             ],
             [
              1,
              "#f0f921"
             ]
            ],
            "type": "histogram2dcontour"
           }
          ],
          "mesh3d": [
           {
            "colorbar": {
             "outlinewidth": 0,
             "ticks": ""
            },
            "type": "mesh3d"
           }
          ],
          "parcoords": [
           {
            "line": {
             "colorbar": {
              "outlinewidth": 0,
              "ticks": ""
             }
            },
            "type": "parcoords"
           }
          ],
          "pie": [
           {
            "automargin": true,
            "type": "pie"
           }
          ],
          "scatter": [
           {
            "fillpattern": {
             "fillmode": "overlay",
             "size": 10,
             "solidity": 0.2
            },
            "type": "scatter"
           }
          ],
          "scatter3d": [
           {
            "line": {
             "colorbar": {
              "outlinewidth": 0,
              "ticks": ""
             }
            },
            "marker": {
             "colorbar": {
              "outlinewidth": 0,
              "ticks": ""
             }
            },
            "type": "scatter3d"
           }
          ],
          "scattercarpet": [
           {
            "marker": {
             "colorbar": {
              "outlinewidth": 0,
              "ticks": ""
             }
            },
            "type": "scattercarpet"
           }
          ],
          "scattergeo": [
           {
            "marker": {
             "colorbar": {
              "outlinewidth": 0,
              "ticks": ""
             }
            },
            "type": "scattergeo"
           }
          ],
          "scattergl": [
           {
            "marker": {
             "colorbar": {
              "outlinewidth": 0,
              "ticks": ""
             }
            },
            "type": "scattergl"
           }
          ],
          "scattermapbox": [
           {
            "marker": {
             "colorbar": {
              "outlinewidth": 0,
              "ticks": ""
             }
            },
            "type": "scattermapbox"
           }
          ],
          "scatterpolar": [
           {
            "marker": {
             "colorbar": {
              "outlinewidth": 0,
              "ticks": ""
             }
            },
            "type": "scatterpolar"
           }
          ],
          "scatterpolargl": [
           {
            "marker": {
             "colorbar": {
              "outlinewidth": 0,
              "ticks": ""
             }
            },
            "type": "scatterpolargl"
           }
          ],
          "scatterternary": [
           {
            "marker": {
             "colorbar": {
              "outlinewidth": 0,
              "ticks": ""
             }
            },
            "type": "scatterternary"
           }
          ],
          "surface": [
           {
            "colorbar": {
             "outlinewidth": 0,
             "ticks": ""
            },
            "colorscale": [
             [
              0,
              "#0d0887"
             ],
             [
              0.1111111111111111,
              "#46039f"
             ],
             [
              0.2222222222222222,
              "#7201a8"
             ],
             [
              0.3333333333333333,
              "#9c179e"
             ],
             [
              0.4444444444444444,
              "#bd3786"
             ],
             [
              0.5555555555555556,
              "#d8576b"
             ],
             [
              0.6666666666666666,
              "#ed7953"
             ],
             [
              0.7777777777777778,
              "#fb9f3a"
             ],
             [
              0.8888888888888888,
              "#fdca26"
             ],
             [
              1,
              "#f0f921"
             ]
            ],
            "type": "surface"
           }
          ],
          "table": [
           {
            "cells": {
             "fill": {
              "color": "#EBF0F8"
             },
             "line": {
              "color": "white"
             }
            },
            "header": {
             "fill": {
              "color": "#C8D4E3"
             },
             "line": {
              "color": "white"
             }
            },
            "type": "table"
           }
          ]
         },
         "layout": {
          "annotationdefaults": {
           "arrowcolor": "#2a3f5f",
           "arrowhead": 0,
           "arrowwidth": 1
          },
          "autotypenumbers": "strict",
          "coloraxis": {
           "colorbar": {
            "outlinewidth": 0,
            "ticks": ""
           }
          },
          "colorscale": {
           "diverging": [
            [
             0,
             "#8e0152"
            ],
            [
             0.1,
             "#c51b7d"
            ],
            [
             0.2,
             "#de77ae"
            ],
            [
             0.3,
             "#f1b6da"
            ],
            [
             0.4,
             "#fde0ef"
            ],
            [
             0.5,
             "#f7f7f7"
            ],
            [
             0.6,
             "#e6f5d0"
            ],
            [
             0.7,
             "#b8e186"
            ],
            [
             0.8,
             "#7fbc41"
            ],
            [
             0.9,
             "#4d9221"
            ],
            [
             1,
             "#276419"
            ]
           ],
           "sequential": [
            [
             0,
             "#0d0887"
            ],
            [
             0.1111111111111111,
             "#46039f"
            ],
            [
             0.2222222222222222,
             "#7201a8"
            ],
            [
             0.3333333333333333,
             "#9c179e"
            ],
            [
             0.4444444444444444,
             "#bd3786"
            ],
            [
             0.5555555555555556,
             "#d8576b"
            ],
            [
             0.6666666666666666,
             "#ed7953"
            ],
            [
             0.7777777777777778,
             "#fb9f3a"
            ],
            [
             0.8888888888888888,
             "#fdca26"
            ],
            [
             1,
             "#f0f921"
            ]
           ],
           "sequentialminus": [
            [
             0,
             "#0d0887"
            ],
            [
             0.1111111111111111,
             "#46039f"
            ],
            [
             0.2222222222222222,
             "#7201a8"
            ],
            [
             0.3333333333333333,
             "#9c179e"
            ],
            [
             0.4444444444444444,
             "#bd3786"
            ],
            [
             0.5555555555555556,
             "#d8576b"
            ],
            [
             0.6666666666666666,
             "#ed7953"
            ],
            [
             0.7777777777777778,
             "#fb9f3a"
            ],
            [
             0.8888888888888888,
             "#fdca26"
            ],
            [
             1,
             "#f0f921"
            ]
           ]
          },
          "colorway": [
           "#636efa",
           "#EF553B",
           "#00cc96",
           "#ab63fa",
           "#FFA15A",
           "#19d3f3",
           "#FF6692",
           "#B6E880",
           "#FF97FF",
           "#FECB52"
          ],
          "font": {
           "color": "#2a3f5f"
          },
          "geo": {
           "bgcolor": "white",
           "lakecolor": "white",
           "landcolor": "#E5ECF6",
           "showlakes": true,
           "showland": true,
           "subunitcolor": "white"
          },
          "hoverlabel": {
           "align": "left"
          },
          "hovermode": "closest",
          "mapbox": {
           "style": "light"
          },
          "paper_bgcolor": "white",
          "plot_bgcolor": "#E5ECF6",
          "polar": {
           "angularaxis": {
            "gridcolor": "white",
            "linecolor": "white",
            "ticks": ""
           },
           "bgcolor": "#E5ECF6",
           "radialaxis": {
            "gridcolor": "white",
            "linecolor": "white",
            "ticks": ""
           }
          },
          "scene": {
           "xaxis": {
            "backgroundcolor": "#E5ECF6",
            "gridcolor": "white",
            "gridwidth": 2,
            "linecolor": "white",
            "showbackground": true,
            "ticks": "",
            "zerolinecolor": "white"
           },
           "yaxis": {
            "backgroundcolor": "#E5ECF6",
            "gridcolor": "white",
            "gridwidth": 2,
            "linecolor": "white",
            "showbackground": true,
            "ticks": "",
            "zerolinecolor": "white"
           },
           "zaxis": {
            "backgroundcolor": "#E5ECF6",
            "gridcolor": "white",
            "gridwidth": 2,
            "linecolor": "white",
            "showbackground": true,
            "ticks": "",
            "zerolinecolor": "white"
           }
          },
          "shapedefaults": {
           "line": {
            "color": "#2a3f5f"
           }
          },
          "ternary": {
           "aaxis": {
            "gridcolor": "white",
            "linecolor": "white",
            "ticks": ""
           },
           "baxis": {
            "gridcolor": "white",
            "linecolor": "white",
            "ticks": ""
           },
           "bgcolor": "#E5ECF6",
           "caxis": {
            "gridcolor": "white",
            "linecolor": "white",
            "ticks": ""
           }
          },
          "title": {
           "x": 0.05
          },
          "xaxis": {
           "automargin": true,
           "gridcolor": "white",
           "linecolor": "white",
           "ticks": "",
           "title": {
            "standoff": 15
           },
           "zerolinecolor": "white",
           "zerolinewidth": 2
          },
          "yaxis": {
           "automargin": true,
           "gridcolor": "white",
           "linecolor": "white",
           "ticks": "",
           "title": {
            "standoff": 15
           },
           "zerolinecolor": "white",
           "zerolinewidth": 2
          }
         }
        },
        "xaxis": {
         "anchor": "y",
         "autorange": true,
         "domain": [
          0,
          1
         ],
         "range": [
          -0.5,
          4899.5
         ],
         "title": {
          "text": "판매량"
         },
         "type": "linear"
        },
        "yaxis": {
         "anchor": "x",
         "autorange": true,
         "domain": [
          0,
          1
         ],
         "range": [
          0,
          571.578947368421
         ],
         "title": {
          "text": "count"
         }
        }
       }
      },
      "image/png": "[encoded data removed]",
      "text/html": [
       "<div>                            <div id=\"cc0ad3ab-46b2-4593-b0ac-e301331cfcf1\" class=\"plotly-graph-div\" style=\"height:525px; width:100%;\"></div>            <script type=\"text/javascript\">                require([\"plotly\"], function(Plotly) {                    window.PLOTLYENV=window.PLOTLYENV || {};                                    if (document.getElementById(\"cc0ad3ab-46b2-4593-b0ac-e301331cfcf1\")) {                    Plotly.newPlot(                        \"cc0ad3ab-46b2-4593-b0ac-e301331cfcf1\",                        [{\"alignmentgroup\":\"True\",\"bingroup\":\"x\",\"hovertemplate\":\"\\uc9c0\\uc810=(610)\\ubd80\\ucc9c\\uc810\\u003cbr\\u003e\\ud310\\ub9e4\\ub7c9=%{x}\\u003cbr\\u003ecount=%{y}\\u003cextra\\u003e\\u003c\\u002fextra\\u003e\",\"legendgroup\":\"(610)\\ubd80\\ucc9c\\uc810\",\"marker\":{\"color\":\"#636efa\",\"pattern\":{\"shape\":\"\"}},\"name\":\"(610)\\ubd80\\ucc9c\\uc810\",\"offsetgroup\":\"(610)\\ubd80\\ucc9c\\uc810\",\"orientation\":\"v\",\"showlegend\":true,\"x\":[835,0,19,6,0,0,1722,0,0,0,0,0,0,0,0,533,0,0,0,17,58,0,0,63,22,74,747,0,53,0,47,4,11,0,499,0,0,0,0,163,0,0,215,102,107,67,142,120,0,40,0,46,0,0,7,0,0,176,0,0,0,35,110,57,1,0,30,16,0,0,0,0,0,0,0,0,0,0,0,0,9,6,5,0,876,157,0,0,0,0,979,0,1405,0,69,2097,0,323,0,120,1594,0,3984,472,172,0,0,0,0,0,0,0,0,2062,120,1551,124,80,0,0,124,0,0,0,0,0,0,994,0,0,0,136,47,0,0,59,23,54,452,0,102,0,122,133,0,13,0,569,0,0,0,0,235,0,0,0,129,181,44,112,240,0,20,0,0,17,0,30,0,0,83,0,0,0,0,35,272,110,0,0,0,11,12,0,0,0,0,0,0,0,0,150,0,0,0,0,0,37,15,0,60,669,21,34,14,315,0,21,0,0,0,1483,0,127,2393,0,533,0,142,2231,0,4832,546,213,0,0,0,0,0,0,9,36,12,0,2176,164,734,55,97,0,0,2936,0,0,0,0,0,0,639,0,0,0,0,0,0,61,37,0,0,0,68,27,70,33,0,111,0,185,169,0,9,0,594,0,0,129,0,0,202,120,106,106,196,223,0,0,81,0,263,0,28,33,22,0,17,0,25,0,0,100,0,0,0,14,135,99,0,0,7,25,0,0,0,4,0,0,0,509,0,0,0,0,36,0,0,0,167,0,35,46,9,0,98,29,6,37,43,0,1662,0,1521,0,151,2501,0,543,0,0,1972,0,4373,640,187,0,0,0,0,13,120,90,123,0,0,0,1866,134],\"xaxis\":\"x\",\"yaxis\":\"y\",\"type\":\"histogram\"},{\"alignmentgroup\":\"True\",\"bingroup\":\"x\",\"hovertemplate\":\"\\uc9c0\\uc810=(600)\\uc548\\uc591\\uc810\\u003cbr\\u003e\\ud310\\ub9e4\\ub7c9=%{x}\\u003cbr\\u003ecount=%{y}\\u003cextra\\u003e\\u003c\\u002fextra\\u003e\",\"legendgroup\":\"(600)\\uc548\\uc591\\uc810\",\"marker\":{\"color\":\"#EF553B\",\"pattern\":{\"shape\":\"\"}},\"name\":\"(600)\\uc548\\uc591\\uc810\",\"offsetgroup\":\"(600)\\uc548\\uc591\\uc810\",\"orientation\":\"v\",\"showlegend\":true,\"x\":[106,0,24,0,0,790,598,0,0,0,0,0,0,0,0,1124,0,0,0,45,209,0,0,55,18,86,758,0,218,0,70,0,0,0,567,0,0,0,0,134,0,0,282,105,138,320,104,64,0,124,0,158,0,0,48,0,0,266,0,0,0,186,150,0,0,0,0,15,0,0,103,0,0,0,0,0,0,0,0,0,0,0,0,0,702,282,0,0,0,0,2225,0,1099,0,120,2637,0,194,0,91,1079,0,1536,1020,224,0,0,0,0,25,0,0,0,1489,67,1710,366,0,0,299,80,0,0,0,0,0,0,2167,0,0,0,359,91,0,0,95,13,114,161,0,119,0,66,671,0,0,0,497,0,0,0,0,142,0,0,0,112,261,277,177,80,0,45,0,0,107,0,52,0,0,141,0,0,0,0,63,541,0,0,0,0,0,6,0,0,0,65,0,0,0,0,100,67,0,0,0,0,0,0,0,12,548,1,34,5,233,0,19,0,2105,0,1371,0,135,2365,0,234,0,149,1048,0,1583,985,260,0,0,0,0,0,0,0,3,3,0,1824,115,839,42,45,0,0,1125,0,0,0,0,0,0,1193,0,0,0,0,0,0,117,112,0,0,0,127,16,171,0,0,283,0,150,239,0,0,0,520,0,0,102,0,0,168,85,135,206,201,62,0,0,49,0,0,0,50,56,133,0,118,0,66,0,0,136,0,0,0,48,205,0,0,0,0,0,0,0,0,43,0,0,0,798,0,0,0,0,0,0,0,0,210,0,42,55,0,0,23,19,7,37,35,0,1757,0,1426,0,231,2633,0,476,0,49,1114,0,2343,1072,202,0,0,0,0,25,149,30,192,11,0,0,1345,133],\"xaxis\":\"x\",\"yaxis\":\"y\",\"type\":\"histogram\"}],                        {\"template\":{\"data\":{\"histogram2dcontour\":[{\"type\":\"histogram2dcontour\",\"colorbar\":{\"outlinewidth\":0,\"ticks\":\"\"},\"colorscale\":[[0.0,\"#0d0887\"],[0.1111111111111111,\"#46039f\"],[0.2222222222222222,\"#7201a8\"],[0.3333333333333333,\"#9c179e\"],[0.4444444444444444,\"#bd3786\"],[0.5555555555555556,\"#d8576b\"],[0.6666666666666666,\"#ed7953\"],[0.7777777777777778,\"#fb9f3a\"],[0.8888888888888888,\"#fdca26\"],[1.0,\"#f0f921\"]]}],\"choropleth\":[{\"type\":\"choropleth\",\"colorbar\":{\"outlinewidth\":0,\"ticks\":\"\"}}],\"histogram2d\":[{\"type\":\"histogram2d\",\"colorbar\":{\"outlinewidth\":0,\"ticks\":\"\"},\"colorscale\":[[0.0,\"#0d0887\"],[0.1111111111111111,\"#46039f\"],[0.2222222222222222,\"#7201a8\"],[0.3333333333333333,\"#9c179e\"],[0.4444444444444444,\"#bd3786\"],[0.5555555555555556,\"#d8576b\"],[0.6666666666666666,\"#ed7953\"],[0.7777777777777778,\"#fb9f3a\"],[0.8888888888888888,\"#fdca26\"],[1.0,\"#f0f921\"]]}],\"heatmap\":[{\"type\":\"heatmap\",\"colorbar\":{\"outlinewidth\":0,\"ticks\":\"\"},\"colorscale\":[[0.0,\"#0d0887\"],[0.1111111111111111,\"#46039f\"],[0.2222222222222222,\"#7201a8\"],[0.3333333333333333,\"#9c179e\"],[0.4444444444444444,\"#bd3786\"],[0.5555555555555556,\"#d8576b\"],[0.6666666666666666,\"#ed7953\"],[0.7777777777777778,\"#fb9f3a\"],[0.8888888888888888,\"#fdca26\"],[1.0,\"#f0f921\"]]}],\"heatmapgl\":[{\"type\":\"heatmapgl\",\"colorbar\":{\"outlinewidth\":0,\"ticks\":\"\"},\"colorscale\":[[0.0,\"#0d0887\"],[0.1111111111111111,\"#46039f\"],[0.2222222222222222,\"#7201a8\"],[0.3333333333333333,\"#9c179e\"],[0.4444444444444444,\"#bd3786\"],[0.5555555555555556,\"#d8576b\"],[0.6666666666666666,\"#ed7953\"],[0.7777777777777778,\"#fb9f3a\"],[0.8888888888888888,\"#fdca26\"],[1.0,\"#f0f921\"]]}],\"contourcarpet\":[{\"type\":\"contourcarpet\",\"colorbar\":{\"outlinewidth\":0,\"ticks\":\"\"}}],\"contour\":[{\"type\":\"contour\",\"colorbar\":{\"outlinewidth\":0,\"ticks\":\"\"},\"colorscale\":[[0.0,\"#0d0887\"],[0.1111111111111111,\"#46039f\"],[0.2222222222222222,\"#7201a8\"],[0.3333333333333333,\"#9c179e\"],[0.4444444444444444,\"#bd3786\"],[0.5555555555555556,\"#d8576b\"],[0.6666666666666666,\"#ed7953\"],[0.7777777777777778,\"#fb9f3a\"],[0.8888888888888888,\"#fdca26\"],[1.0,\"#f0f921\"]]}],\"surface\":[{\"type\":\"surface\",\"colorbar\":{\"outlinewidth\":0,\"ticks\":\"\"},\"colorscale\":[[0.0,\"#0d0887\"],[0.1111111111111111,\"#46039f\"],[0.2222222222222222,\"#7201a8\"],[0.3333333333333333,\"#9c179e\"],[0.4444444444444444,\"#bd3786\"],[0.5555555555555556,\"#d8576b\"],[0.6666666666666666,\"#ed7953\"],[0.7777777777777778,\"#fb9f3a\"],[0.8888888888888888,\"#fdca26\"],[1.0,\"#f0f921\"]]}],\"mesh3d\":[{\"type\":\"mesh3d\",\"colorbar\":{\"outlinewidth\":0,\"ticks\":\"\"}}],\"scatter\":[{\"fillpattern\":{\"fillmode\":\"overlay\",\"size\":10,\"solidity\":0.2},\"type\":\"scatter\"}],\"parcoords\":[{\"type\":\"parcoords\",\"line\":{\"colorbar\":{\"outlinewidth\":0,\"ticks\":\"\"}}}],\"scatterpolargl\":[{\"type\":\"scatterpolargl\",\"marker\":{\"colorbar\":{\"outlinewidth\":0,\"ticks\":\"\"}}}],\"bar\":[{\"error_x\":{\"color\":\"#2a3f5f\"},\"error_y\":{\"color\":\"#2a3f5f\"},\"marker\":{\"line\":{\"color\":\"#E5ECF6\",\"width\":0.5},\"pattern\":{\"fillmode\":\"overlay\",\"size\":10,\"solidity\":0.2}},\"type\":\"bar\"}],\"scattergeo\":[{\"type\":\"scattergeo\",\"marker\":{\"colorbar\":{\"outlinewidth\":0,\"ticks\":\"\"}}}],\"scatterpolar\":[{\"type\":\"scatterpolar\",\"marker\":{\"colorbar\":{\"outlinewidth\":0,\"ticks\":\"\"}}}],\"histogram\":[{\"marker\":{\"pattern\":{\"fillmode\":\"overlay\",\"size\":10,\"solidity\":0.2}},\"type\":\"histogram\"}],\"scattergl\":[{\"type\":\"scattergl\",\"marker\":{\"colorbar\":{\"outlinewidth\":0,\"ticks\":\"\"}}}],\"scatter3d\":[{\"type\":\"scatter3d\",\"line\":{\"colorbar\":{\"outlinewidth\":0,\"ticks\":\"\"}},\"marker\":{\"colorbar\":{\"outlinewidth\":0,\"ticks\":\"\"}}}],\"scattermapbox\":[{\"type\":\"scattermapbox\",\"marker\":{\"colorbar\":{\"outlinewidth\":0,\"ticks\":\"\"}}}],\"scatterternary\":[{\"type\":\"scatterternary\",\"marker\":{\"colorbar\":{\"outlinewidth\":0,\"ticks\":\"\"}}}],\"scattercarpet\":[{\"type\":\"scattercarpet\",\"marker\":{\"colorbar\":{\"outlinewidth\":0,\"ticks\":\"\"}}}],\"carpet\":[{\"aaxis\":{\"endlinecolor\":\"#2a3f5f\",\"gridcolor\":\"white\",\"linecolor\":\"white\",\"minorgridcolor\":\"white\",\"startlinecolor\":\"#2a3f5f\"},\"baxis\":{\"endlinecolor\":\"#2a3f5f\",\"gridcolor\":\"white\",\"linecolor\":\"white\",\"minorgridcolor\":\"white\",\"startlinecolor\":\"#2a3f5f\"},\"type\":\"carpet\"}],\"table\":[{\"cells\":{\"fill\":{\"color\":\"#EBF0F8\"},\"line\":{\"color\":\"white\"}},\"header\":{\"fill\":{\"color\":\"#C8D4E3\"},\"line\":{\"color\":\"white\"}},\"type\":\"table\"}],\"barpolar\":[{\"marker\":{\"line\":{\"color\":\"#E5ECF6\",\"width\":0.5},\"pattern\":{\"fillmode\":\"overlay\",\"size\":10,\"solidity\":0.2}},\"type\":\"barpolar\"}],\"pie\":[{\"automargin\":true,\"type\":\"pie\"}]},\"layout\":{\"autotypenumbers\":\"strict\",\"colorway\":[\"#636efa\",\"#EF553B\",\"#00cc96\",\"#ab63fa\",\"#FFA15A\",\"#19d3f3\",\"#FF6692\",\"#B6E880\",\"#FF97FF\",\"#FECB52\"],\"font\":{\"color\":\"#2a3f5f\"},\"hovermode\":\"closest\",\"hoverlabel\":{\"align\":\"left\"},\"paper_bgcolor\":\"white\",\"plot_bgcolor\":\"#E5ECF6\",\"polar\":{\"bgcolor\":\"#E5ECF6\",\"angularaxis\":{\"gridcolor\":\"white\",\"linecolor\":\"white\",\"ticks\":\"\"},\"radialaxis\":{\"gridcolor\":\"white\",\"linecolor\":\"white\",\"ticks\":\"\"}},\"ternary\":{\"bgcolor\":\"#E5ECF6\",\"aaxis\":{\"gridcolor\":\"white\",\"linecolor\":\"white\",\"ticks\":\"\"},\"baxis\":{\"gridcolor\":\"white\",\"linecolor\":\"white\",\"ticks\":\"\"},\"caxis\":{\"gridcolor\":\"white\",\"linecolor\":\"white\",\"ticks\":\"\"}},\"coloraxis\":{\"colorbar\":{\"outlinewidth\":0,\"ticks\":\"\"}},\"colorscale\":{\"sequential\":[[0.0,\"#0d0887\"],[0.1111111111111111,\"#46039f\"],[0.2222222222222222,\"#7201a8\"],[0.3333333333333333,\"#9c179e\"],[0.4444444444444444,\"#bd3786\"],[0.5555555555555556,\"#d8576b\"],[0.6666666666666666,\"#ed7953\"],[0.7777777777777778,\"#fb9f3a\"],[0.8888888888888888,\"#fdca26\"],[1.0,\"#f0f921\"]],\"sequentialminus\":[[0.0,\"#0d0887\"],[0.1111111111111111,\"#46039f\"],[0.2222222222222222,\"#7201a8\"],[0.3333333333333333,\"#9c179e\"],[0.4444444444444444,\"#bd3786\"],[0.5555555555555556,\"#d8576b\"],[0.6666666666666666,\"#ed7953\"],[0.7777777777777778,\"#fb9f3a\"],[0.8888888888888888,\"#fdca26\"],[1.0,\"#f0f921\"]],\"diverging\":[[0,\"#8e0152\"],[0.1,\"#c51b7d\"],[0.2,\"#de77ae\"],[0.3,\"#f1b6da\"],[0.4,\"#fde0ef\"],[0.5,\"#f7f7f7\"],[0.6,\"#e6f5d0\"],[0.7,\"#b8e186\"],[0.8,\"#7fbc41\"],[0.9,\"#4d9221\"],[1,\"#276419\"]]},\"xaxis\":{\"gridcolor\":\"white\",\"linecolor\":\"white\",\"ticks\":\"\",\"title\":{\"standoff\":15},\"zerolinecolor\":\"white\",\"automargin\":true,\"zerolinewidth\":2},\"yaxis\":{\"gridcolor\":\"white\",\"linecolor\":\"white\",\"ticks\":\"\",\"title\":{\"standoff\":15},\"zerolinecolor\":\"white\",\"automargin\":true,\"zerolinewidth\":2},\"scene\":{\"xaxis\":{\"backgroundcolor\":\"#E5ECF6\",\"gridcolor\":\"white\",\"linecolor\":\"white\",\"showbackground\":true,\"ticks\":\"\",\"zerolinecolor\":\"white\",\"gridwidth\":2},\"yaxis\":{\"backgroundcolor\":\"#E5ECF6\",\"gridcolor\":\"white\",\"linecolor\":\"white\",\"showbackground\":true,\"ticks\":\"\",\"zerolinecolor\":\"white\",\"gridwidth\":2},\"zaxis\":{\"backgroundcolor\":\"#E5ECF6\",\"gridcolor\":\"white\",\"linecolor\":\"white\",\"showbackground\":true,\"ticks\":\"\",\"zerolinecolor\":\"white\",\"gridwidth\":2}},\"shapedefaults\":{\"line\":{\"color\":\"#2a3f5f\"}},\"annotationdefaults\":{\"arrowcolor\":\"#2a3f5f\",\"arrowhead\":0,\"arrowwidth\":1},\"geo\":{\"bgcolor\":\"white\",\"landcolor\":\"#E5ECF6\",\"subunitcolor\":\"white\",\"showland\":true,\"showlakes\":true,\"lakecolor\":\"white\"},\"title\":{\"x\":0.05},\"mapbox\":{\"style\":\"light\"}}},\"xaxis\":{\"anchor\":\"y\",\"domain\":[0.0,1.0],\"title\":{\"text\":\"\\ud310\\ub9e4\\ub7c9\"}},\"yaxis\":{\"anchor\":\"x\",\"domain\":[0.0,1.0],\"title\":{\"text\":\"count\"}},\"legend\":{\"title\":{\"text\":\"\\uc9c0\\uc810\"},\"tracegroupgap\":0},\"margin\":{\"t\":60},\"barmode\":\"relative\"},                        {\"responsive\": true}                    ).then(function(){\n",
       "                            \n",
       "var gd = document.getElementById('cc0ad3ab-46b2-4593-b0ac-e301331cfcf1');\n",
       "var x = new MutationObserver(function (mutations, observer) {{\n",
       "        var display = window.getComputedStyle(gd).display;\n",
       "        if (!display || display === 'none') {{\n",
       "            console.log([gd, 'removed!']);\n",
       "            Plotly.purge(gd);\n",
       "            observer.disconnect();\n",
       "        }}\n",
       "}});\n",
       "\n",
       "// Listen for the removal of the full notebook cells\n",
       "var notebookContainer = gd.closest('#notebook-container');\n",
       "if (notebookContainer) {{\n",
       "    x.observe(notebookContainer, {childList: true});\n",
       "}}\n",
       "\n",
       "// Listen for the clearing of the current output cell\n",
       "var outputEl = gd.closest('.output');\n",
       "if (outputEl) {{\n",
       "    x.observe(outputEl, {childList: true});\n",
       "}}\n",
       "\n",
       "                        })                };                });            </script>        </div>"
      ]
     },
     "metadata": {},
     "output_type": "display_data"
    }
   ],
   "source": [
    "import plotly.express as px\n",
    "%matplotlib inline\n",
    "df_bo = pd.concat([df_b, df_o])\n",
    "px.histogram(df_bo,'판매량',color='지점')"
   ]
  },
  {
   "cell_type": "code",
   "execution_count": 138,
   "id": "8927b27f-f33f-4e8b-9f25-d37547668afd",
   "metadata": {},
   "outputs": [
    {
     "data": {
      "application/vnd.plotly.v1+json": {
       "config": {
        "plotlyServerURL": "https://plot.ly"
       },
       "data": [
        {
         "alignmentgroup": "True",
         "bingroup": "x",
         "hovertemplate": "지점=(610)부천점<br>판매량=%{x}<br>count=%{y}<extra></extra>",
         "legendgroup": "(610)부천점",
         "marker": {
          "color": "#636efa",
          "pattern": {
           "shape": ""
          }
         },
         "name": "(610)부천점",
         "offsetgroup": "(610)부천점",
         "orientation": "v",
         "showlegend": true,
         "type": "histogram",
         "x": [
          835,
          19,
          6,
          1722,
          533,
          17,
          58,
          63,
          22,
          74,
          747,
          53,
          47,
          4,
          11,
          499,
          163,
          215,
          102,
          107,
          67,
          142,
          120,
          40,
          46,
          7,
          176,
          35,
          110,
          57,
          1,
          30,
          16,
          9,
          6,
          5,
          876,
          157,
          979,
          1405,
          69,
          2097,
          323,
          120,
          1594,
          3984,
          472,
          172,
          2062,
          120,
          1551,
          124,
          80,
          124,
          994,
          136,
          47,
          59,
          23,
          54,
          452,
          102,
          122,
          133,
          13,
          569,
          235,
          129,
          181,
          44,
          112,
          240,
          20,
          17,
          30,
          83,
          35,
          272,
          110,
          11,
          12,
          150,
          37,
          15,
          60,
          669,
          21,
          34,
          14,
          315,
          21,
          1483,
          127,
          2393,
          533,
          142,
          2231,
          4832,
          546,
          213,
          9,
          36,
          12,
          2176,
          164,
          734,
          55,
          97,
          2936,
          639,
          61,
          37,
          68,
          27,
          70,
          33,
          111,
          185,
          169,
          9,
          594,
          129,
          202,
          120,
          106,
          106,
          196,
          223,
          81,
          263,
          28,
          33,
          22,
          17,
          25,
          100,
          14,
          135,
          99,
          7,
          25,
          4,
          509,
          36,
          167,
          35,
          46,
          9,
          98,
          29,
          6,
          37,
          43,
          1662,
          1521,
          151,
          2501,
          543,
          1972,
          4373,
          640,
          187,
          13,
          120,
          90,
          123,
          1866,
          134
         ],
         "xaxis": "x",
         "yaxis": "y"
        },
        {
         "alignmentgroup": "True",
         "bingroup": "x",
         "hovertemplate": "지점=(600)안양점<br>판매량=%{x}<br>count=%{y}<extra></extra>",
         "legendgroup": "(600)안양점",
         "marker": {
          "color": "#EF553B",
          "pattern": {
           "shape": ""
          }
         },
         "name": "(600)안양점",
         "offsetgroup": "(600)안양점",
         "orientation": "v",
         "showlegend": true,
         "type": "histogram",
         "x": [
          106,
          24,
          790,
          598,
          1124,
          45,
          209,
          55,
          18,
          86,
          758,
          218,
          70,
          567,
          134,
          282,
          105,
          138,
          320,
          104,
          64,
          124,
          158,
          48,
          266,
          186,
          150,
          15,
          103,
          702,
          282,
          2225,
          1099,
          120,
          2637,
          194,
          91,
          1079,
          1536,
          1020,
          224,
          25,
          1489,
          67,
          1710,
          366,
          299,
          80,
          2167,
          359,
          91,
          95,
          13,
          114,
          161,
          119,
          66,
          671,
          497,
          142,
          112,
          261,
          277,
          177,
          80,
          45,
          107,
          52,
          141,
          63,
          541,
          6,
          65,
          100,
          67,
          12,
          548,
          1,
          34,
          5,
          233,
          19,
          2105,
          1371,
          135,
          2365,
          234,
          149,
          1048,
          1583,
          985,
          260,
          3,
          3,
          1824,
          115,
          839,
          42,
          45,
          1125,
          1193,
          117,
          112,
          127,
          16,
          171,
          283,
          150,
          239,
          520,
          102,
          168,
          85,
          135,
          206,
          201,
          62,
          49,
          50,
          56,
          133,
          118,
          66,
          136,
          48,
          205,
          43,
          798,
          210,
          42,
          55,
          23,
          19,
          7,
          37,
          35,
          1757,
          1426,
          231,
          2633,
          476,
          49,
          1114,
          2343,
          1072,
          202,
          25,
          149,
          30,
          192,
          11,
          1345,
          133
         ],
         "xaxis": "x",
         "yaxis": "y"
        }
       ],
       "layout": {
        "autosize": true,
        "barmode": "relative",
        "legend": {
         "title": {
          "text": "지점"
         },
         "tracegroupgap": 0
        },
        "margin": {
         "t": 60
        },
        "template": {
         "data": {
          "bar": [
           {
            "error_x": {
             "color": "#2a3f5f"
            },
            "error_y": {
             "color": "#2a3f5f"
            },
            "marker": {
             "line": {
              "color": "#E5ECF6",
              "width": 0.5
             },
             "pattern": {
              "fillmode": "overlay",
              "size": 10,
              "solidity": 0.2
             }
            },
            "type": "bar"
           }
          ],
          "barpolar": [
           {
            "marker": {
             "line": {
              "color": "#E5ECF6",
              "width": 0.5
             },
             "pattern": {
              "fillmode": "overlay",
              "size": 10,
              "solidity": 0.2
             }
            },
            "type": "barpolar"
           }
          ],
          "carpet": [
           {
            "aaxis": {
             "endlinecolor": "#2a3f5f",
             "gridcolor": "white",
             "linecolor": "white",
             "minorgridcolor": "white",
             "startlinecolor": "#2a3f5f"
            },
            "baxis": {
             "endlinecolor": "#2a3f5f",
             "gridcolor": "white",
             "linecolor": "white",
             "minorgridcolor": "white",
             "startlinecolor": "#2a3f5f"
            },
            "type": "carpet"
           }
          ],
          "choropleth": [
           {
            "colorbar": {
             "outlinewidth": 0,
             "ticks": ""
            },
            "type": "choropleth"
           }
          ],
          "contour": [
           {
            "colorbar": {
             "outlinewidth": 0,
             "ticks": ""
            },
            "colorscale": [
             [
              0,
              "#0d0887"
             ],
             [
              0.1111111111111111,
              "#46039f"
             ],
             [
              0.2222222222222222,
              "#7201a8"
             ],
             [
              0.3333333333333333,
              "#9c179e"
             ],
             [
              0.4444444444444444,
              "#bd3786"
             ],
             [
              0.5555555555555556,
              "#d8576b"
             ],
             [
              0.6666666666666666,
              "#ed7953"
             ],
             [
              0.7777777777777778,
              "#fb9f3a"
             ],
             [
              0.8888888888888888,
              "#fdca26"
             ],
             [
              1,
              "#f0f921"
             ]
            ],
            "type": "contour"
           }
          ],
          "contourcarpet": [
           {
            "colorbar": {
             "outlinewidth": 0,
             "ticks": ""
            },
            "type": "contourcarpet"
           }
          ],
          "heatmap": [
           {
            "colorbar": {
             "outlinewidth": 0,
             "ticks": ""
            },
            "colorscale": [
             [
              0,
              "#0d0887"
             ],
             [
              0.1111111111111111,
              "#46039f"
             ],
             [
              0.2222222222222222,
              "#7201a8"
             ],
             [
              0.3333333333333333,
              "#9c179e"
             ],
             [
              0.4444444444444444,
              "#bd3786"
             ],
             [
              0.5555555555555556,
              "#d8576b"
             ],
             [
              0.6666666666666666,
              "#ed7953"
             ],
             [
              0.7777777777777778,
              "#fb9f3a"
             ],
             [
              0.8888888888888888,
              "#fdca26"
             ],
             [
              1,
              "#f0f921"
             ]
            ],
            "type": "heatmap"
           }
          ],
          "heatmapgl": [
           {
            "colorbar": {
             "outlinewidth": 0,
             "ticks": ""
            },
            "colorscale": [
             [
              0,
              "#0d0887"
             ],
             [
              0.1111111111111111,
              "#46039f"
             ],
             [
              0.2222222222222222,
              "#7201a8"
             ],
             [
              0.3333333333333333,
              "#9c179e"
             ],
             [
              0.4444444444444444,
              "#bd3786"
             ],
             [
              0.5555555555555556,
              "#d8576b"
             ],
             [
              0.6666666666666666,
              "#ed7953"
             ],
             [
              0.7777777777777778,
              "#fb9f3a"
             ],
             [
              0.8888888888888888,
              "#fdca26"
             ],
             [
              1,
              "#f0f921"
             ]
            ],
            "type": "heatmapgl"
           }
          ],
          "histogram": [
           {
            "marker": {
             "pattern": {
              "fillmode": "overlay",
              "size": 10,
              "solidity": 0.2
             }
            },
            "type": "histogram"
           }
          ],
          "histogram2d": [
           {
            "colorbar": {
             "outlinewidth": 0,
             "ticks": ""
            },
            "colorscale": [
             [
              0,
              "#0d0887"
             ],
             [
              0.1111111111111111,
              "#46039f"
             ],
             [
              0.2222222222222222,
              "#7201a8"
             ],
             [
              0.3333333333333333,
              "#9c179e"
             ],
             [
              0.4444444444444444,
              "#bd3786"
             ],
             [
              0.5555555555555556,
              "#d8576b"
             ],
             [
              0.6666666666666666,
              "#ed7953"
             ],
             [
              0.7777777777777778,
              "#fb9f3a"
             ],
             [
              0.8888888888888888,
              "#fdca26"
             ],
             [
              1,
              "#f0f921"
             ]
            ],
            "type": "histogram2d"
           }
          ],
          "histogram2dcontour": [
           {
            "colorbar": {
             "outlinewidth": 0,
             "ticks": ""
            },
            "colorscale": [
             [
              0,
              "#0d0887"
             ],
             [
              0.1111111111111111,
              "#46039f"
             ],
             [
              0.2222222222222222,
              "#7201a8"
             ],
             [
              0.3333333333333333,
              "#9c179e"
             ],
             [
              0.4444444444444444,
              "#bd3786"
             ],
             [
              0.5555555555555556,
              "#d8576b"
             ],
             [
              0.6666666666666666,
              "#ed7953"
             ],
             [
              0.7777777777777778,
              "#fb9f3a"
             ],
             [
              0.8888888888888888,
              "#fdca26"
             ],
             [
              1,
              "#f0f921"
             ]
            ],
            "type": "histogram2dcontour"
           }
          ],
          "mesh3d": [
           {
            "colorbar": {
             "outlinewidth": 0,
             "ticks": ""
            },
            "type": "mesh3d"
           }
          ],
          "parcoords": [
           {
            "line": {
             "colorbar": {
              "outlinewidth": 0,
              "ticks": ""
             }
            },
            "type": "parcoords"
           }
          ],
          "pie": [
           {
            "automargin": true,
            "type": "pie"
           }
          ],
          "scatter": [
           {
            "fillpattern": {
             "fillmode": "overlay",
             "size": 10,
             "solidity": 0.2
            },
            "type": "scatter"
           }
          ],
          "scatter3d": [
           {
            "line": {
             "colorbar": {
              "outlinewidth": 0,
              "ticks": ""
             }
            },
            "marker": {
             "colorbar": {
              "outlinewidth": 0,
              "ticks": ""
             }
            },
            "type": "scatter3d"
           }
          ],
          "scattercarpet": [
           {
            "marker": {
             "colorbar": {
              "outlinewidth": 0,
              "ticks": ""
             }
            },
            "type": "scattercarpet"
           }
          ],
          "scattergeo": [
           {
            "marker": {
             "colorbar": {
              "outlinewidth": 0,
              "ticks": ""
             }
            },
            "type": "scattergeo"
           }
          ],
          "scattergl": [
           {
            "marker": {
             "colorbar": {
              "outlinewidth": 0,
              "ticks": ""
             }
            },
            "type": "scattergl"
           }
          ],
          "scattermapbox": [
           {
            "marker": {
             "colorbar": {
              "outlinewidth": 0,
              "ticks": ""
             }
            },
            "type": "scattermapbox"
           }
          ],
          "scatterpolar": [
           {
            "marker": {
             "colorbar": {
              "outlinewidth": 0,
              "ticks": ""
             }
            },
            "type": "scatterpolar"
           }
          ],
          "scatterpolargl": [
           {
            "marker": {
             "colorbar": {
              "outlinewidth": 0,
              "ticks": ""
             }
            },
            "type": "scatterpolargl"
           }
          ],
          "scatterternary": [
           {
            "marker": {
             "colorbar": {
              "outlinewidth": 0,
              "ticks": ""
             }
            },
            "type": "scatterternary"
           }
          ],
          "surface": [
           {
            "colorbar": {
             "outlinewidth": 0,
             "ticks": ""
            },
            "colorscale": [
             [
              0,
              "#0d0887"
             ],
             [
              0.1111111111111111,
              "#46039f"
             ],
             [
              0.2222222222222222,
              "#7201a8"
             ],
             [
              0.3333333333333333,
              "#9c179e"
             ],
             [
              0.4444444444444444,
              "#bd3786"
             ],
             [
              0.5555555555555556,
              "#d8576b"
             ],
             [
              0.6666666666666666,
              "#ed7953"
             ],
             [
              0.7777777777777778,
              "#fb9f3a"
             ],
             [
              0.8888888888888888,
              "#fdca26"
             ],
             [
              1,
              "#f0f921"
             ]
            ],
            "type": "surface"
           }
          ],
          "table": [
           {
            "cells": {
             "fill": {
              "color": "#EBF0F8"
             },
             "line": {
              "color": "white"
             }
            },
            "header": {
             "fill": {
              "color": "#C8D4E3"
             },
             "line": {
              "color": "white"
             }
            },
            "type": "table"
           }
          ]
         },
         "layout": {
          "annotationdefaults": {
           "arrowcolor": "#2a3f5f",
           "arrowhead": 0,
           "arrowwidth": 1
          },
          "autotypenumbers": "strict",
          "coloraxis": {
           "colorbar": {
            "outlinewidth": 0,
            "ticks": ""
           }
          },
          "colorscale": {
           "diverging": [
            [
             0,
             "#8e0152"
            ],
            [
             0.1,
             "#c51b7d"
            ],
            [
             0.2,
             "#de77ae"
            ],
            [
             0.3,
             "#f1b6da"
            ],
            [
             0.4,
             "#fde0ef"
            ],
            [
             0.5,
             "#f7f7f7"
            ],
            [
             0.6,
             "#e6f5d0"
            ],
            [
             0.7,
             "#b8e186"
            ],
            [
             0.8,
             "#7fbc41"
            ],
            [
             0.9,
             "#4d9221"
            ],
            [
             1,
             "#276419"
            ]
           ],
           "sequential": [
            [
             0,
             "#0d0887"
            ],
            [
             0.1111111111111111,
             "#46039f"
            ],
            [
             0.2222222222222222,
             "#7201a8"
            ],
            [
             0.3333333333333333,
             "#9c179e"
            ],
            [
             0.4444444444444444,
             "#bd3786"
            ],
            [
             0.5555555555555556,
             "#d8576b"
            ],
            [
             0.6666666666666666,
             "#ed7953"
            ],
            [
             0.7777777777777778,
             "#fb9f3a"
            ],
            [
             0.8888888888888888,
             "#fdca26"
            ],
            [
             1,
             "#f0f921"
            ]
           ],
           "sequentialminus": [
            [
             0,
             "#0d0887"
            ],
            [
             0.1111111111111111,
             "#46039f"
            ],
            [
             0.2222222222222222,
             "#7201a8"
            ],
            [
             0.3333333333333333,
             "#9c179e"
            ],
            [
             0.4444444444444444,
             "#bd3786"
            ],
            [
             0.5555555555555556,
             "#d8576b"
            ],
            [
             0.6666666666666666,
             "#ed7953"
            ],
            [
             0.7777777777777778,
             "#fb9f3a"
            ],
            [
             0.8888888888888888,
             "#fdca26"
            ],
            [
             1,
             "#f0f921"
            ]
           ]
          },
          "colorway": [
           "#636efa",
           "#EF553B",
           "#00cc96",
           "#ab63fa",
           "#FFA15A",
           "#19d3f3",
           "#FF6692",
           "#B6E880",
           "#FF97FF",
           "#FECB52"
          ],
          "font": {
           "color": "#2a3f5f"
          },
          "geo": {
           "bgcolor": "white",
           "lakecolor": "white",
           "landcolor": "#E5ECF6",
           "showlakes": true,
           "showland": true,
           "subunitcolor": "white"
          },
          "hoverlabel": {
           "align": "left"
          },
          "hovermode": "closest",
          "mapbox": {
           "style": "light"
          },
          "paper_bgcolor": "white",
          "plot_bgcolor": "#E5ECF6",
          "polar": {
           "angularaxis": {
            "gridcolor": "white",
            "linecolor": "white",
            "ticks": ""
           },
           "bgcolor": "#E5ECF6",
           "radialaxis": {
            "gridcolor": "white",
            "linecolor": "white",
            "ticks": ""
           }
          },
          "scene": {
           "xaxis": {
            "backgroundcolor": "#E5ECF6",
            "gridcolor": "white",
            "gridwidth": 2,
            "linecolor": "white",
            "showbackground": true,
            "ticks": "",
            "zerolinecolor": "white"
           },
           "yaxis": {
            "backgroundcolor": "#E5ECF6",
            "gridcolor": "white",
            "gridwidth": 2,
            "linecolor": "white",
            "showbackground": true,
            "ticks": "",
            "zerolinecolor": "white"
           },
           "zaxis": {
            "backgroundcolor": "#E5ECF6",
            "gridcolor": "white",
            "gridwidth": 2,
            "linecolor": "white",
            "showbackground": true,
            "ticks": "",
            "zerolinecolor": "white"
           }
          },
          "shapedefaults": {
           "line": {
            "color": "#2a3f5f"
           }
          },
          "ternary": {
           "aaxis": {
            "gridcolor": "white",
            "linecolor": "white",
            "ticks": ""
           },
           "baxis": {
            "gridcolor": "white",
            "linecolor": "white",
            "ticks": ""
           },
           "bgcolor": "#E5ECF6",
           "caxis": {
            "gridcolor": "white",
            "linecolor": "white",
            "ticks": ""
           }
          },
          "title": {
           "x": 0.05
          },
          "xaxis": {
           "automargin": true,
           "gridcolor": "white",
           "linecolor": "white",
           "ticks": "",
           "title": {
            "standoff": 15
           },
           "zerolinecolor": "white",
           "zerolinewidth": 2
          },
          "yaxis": {
           "automargin": true,
           "gridcolor": "white",
           "linecolor": "white",
           "ticks": "",
           "title": {
            "standoff": 15
           },
           "zerolinecolor": "white",
           "zerolinewidth": 2
          }
         }
        },
        "xaxis": {
         "anchor": "y",
         "autorange": true,
         "domain": [
          0,
          1
         ],
         "range": [
          -0.5,
          4999.5
         ],
         "title": {
          "text": "판매량"
         },
         "type": "linear"
        },
        "yaxis": {
         "anchor": "x",
         "autorange": true,
         "domain": [
          0,
          1
         ],
         "range": [
          0,
          222.10526315789474
         ],
         "title": {
          "text": "count"
         }
        }
       }
      },
      "image/png": "[encoded data removed]",
      "text/html": [
       "<div>                            <div id=\"aefcdb8c-e4ba-40e4-b705-2e1c7bba965a\" class=\"plotly-graph-div\" style=\"height:525px; width:100%;\"></div>            <script type=\"text/javascript\">                require([\"plotly\"], function(Plotly) {                    window.PLOTLYENV=window.PLOTLYENV || {};                                    if (document.getElementById(\"aefcdb8c-e4ba-40e4-b705-2e1c7bba965a\")) {                    Plotly.newPlot(                        \"aefcdb8c-e4ba-40e4-b705-2e1c7bba965a\",                        [{\"alignmentgroup\":\"True\",\"bingroup\":\"x\",\"hovertemplate\":\"\\uc9c0\\uc810=(610)\\ubd80\\ucc9c\\uc810\\u003cbr\\u003e\\ud310\\ub9e4\\ub7c9=%{x}\\u003cbr\\u003ecount=%{y}\\u003cextra\\u003e\\u003c\\u002fextra\\u003e\",\"legendgroup\":\"(610)\\ubd80\\ucc9c\\uc810\",\"marker\":{\"color\":\"#636efa\",\"pattern\":{\"shape\":\"\"}},\"name\":\"(610)\\ubd80\\ucc9c\\uc810\",\"offsetgroup\":\"(610)\\ubd80\\ucc9c\\uc810\",\"orientation\":\"v\",\"showlegend\":true,\"x\":[835,19,6,1722,533,17,58,63,22,74,747,53,47,4,11,499,163,215,102,107,67,142,120,40,46,7,176,35,110,57,1,30,16,9,6,5,876,157,979,1405,69,2097,323,120,1594,3984,472,172,2062,120,1551,124,80,124,994,136,47,59,23,54,452,102,122,133,13,569,235,129,181,44,112,240,20,17,30,83,35,272,110,11,12,150,37,15,60,669,21,34,14,315,21,1483,127,2393,533,142,2231,4832,546,213,9,36,12,2176,164,734,55,97,2936,639,61,37,68,27,70,33,111,185,169,9,594,129,202,120,106,106,196,223,81,263,28,33,22,17,25,100,14,135,99,7,25,4,509,36,167,35,46,9,98,29,6,37,43,1662,1521,151,2501,543,1972,4373,640,187,13,120,90,123,1866,134],\"xaxis\":\"x\",\"yaxis\":\"y\",\"type\":\"histogram\"},{\"alignmentgroup\":\"True\",\"bingroup\":\"x\",\"hovertemplate\":\"\\uc9c0\\uc810=(600)\\uc548\\uc591\\uc810\\u003cbr\\u003e\\ud310\\ub9e4\\ub7c9=%{x}\\u003cbr\\u003ecount=%{y}\\u003cextra\\u003e\\u003c\\u002fextra\\u003e\",\"legendgroup\":\"(600)\\uc548\\uc591\\uc810\",\"marker\":{\"color\":\"#EF553B\",\"pattern\":{\"shape\":\"\"}},\"name\":\"(600)\\uc548\\uc591\\uc810\",\"offsetgroup\":\"(600)\\uc548\\uc591\\uc810\",\"orientation\":\"v\",\"showlegend\":true,\"x\":[106,24,790,598,1124,45,209,55,18,86,758,218,70,567,134,282,105,138,320,104,64,124,158,48,266,186,150,15,103,702,282,2225,1099,120,2637,194,91,1079,1536,1020,224,25,1489,67,1710,366,299,80,2167,359,91,95,13,114,161,119,66,671,497,142,112,261,277,177,80,45,107,52,141,63,541,6,65,100,67,12,548,1,34,5,233,19,2105,1371,135,2365,234,149,1048,1583,985,260,3,3,1824,115,839,42,45,1125,1193,117,112,127,16,171,283,150,239,520,102,168,85,135,206,201,62,49,50,56,133,118,66,136,48,205,43,798,210,42,55,23,19,7,37,35,1757,1426,231,2633,476,49,1114,2343,1072,202,25,149,30,192,11,1345,133],\"xaxis\":\"x\",\"yaxis\":\"y\",\"type\":\"histogram\"}],                        {\"template\":{\"data\":{\"histogram2dcontour\":[{\"type\":\"histogram2dcontour\",\"colorbar\":{\"outlinewidth\":0,\"ticks\":\"\"},\"colorscale\":[[0.0,\"#0d0887\"],[0.1111111111111111,\"#46039f\"],[0.2222222222222222,\"#7201a8\"],[0.3333333333333333,\"#9c179e\"],[0.4444444444444444,\"#bd3786\"],[0.5555555555555556,\"#d8576b\"],[0.6666666666666666,\"#ed7953\"],[0.7777777777777778,\"#fb9f3a\"],[0.8888888888888888,\"#fdca26\"],[1.0,\"#f0f921\"]]}],\"choropleth\":[{\"type\":\"choropleth\",\"colorbar\":{\"outlinewidth\":0,\"ticks\":\"\"}}],\"histogram2d\":[{\"type\":\"histogram2d\",\"colorbar\":{\"outlinewidth\":0,\"ticks\":\"\"},\"colorscale\":[[0.0,\"#0d0887\"],[0.1111111111111111,\"#46039f\"],[0.2222222222222222,\"#7201a8\"],[0.3333333333333333,\"#9c179e\"],[0.4444444444444444,\"#bd3786\"],[0.5555555555555556,\"#d8576b\"],[0.6666666666666666,\"#ed7953\"],[0.7777777777777778,\"#fb9f3a\"],[0.8888888888888888,\"#fdca26\"],[1.0,\"#f0f921\"]]}],\"heatmap\":[{\"type\":\"heatmap\",\"colorbar\":{\"outlinewidth\":0,\"ticks\":\"\"},\"colorscale\":[[0.0,\"#0d0887\"],[0.1111111111111111,\"#46039f\"],[0.2222222222222222,\"#7201a8\"],[0.3333333333333333,\"#9c179e\"],[0.4444444444444444,\"#bd3786\"],[0.5555555555555556,\"#d8576b\"],[0.6666666666666666,\"#ed7953\"],[0.7777777777777778,\"#fb9f3a\"],[0.8888888888888888,\"#fdca26\"],[1.0,\"#f0f921\"]]}],\"heatmapgl\":[{\"type\":\"heatmapgl\",\"colorbar\":{\"outlinewidth\":0,\"ticks\":\"\"},\"colorscale\":[[0.0,\"#0d0887\"],[0.1111111111111111,\"#46039f\"],[0.2222222222222222,\"#7201a8\"],[0.3333333333333333,\"#9c179e\"],[0.4444444444444444,\"#bd3786\"],[0.5555555555555556,\"#d8576b\"],[0.6666666666666666,\"#ed7953\"],[0.7777777777777778,\"#fb9f3a\"],[0.8888888888888888,\"#fdca26\"],[1.0,\"#f0f921\"]]}],\"contourcarpet\":[{\"type\":\"contourcarpet\",\"colorbar\":{\"outlinewidth\":0,\"ticks\":\"\"}}],\"contour\":[{\"type\":\"contour\",\"colorbar\":{\"outlinewidth\":0,\"ticks\":\"\"},\"colorscale\":[[0.0,\"#0d0887\"],[0.1111111111111111,\"#46039f\"],[0.2222222222222222,\"#7201a8\"],[0.3333333333333333,\"#9c179e\"],[0.4444444444444444,\"#bd3786\"],[0.5555555555555556,\"#d8576b\"],[0.6666666666666666,\"#ed7953\"],[0.7777777777777778,\"#fb9f3a\"],[0.8888888888888888,\"#fdca26\"],[1.0,\"#f0f921\"]]}],\"surface\":[{\"type\":\"surface\",\"colorbar\":{\"outlinewidth\":0,\"ticks\":\"\"},\"colorscale\":[[0.0,\"#0d0887\"],[0.1111111111111111,\"#46039f\"],[0.2222222222222222,\"#7201a8\"],[0.3333333333333333,\"#9c179e\"],[0.4444444444444444,\"#bd3786\"],[0.5555555555555556,\"#d8576b\"],[0.6666666666666666,\"#ed7953\"],[0.7777777777777778,\"#fb9f3a\"],[0.8888888888888888,\"#fdca26\"],[1.0,\"#f0f921\"]]}],\"mesh3d\":[{\"type\":\"mesh3d\",\"colorbar\":{\"outlinewidth\":0,\"ticks\":\"\"}}],\"scatter\":[{\"fillpattern\":{\"fillmode\":\"overlay\",\"size\":10,\"solidity\":0.2},\"type\":\"scatter\"}],\"parcoords\":[{\"type\":\"parcoords\",\"line\":{\"colorbar\":{\"outlinewidth\":0,\"ticks\":\"\"}}}],\"scatterpolargl\":[{\"type\":\"scatterpolargl\",\"marker\":{\"colorbar\":{\"outlinewidth\":0,\"ticks\":\"\"}}}],\"bar\":[{\"error_x\":{\"color\":\"#2a3f5f\"},\"error_y\":{\"color\":\"#2a3f5f\"},\"marker\":{\"line\":{\"color\":\"#E5ECF6\",\"width\":0.5},\"pattern\":{\"fillmode\":\"overlay\",\"size\":10,\"solidity\":0.2}},\"type\":\"bar\"}],\"scattergeo\":[{\"type\":\"scattergeo\",\"marker\":{\"colorbar\":{\"outlinewidth\":0,\"ticks\":\"\"}}}],\"scatterpolar\":[{\"type\":\"scatterpolar\",\"marker\":{\"colorbar\":{\"outlinewidth\":0,\"ticks\":\"\"}}}],\"histogram\":[{\"marker\":{\"pattern\":{\"fillmode\":\"overlay\",\"size\":10,\"solidity\":0.2}},\"type\":\"histogram\"}],\"scattergl\":[{\"type\":\"scattergl\",\"marker\":{\"colorbar\":{\"outlinewidth\":0,\"ticks\":\"\"}}}],\"scatter3d\":[{\"type\":\"scatter3d\",\"line\":{\"colorbar\":{\"outlinewidth\":0,\"ticks\":\"\"}},\"marker\":{\"colorbar\":{\"outlinewidth\":0,\"ticks\":\"\"}}}],\"scattermapbox\":[{\"type\":\"scattermapbox\",\"marker\":{\"colorbar\":{\"outlinewidth\":0,\"ticks\":\"\"}}}],\"scatterternary\":[{\"type\":\"scatterternary\",\"marker\":{\"colorbar\":{\"outlinewidth\":0,\"ticks\":\"\"}}}],\"scattercarpet\":[{\"type\":\"scattercarpet\",\"marker\":{\"colorbar\":{\"outlinewidth\":0,\"ticks\":\"\"}}}],\"carpet\":[{\"aaxis\":{\"endlinecolor\":\"#2a3f5f\",\"gridcolor\":\"white\",\"linecolor\":\"white\",\"minorgridcolor\":\"white\",\"startlinecolor\":\"#2a3f5f\"},\"baxis\":{\"endlinecolor\":\"#2a3f5f\",\"gridcolor\":\"white\",\"linecolor\":\"white\",\"minorgridcolor\":\"white\",\"startlinecolor\":\"#2a3f5f\"},\"type\":\"carpet\"}],\"table\":[{\"cells\":{\"fill\":{\"color\":\"#EBF0F8\"},\"line\":{\"color\":\"white\"}},\"header\":{\"fill\":{\"color\":\"#C8D4E3\"},\"line\":{\"color\":\"white\"}},\"type\":\"table\"}],\"barpolar\":[{\"marker\":{\"line\":{\"color\":\"#E5ECF6\",\"width\":0.5},\"pattern\":{\"fillmode\":\"overlay\",\"size\":10,\"solidity\":0.2}},\"type\":\"barpolar\"}],\"pie\":[{\"automargin\":true,\"type\":\"pie\"}]},\"layout\":{\"autotypenumbers\":\"strict\",\"colorway\":[\"#636efa\",\"#EF553B\",\"#00cc96\",\"#ab63fa\",\"#FFA15A\",\"#19d3f3\",\"#FF6692\",\"#B6E880\",\"#FF97FF\",\"#FECB52\"],\"font\":{\"color\":\"#2a3f5f\"},\"hovermode\":\"closest\",\"hoverlabel\":{\"align\":\"left\"},\"paper_bgcolor\":\"white\",\"plot_bgcolor\":\"#E5ECF6\",\"polar\":{\"bgcolor\":\"#E5ECF6\",\"angularaxis\":{\"gridcolor\":\"white\",\"linecolor\":\"white\",\"ticks\":\"\"},\"radialaxis\":{\"gridcolor\":\"white\",\"linecolor\":\"white\",\"ticks\":\"\"}},\"ternary\":{\"bgcolor\":\"#E5ECF6\",\"aaxis\":{\"gridcolor\":\"white\",\"linecolor\":\"white\",\"ticks\":\"\"},\"baxis\":{\"gridcolor\":\"white\",\"linecolor\":\"white\",\"ticks\":\"\"},\"caxis\":{\"gridcolor\":\"white\",\"linecolor\":\"white\",\"ticks\":\"\"}},\"coloraxis\":{\"colorbar\":{\"outlinewidth\":0,\"ticks\":\"\"}},\"colorscale\":{\"sequential\":[[0.0,\"#0d0887\"],[0.1111111111111111,\"#46039f\"],[0.2222222222222222,\"#7201a8\"],[0.3333333333333333,\"#9c179e\"],[0.4444444444444444,\"#bd3786\"],[0.5555555555555556,\"#d8576b\"],[0.6666666666666666,\"#ed7953\"],[0.7777777777777778,\"#fb9f3a\"],[0.8888888888888888,\"#fdca26\"],[1.0,\"#f0f921\"]],\"sequentialminus\":[[0.0,\"#0d0887\"],[0.1111111111111111,\"#46039f\"],[0.2222222222222222,\"#7201a8\"],[0.3333333333333333,\"#9c179e\"],[0.4444444444444444,\"#bd3786\"],[0.5555555555555556,\"#d8576b\"],[0.6666666666666666,\"#ed7953\"],[0.7777777777777778,\"#fb9f3a\"],[0.8888888888888888,\"#fdca26\"],[1.0,\"#f0f921\"]],\"diverging\":[[0,\"#8e0152\"],[0.1,\"#c51b7d\"],[0.2,\"#de77ae\"],[0.3,\"#f1b6da\"],[0.4,\"#fde0ef\"],[0.5,\"#f7f7f7\"],[0.6,\"#e6f5d0\"],[0.7,\"#b8e186\"],[0.8,\"#7fbc41\"],[0.9,\"#4d9221\"],[1,\"#276419\"]]},\"xaxis\":{\"gridcolor\":\"white\",\"linecolor\":\"white\",\"ticks\":\"\",\"title\":{\"standoff\":15},\"zerolinecolor\":\"white\",\"automargin\":true,\"zerolinewidth\":2},\"yaxis\":{\"gridcolor\":\"white\",\"linecolor\":\"white\",\"ticks\":\"\",\"title\":{\"standoff\":15},\"zerolinecolor\":\"white\",\"automargin\":true,\"zerolinewidth\":2},\"scene\":{\"xaxis\":{\"backgroundcolor\":\"#E5ECF6\",\"gridcolor\":\"white\",\"linecolor\":\"white\",\"showbackground\":true,\"ticks\":\"\",\"zerolinecolor\":\"white\",\"gridwidth\":2},\"yaxis\":{\"backgroundcolor\":\"#E5ECF6\",\"gridcolor\":\"white\",\"linecolor\":\"white\",\"showbackground\":true,\"ticks\":\"\",\"zerolinecolor\":\"white\",\"gridwidth\":2},\"zaxis\":{\"backgroundcolor\":\"#E5ECF6\",\"gridcolor\":\"white\",\"linecolor\":\"white\",\"showbackground\":true,\"ticks\":\"\",\"zerolinecolor\":\"white\",\"gridwidth\":2}},\"shapedefaults\":{\"line\":{\"color\":\"#2a3f5f\"}},\"annotationdefaults\":{\"arrowcolor\":\"#2a3f5f\",\"arrowhead\":0,\"arrowwidth\":1},\"geo\":{\"bgcolor\":\"white\",\"landcolor\":\"#E5ECF6\",\"subunitcolor\":\"white\",\"showland\":true,\"showlakes\":true,\"lakecolor\":\"white\"},\"title\":{\"x\":0.05},\"mapbox\":{\"style\":\"light\"}}},\"xaxis\":{\"anchor\":\"y\",\"domain\":[0.0,1.0],\"title\":{\"text\":\"\\ud310\\ub9e4\\ub7c9\"}},\"yaxis\":{\"anchor\":\"x\",\"domain\":[0.0,1.0],\"title\":{\"text\":\"count\"}},\"legend\":{\"title\":{\"text\":\"\\uc9c0\\uc810\"},\"tracegroupgap\":0},\"margin\":{\"t\":60},\"barmode\":\"relative\"},                        {\"responsive\": true}                    ).then(function(){\n",
       "                            \n",
       "var gd = document.getElementById('aefcdb8c-e4ba-40e4-b705-2e1c7bba965a');\n",
       "var x = new MutationObserver(function (mutations, observer) {{\n",
       "        var display = window.getComputedStyle(gd).display;\n",
       "        if (!display || display === 'none') {{\n",
       "            console.log([gd, 'removed!']);\n",
       "            Plotly.purge(gd);\n",
       "            observer.disconnect();\n",
       "        }}\n",
       "}});\n",
       "\n",
       "// Listen for the removal of the full notebook cells\n",
       "var notebookContainer = gd.closest('#notebook-container');\n",
       "if (notebookContainer) {{\n",
       "    x.observe(notebookContainer, {childList: true});\n",
       "}}\n",
       "\n",
       "// Listen for the clearing of the current output cell\n",
       "var outputEl = gd.closest('.output');\n",
       "if (outputEl) {{\n",
       "    x.observe(outputEl, {childList: true});\n",
       "}}\n",
       "\n",
       "                        })                };                });            </script>        </div>"
      ]
     },
     "metadata": {},
     "output_type": "display_data"
    }
   ],
   "source": [
    "# 판매량이 0인 행 제거 후 히스토그램 확인\n",
    "#df_bx=df_b.loc[df_b['판매량']!=0]\n",
    "#df_ox=df_o.loc[df_o['판매량']!=0]\n",
    "\n",
    "df_box = pd.concat([df_bx, df_ox])\n",
    "px.histogram(df_box,'판매량',color='지점')"
   ]
  },
  {
   "cell_type": "markdown",
   "id": "1dede88b-23a4-4b3a-8585-618676f082c1",
   "metadata": {},
   "source": [
    "## 5\n",
    "**'기간'별 가장 '판매량'의 '합'이 높은 '지점'을 확인하고, 특정 '기간' (월)을 입력했을 때, 해당 월의 '지점' 별 '판매량'의 합을 result_{월}.xlsx로 저장하는 함수를 생성하시오.**"
   ]
  },
  {
   "cell_type": "code",
   "execution_count": 160,
   "id": "36b801c5-f616-4fa8-948b-33f2724b0839",
   "metadata": {},
   "outputs": [
    {
     "data": {
      "text/plain": [
       "기간\n",
       "6월    (6월, (610)부천점)\n",
       "7월    (7월, (610)부천점)\n",
       "8월    (8월, (740)속초점)\n",
       "Name: 판매량, dtype: object"
      ]
     },
     "execution_count": 160,
     "metadata": {},
     "output_type": "execute_result"
    }
   ],
   "source": [
    "# 기간별 가장 판매량의 합이 높은 지점 확인\n",
    "# Sol1\n",
    "# 기간과 지점별로 판매량의 합을 계산 후 각 기간의 판매량이 가장 높은 인덱스 추출\n",
    "df.groupby(['기간','지점'])['판매량'].sum().groupby(level='기간').idxmax()"
   ]
  },
  {
   "cell_type": "code",
   "execution_count": 181,
   "id": "2e35af8d-3100-436e-ab9b-58f3a5dd3fe7",
   "metadata": {},
   "outputs": [
    {
     "name": "stdout",
     "output_type": "stream",
     "text": [
      "   기간           지점    판매량\n",
      "0  6월   (1154)의정부점   6829\n",
      "1  6월    (1155)별내점   8374\n",
      "2  6월    (1156)풍산점  12626\n",
      "3  6월  (1157)김포한강점  11767\n",
      "4  6월    (1158)세종점  10912\n"
     ]
    },
    {
     "data": {
      "text/html": [
       "<div>\n",
       "<style scoped>\n",
       "    .dataframe tbody tr th:only-of-type {\n",
       "        vertical-align: middle;\n",
       "    }\n",
       "\n",
       "    .dataframe tbody tr th {\n",
       "        vertical-align: top;\n",
       "    }\n",
       "\n",
       "    .dataframe thead th {\n",
       "        text-align: right;\n",
       "    }\n",
       "</style>\n",
       "<table border=\"1\" class=\"dataframe\">\n",
       "  <thead>\n",
       "    <tr style=\"text-align: right;\">\n",
       "      <th></th>\n",
       "      <th>기간</th>\n",
       "      <th>지점</th>\n",
       "      <th>판매량</th>\n",
       "    </tr>\n",
       "  </thead>\n",
       "  <tbody>\n",
       "    <tr>\n",
       "      <th>464</th>\n",
       "      <td>6월</td>\n",
       "      <td>(610)부천점</td>\n",
       "      <td>20594</td>\n",
       "    </tr>\n",
       "    <tr>\n",
       "      <th>1112</th>\n",
       "      <td>7월</td>\n",
       "      <td>(610)부천점</td>\n",
       "      <td>22347</td>\n",
       "    </tr>\n",
       "    <tr>\n",
       "      <th>1778</th>\n",
       "      <td>8월</td>\n",
       "      <td>(740)속초점</td>\n",
       "      <td>26197</td>\n",
       "    </tr>\n",
       "  </tbody>\n",
       "</table>\n",
       "</div>"
      ],
      "text/plain": [
       "      기간        지점    판매량\n",
       "464   6월  (610)부천점  20594\n",
       "1112  7월  (610)부천점  22347\n",
       "1778  8월  (740)속초점  26197"
      ]
     },
     "execution_count": 181,
     "metadata": {},
     "output_type": "execute_result"
    }
   ],
   "source": [
    "#Sol2\n",
    "# 기간별 지점별 판매량의 합으로 새로운 데이터 프레임 생성\n",
    "df_5=df.groupby(['기간','지점'])['판매량'].sum().reset_index()\n",
    "# 데이터 프레임 확인\n",
    "print(df_5.head())\n",
    "# 기간별 지점별 판매량의 합이 가장 높은 행 추출\n",
    "df_5.loc[df_5.groupby('기간')['판매량'].idxmax()]"
   ]
  },
  {
   "cell_type": "code",
   "execution_count": 176,
   "id": "0c17316d-4f20-4237-b3cf-cbe51e51957e",
   "metadata": {},
   "outputs": [],
   "source": [
    "def my_func5():\n",
    "    # 특정 기간 입력받기\n",
    "    ans=input('특정 기간을 입력하세요(6,7,8월):')\n",
    "    #  해당 월의 '지점' 별 '판매량'의 합을 result_{월}.xlsx로 저장하는 함수를 생성하시오\n",
    "    # df 에서 특정 기간만 추출 \n",
    "    df_ans=df.loc[df['기간']==ans]\n",
    "    # 해당 월의 지점별 판매량의 합 계산\n",
    "    df_fin=df_ans.groupby('지점')['판매량'].sum()\n",
    "    # result_{월}.xlsx 형태로 저장\n",
    "    df_fin.to_excel('C:/Users/sshyu/OneDrive/바탕 화면/DSA_13기/result_{}.xlsx'.format(ans))"
   ]
  },
  {
   "cell_type": "markdown",
   "id": "86c3ff32-f847-4434-9668-a30748d66768",
   "metadata": {},
   "source": [
    "함수 확인"
   ]
  },
  {
   "cell_type": "code",
   "execution_count": 177,
   "id": "f871f586-a095-4ca5-8b71-b0df852cf9f1",
   "metadata": {},
   "outputs": [
    {
     "name": "stdin",
     "output_type": "stream",
     "text": [
      "특정 기간을 입력하세요(6,7,8월): 6월\n"
     ]
    }
   ],
   "source": [
    "my_func5()"
   ]
  },
  {
   "cell_type": "code",
   "execution_count": 182,
   "id": "2d7222c2-9beb-4e22-b9b6-e99124d9de4d",
   "metadata": {},
   "outputs": [
    {
     "data": {
      "text/html": [
       "<div>\n",
       "<style scoped>\n",
       "    .dataframe tbody tr th:only-of-type {\n",
       "        vertical-align: middle;\n",
       "    }\n",
       "\n",
       "    .dataframe tbody tr th {\n",
       "        vertical-align: top;\n",
       "    }\n",
       "\n",
       "    .dataframe thead th {\n",
       "        text-align: right;\n",
       "    }\n",
       "</style>\n",
       "<table border=\"1\" class=\"dataframe\">\n",
       "  <thead>\n",
       "    <tr style=\"text-align: right;\">\n",
       "      <th></th>\n",
       "      <th>지점</th>\n",
       "      <th>판매량</th>\n",
       "    </tr>\n",
       "  </thead>\n",
       "  <tbody>\n",
       "    <tr>\n",
       "      <th>0</th>\n",
       "      <td>(1154)의정부점</td>\n",
       "      <td>6829</td>\n",
       "    </tr>\n",
       "    <tr>\n",
       "      <th>1</th>\n",
       "      <td>(1155)별내점</td>\n",
       "      <td>8374</td>\n",
       "    </tr>\n",
       "    <tr>\n",
       "      <th>2</th>\n",
       "      <td>(1156)풍산점</td>\n",
       "      <td>12626</td>\n",
       "    </tr>\n",
       "    <tr>\n",
       "      <th>3</th>\n",
       "      <td>(1157)김포한강점</td>\n",
       "      <td>11767</td>\n",
       "    </tr>\n",
       "    <tr>\n",
       "      <th>4</th>\n",
       "      <td>(1158)세종점</td>\n",
       "      <td>10912</td>\n",
       "    </tr>\n",
       "    <tr>\n",
       "      <th>...</th>\n",
       "      <td>...</td>\n",
       "      <td>...</td>\n",
       "    </tr>\n",
       "    <tr>\n",
       "      <th>637</th>\n",
       "      <td>(L38)율전점</td>\n",
       "      <td>1782</td>\n",
       "    </tr>\n",
       "    <tr>\n",
       "      <th>638</th>\n",
       "      <td>(L39)본오점</td>\n",
       "      <td>3129</td>\n",
       "    </tr>\n",
       "    <tr>\n",
       "      <th>639</th>\n",
       "      <td>(L40)검암점</td>\n",
       "      <td>1712</td>\n",
       "    </tr>\n",
       "    <tr>\n",
       "      <th>640</th>\n",
       "      <td>(L44)신길점</td>\n",
       "      <td>3189</td>\n",
       "    </tr>\n",
       "    <tr>\n",
       "      <th>641</th>\n",
       "      <td>(L46)용호점</td>\n",
       "      <td>2347</td>\n",
       "    </tr>\n",
       "  </tbody>\n",
       "</table>\n",
       "<p>642 rows × 2 columns</p>\n",
       "</div>"
      ],
      "text/plain": [
       "              지점    판매량\n",
       "0     (1154)의정부점   6829\n",
       "1      (1155)별내점   8374\n",
       "2      (1156)풍산점  12626\n",
       "3    (1157)김포한강점  11767\n",
       "4      (1158)세종점  10912\n",
       "..           ...    ...\n",
       "637     (L38)율전점   1782\n",
       "638     (L39)본오점   3129\n",
       "639     (L40)검암점   1712\n",
       "640     (L44)신길점   3189\n",
       "641     (L46)용호점   2347\n",
       "\n",
       "[642 rows x 2 columns]"
      ]
     },
     "execution_count": 182,
     "metadata": {},
     "output_type": "execute_result"
    }
   ],
   "source": [
    "pd.read_excel(\"C:/Users/sshyu/OneDrive/바탕 화면/DSA_13기/result_6월.xlsx\")"
   ]
  },
  {
   "cell_type": "markdown",
   "id": "75fa2d2c-77e0-4db5-87d8-6770d6635597",
   "metadata": {},
   "source": [
    "## 6\n",
    "**'상품명'에 '마스크'와'휴지' 제품을 나누어 분석하고자 한다. 상품명을 '휴지'와 '마스크'로 분류한 뒤, (나머지는 '기타') '상품분류'라는 파생변수를 만들어, 두 상품의 '판매량'의 대표값의 차이를 가설 검정 하시오.**"
   ]
  },
  {
   "cell_type": "code",
   "execution_count": 192,
   "id": "e8060394-a986-4c91-8dce-93e621a677e4",
   "metadata": {},
   "outputs": [],
   "source": [
    "# 상품명을 휴지와 마스크로 분류\n",
    "# 상품분류라는 파생변수 만들기, 이때 기본값을 기타로 초기화\n",
    "df['상품분류']='기타'\n",
    "# 문자열에 마스크를 포함할 경우 상품분류='마스크'\n",
    "df.loc[df['상품명'].str.contains('마스크'),'상품분류']='마스크'\n",
    "# 문자열에 휴지를 포함할 경우 상품분류='휴지'\n",
    "df.loc[df['상품명'].str.contains('휴지'),'상품분류']='휴지'"
   ]
  },
  {
   "cell_type": "code",
   "execution_count": 194,
   "id": "ae279da6-c056-4b19-a968-9dd8e1e5bc82",
   "metadata": {},
   "outputs": [
    {
     "data": {
      "text/html": [
       "<div>\n",
       "<style scoped>\n",
       "    .dataframe tbody tr th:only-of-type {\n",
       "        vertical-align: middle;\n",
       "    }\n",
       "\n",
       "    .dataframe tbody tr th {\n",
       "        vertical-align: top;\n",
       "    }\n",
       "\n",
       "    .dataframe thead th {\n",
       "        text-align: right;\n",
       "    }\n",
       "</style>\n",
       "<table border=\"1\" class=\"dataframe\">\n",
       "  <thead>\n",
       "    <tr style=\"text-align: right;\">\n",
       "      <th></th>\n",
       "      <th>순번</th>\n",
       "      <th>상품코드</th>\n",
       "      <th>상품명</th>\n",
       "      <th>지점</th>\n",
       "      <th>기간</th>\n",
       "      <th>판매량</th>\n",
       "      <th>합계</th>\n",
       "      <th>상품분류</th>\n",
       "    </tr>\n",
       "  </thead>\n",
       "  <tbody>\n",
       "    <tr>\n",
       "      <th>0</th>\n",
       "      <td>1.0</td>\n",
       "      <td>1801828.0</td>\n",
       "      <td>자연숨결 식약처 허가 초미세먼지 마스크 대형 60매(KF94)</td>\n",
       "      <td>(1154)의정부점</td>\n",
       "      <td>6월</td>\n",
       "      <td>174</td>\n",
       "      <td>65402</td>\n",
       "      <td>마스크</td>\n",
       "    </tr>\n",
       "    <tr>\n",
       "      <th>1</th>\n",
       "      <td>2.0</td>\n",
       "      <td>1801859.0</td>\n",
       "      <td>블루방역황사마스크 65매 KF94</td>\n",
       "      <td>(1154)의정부점</td>\n",
       "      <td>6월</td>\n",
       "      <td>0</td>\n",
       "      <td>1</td>\n",
       "      <td>마스크</td>\n",
       "    </tr>\n",
       "    <tr>\n",
       "      <th>2</th>\n",
       "      <td>3.0</td>\n",
       "      <td>40786179.0</td>\n",
       "      <td>클린위즈 매직클리너 얼룩제거 세트</td>\n",
       "      <td>(1154)의정부점</td>\n",
       "      <td>6월</td>\n",
       "      <td>4</td>\n",
       "      <td>2158</td>\n",
       "      <td>기타</td>\n",
       "    </tr>\n",
       "    <tr>\n",
       "      <th>3</th>\n",
       "      <td>4.0</td>\n",
       "      <td>41001356.0</td>\n",
       "      <td>트루마리 순수휴지 30미터 90롤</td>\n",
       "      <td>(1154)의정부점</td>\n",
       "      <td>6월</td>\n",
       "      <td>14</td>\n",
       "      <td>3649</td>\n",
       "      <td>휴지</td>\n",
       "    </tr>\n",
       "    <tr>\n",
       "      <th>4</th>\n",
       "      <td>5.0</td>\n",
       "      <td>88005324.0</td>\n",
       "      <td>자연숨결 식약처 허가 초미세먼지 마스크 대형30매 + 중형 30매(KF94)</td>\n",
       "      <td>(1154)의정부점</td>\n",
       "      <td>6월</td>\n",
       "      <td>0</td>\n",
       "      <td>1</td>\n",
       "      <td>마스크</td>\n",
       "    </tr>\n",
       "  </tbody>\n",
       "</table>\n",
       "</div>"
      ],
      "text/plain": [
       "    순번        상품코드                                         상품명          지점  \\\n",
       "0  1.0   1801828.0          자연숨결 식약처 허가 초미세먼지 마스크 대형 60매(KF94)  (1154)의정부점   \n",
       "1  2.0   1801859.0                          블루방역황사마스크 65매 KF94  (1154)의정부점   \n",
       "2  3.0  40786179.0                          클린위즈 매직클리너 얼룩제거 세트  (1154)의정부점   \n",
       "3  4.0  41001356.0                          트루마리 순수휴지 30미터 90롤  (1154)의정부점   \n",
       "4  5.0  88005324.0  자연숨결 식약처 허가 초미세먼지 마스크 대형30매 + 중형 30매(KF94)  (1154)의정부점   \n",
       "\n",
       "   기간  판매량     합계 상품분류  \n",
       "0  6월  174  65402  마스크  \n",
       "1  6월    0      1  마스크  \n",
       "2  6월    4   2158   기타  \n",
       "3  6월   14   3649   휴지  \n",
       "4  6월    0      1  마스크  "
      ]
     },
     "execution_count": 194,
     "metadata": {},
     "output_type": "execute_result"
    }
   ],
   "source": [
    "# 파생변수가 잘 만들어졌는지 확인\n",
    "df.head()"
   ]
  },
  {
   "cell_type": "markdown",
   "id": "612ac6ac-69e4-4315-aad3-8725b6d86309",
   "metadata": {},
   "source": [
    "상품분류가 마스크, 휴지인 데이터로 나누어 각 판매량에 대한 정규성 검정"
   ]
  },
  {
   "cell_type": "code",
   "execution_count": 195,
   "id": "3de42741-8071-4e6c-9b95-daca86fd95e7",
   "metadata": {},
   "outputs": [],
   "source": [
    "df_m=df.loc[df['상품분류']=='마스크']\n",
    "df_h=df.loc[df['상품분류']=='휴지']"
   ]
  },
  {
   "cell_type": "code",
   "execution_count": 196,
   "id": "c8398107-ca8d-4c4a-9653-aeb209f2c7c3",
   "metadata": {},
   "outputs": [
    {
     "data": {
      "text/plain": [
       "NormaltestResult(statistic=np.float64(31820.563309226873), pvalue=np.float64(0.0))"
      ]
     },
     "execution_count": 196,
     "metadata": {},
     "output_type": "execute_result"
    }
   ],
   "source": [
    "stats.normaltest(df_m['판매량'])"
   ]
  },
  {
   "cell_type": "markdown",
   "id": "f6ee2aad-f155-44a5-a71d-3c0168cd2448",
   "metadata": {},
   "source": [
    "\n",
    "h0: 상품분류 마스크 데이터의 판매량이 정규분포를 따름\n",
    "\n",
    "이때 pvalue<a (a=0.05)이므로 h0 reject; 상품분류 마스크 데이터의 판매량은 정규분포를 따르지 않음"
   ]
  },
  {
   "cell_type": "code",
   "execution_count": 198,
   "id": "2fbbf558-33ae-4d2c-8e84-0f11b78ad328",
   "metadata": {},
   "outputs": [
    {
     "data": {
      "text/plain": [
       "NormaltestResult(statistic=np.float64(30664.231154107765), pvalue=np.float64(0.0))"
      ]
     },
     "execution_count": 198,
     "metadata": {},
     "output_type": "execute_result"
    }
   ],
   "source": [
    "stats.normaltest(df_h['판매량'])"
   ]
  },
  {
   "cell_type": "markdown",
   "id": "cac1b315-543d-4f80-aac5-e1b781d02e12",
   "metadata": {},
   "source": [
    "\n",
    "h0: 상품분류 휴지 데이터의 판매량이 정규분포를 따름\n",
    "\n",
    "이때 pvalue<a (a=0.05)이므로 h0 reject; 상품분류 휴지 데이터의 판매량은 정규분포를 따르지 않음\n",
    "\n",
    "따라서 두 데이터의 판매량 모두 정규분포를 따르지 않으므로 Wilicoxon Test 진행"
   ]
  },
  {
   "cell_type": "code",
   "execution_count": 367,
   "id": "77af6701-6921-4173-a3fa-71f386e9c0b6",
   "metadata": {},
   "outputs": [
    {
     "data": {
      "text/plain": [
       "RanksumsResult(statistic=np.float64(14.193416467479825), pvalue=np.float64(1.0063403187290814e-45))"
      ]
     },
     "execution_count": 367,
     "metadata": {},
     "output_type": "execute_result"
    }
   ],
   "source": [
    "stats.ranksums(df_m['판매량'],df_h['판매량'])"
   ]
  },
  {
   "cell_type": "markdown",
   "id": "78ae6a3c-86b2-4547-8d6a-53e2d4921917",
   "metadata": {},
   "source": [
    "h0: 두 집단간 판매량의 대표값에 차이가 없다.\n",
    "\n",
    "이때 pvalue<유의수준a 0.05 이므로 h0 reject, 따라서 두 집단간 판매량의 대표값에 차이가 있다."
   ]
  },
  {
   "cell_type": "markdown",
   "id": "c77e66b7-0d32-4bce-968d-4bae829acf69",
   "metadata": {},
   "source": [
    "**아래는 CRM(Customer Relationship Management) 데이터에서 주로 사용하는 RFM 분석을 수행한 데이터이다.**\n",
    "\n",
    "### ***RFM 분석***\n",
    "\n",
    "RFM 분석은 고객 세분화를 위한 효과적인 도구로 사용되는 마케팅 분석 방법\n",
    "\n",
    "- RFM은 Recency(최근성), Frequency(빈도), Monetary(금액)의 약어로, 이 세 가지 요소를 기반으로 고객을 분류하고 타겟팅하는 방법\n",
    "\n",
    "    - Recency(최근성): 고객이 얼마나 최근에 구매를 했는지 (Recency 값이 낮으면 자주 방문하는 고객)\n",
    "    - Frequency(빈도): 고객이 일정 기간 동안 얼마나 자주 구매를 하는지\n",
    "    - Monetary(금액): 고객이 일정 기간 동안 얼마나 많은 금액을 소비했는지\n",
    "- 각 R / F / M 값을 계산하여, 최종점수를 합산 -> 합산된 점수를 이용해 고객 분할\n",
    "\n",
    "        - 환산점수로 분할 : 특정 기준 값을 정하고 고객 세그먼트\n",
    "        - 사분범위로 분할 : Quantile 값을 기준으로 고객 세그먼트\n",
    "  \n",
    "*'11_Data.csv'데이터는 포장용기를 판매하는 회사에서 발생한 데이터이며, 포장용기를 온라인으로 구매한 고객들의 정보가 담긴 데이터이다.*"
   ]
  },
  {
   "cell_type": "markdown",
   "id": "43ab0cfe-37c6-41aa-bd41-04f782e34e40",
   "metadata": {},
   "source": [
    "## 1\n",
    "**'11_Data.csv' 데이터를 이용해, 최근성(Recency_int와)가 가장 높은 상위 10% 고객들의 성비와 평균 나이를 계산하시오.**"
   ]
  },
  {
   "cell_type": "code",
   "execution_count": 254,
   "id": "c2acdde5-4335-41ed-86db-a1a47f56762f",
   "metadata": {},
   "outputs": [
    {
     "data": {
      "text/html": [
       "<div>\n",
       "<style scoped>\n",
       "    .dataframe tbody tr th:only-of-type {\n",
       "        vertical-align: middle;\n",
       "    }\n",
       "\n",
       "    .dataframe tbody tr th {\n",
       "        vertical-align: top;\n",
       "    }\n",
       "\n",
       "    .dataframe thead th {\n",
       "        text-align: right;\n",
       "    }\n",
       "</style>\n",
       "<table border=\"1\" class=\"dataframe\">\n",
       "  <thead>\n",
       "    <tr style=\"text-align: right;\">\n",
       "      <th></th>\n",
       "      <th>나이</th>\n",
       "      <th>성별</th>\n",
       "      <th>최종접속일</th>\n",
       "      <th>유입경로</th>\n",
       "      <th>유입기기</th>\n",
       "      <th>회원 가입일</th>\n",
       "      <th>사업자구분</th>\n",
       "      <th>회원구분</th>\n",
       "      <th>주문자ID</th>\n",
       "      <th>Recency</th>\n",
       "      <th>Recency_int</th>\n",
       "      <th>Frequency</th>\n",
       "      <th>Monetary</th>\n",
       "      <th>Total</th>\n",
       "      <th>Rank</th>\n",
       "    </tr>\n",
       "  </thead>\n",
       "  <tbody>\n",
       "    <tr>\n",
       "      <th>0</th>\n",
       "      <td>45</td>\n",
       "      <td>남자</td>\n",
       "      <td>2016-12-30 오후 5:57</td>\n",
       "      <td>블로그광고</td>\n",
       "      <td>PC</td>\n",
       "      <td>2016-12-30</td>\n",
       "      <td>개인</td>\n",
       "      <td>일반</td>\n",
       "      <td>0V00A1</td>\n",
       "      <td>30 days</td>\n",
       "      <td>30</td>\n",
       "      <td>11</td>\n",
       "      <td>678340</td>\n",
       "      <td>339181.2</td>\n",
       "      <td>B</td>\n",
       "    </tr>\n",
       "    <tr>\n",
       "      <th>1</th>\n",
       "      <td>53</td>\n",
       "      <td>남자</td>\n",
       "      <td>2017-01-02 오후 12:32</td>\n",
       "      <td>블로그광고</td>\n",
       "      <td>모바일</td>\n",
       "      <td>2017-01-01</td>\n",
       "      <td>개인</td>\n",
       "      <td>일반</td>\n",
       "      <td>1V00A1</td>\n",
       "      <td>153 days</td>\n",
       "      <td>153</td>\n",
       "      <td>10</td>\n",
       "      <td>799920</td>\n",
       "      <td>400007.9</td>\n",
       "      <td>B</td>\n",
       "    </tr>\n",
       "    <tr>\n",
       "      <th>2</th>\n",
       "      <td>28</td>\n",
       "      <td>남자</td>\n",
       "      <td>2017-02-26 오후 10:52</td>\n",
       "      <td>이메일광고</td>\n",
       "      <td>PC</td>\n",
       "      <td>2017-01-14</td>\n",
       "      <td>사업자</td>\n",
       "      <td>사업자</td>\n",
       "      <td>2V00A1</td>\n",
       "      <td>18 days</td>\n",
       "      <td>18</td>\n",
       "      <td>3105</td>\n",
       "      <td>247597550</td>\n",
       "      <td>123799401.4</td>\n",
       "      <td>A</td>\n",
       "    </tr>\n",
       "  </tbody>\n",
       "</table>\n",
       "</div>"
      ],
      "text/plain": [
       "   나이  성별                최종접속일   유입경로 유입기기      회원 가입일 사업자구분 회원구분   주문자ID  \\\n",
       "0  45  남자   2016-12-30 오후 5:57  블로그광고   PC  2016-12-30    개인   일반  0V00A1   \n",
       "1  53  남자  2017-01-02 오후 12:32  블로그광고  모바일  2017-01-01    개인   일반  1V00A1   \n",
       "2  28  남자  2017-02-26 오후 10:52  이메일광고   PC  2017-01-14   사업자  사업자  2V00A1   \n",
       "\n",
       "    Recency  Recency_int  Frequency   Monetary        Total Rank  \n",
       "0   30 days           30         11     678340     339181.2    B  \n",
       "1  153 days          153         10     799920     400007.9    B  \n",
       "2   18 days           18       3105  247597550  123799401.4    A  "
      ]
     },
     "execution_count": 254,
     "metadata": {},
     "output_type": "execute_result"
    }
   ],
   "source": [
    "# 데이터 불러기기\n",
    "df11=pd.read_csv(\"C:/Users/sshyu/OneDrive/바탕 화면/DSA_13기/11_Data.csv\")\n",
    "# 불필요한 열 제거\n",
    "df11.drop(df11.columns[[0, 1]], axis=1,inplace=True)\n",
    "# 데이터 확인\n",
    "df11.head(3)"
   ]
  },
  {
   "cell_type": "code",
   "execution_count": 255,
   "id": "f24ffe55-8e93-4908-a9e9-09e8e4782f0b",
   "metadata": {},
   "outputs": [],
   "source": [
    "# 최근성 상위 10% 고객 추출\n",
    "df11_1=df11[df11['Recency_int']>=(df11['Recency_int'].quantile(0.90))]"
   ]
  },
  {
   "cell_type": "code",
   "execution_count": 261,
   "id": "6e0d9abc-ccd7-4628-959c-19f1506c99f4",
   "metadata": {},
   "outputs": [
    {
     "name": "stdout",
     "output_type": "stream",
     "text": [
      "최근성 상위 10% 고객들의 성비\n",
      "성별\n",
      "남자    0.931452\n",
      "여자    0.068548\n",
      "Name: proportion, dtype: float64\n",
      "\n",
      "최근성 상위 10% 고객들의 평균나이\n",
      "39.839\n"
     ]
    }
   ],
   "source": [
    "print('최근성 상위 10% 고객들의 성비')\n",
    "print(df11_1['성별'].value_counts(normalize=True))\n",
    "print('\\n최근성 상위 10% 고객들의 평균나이')\n",
    "print(round(df11_1['나이'].mean(),3))"
   ]
  },
  {
   "cell_type": "markdown",
   "id": "dee60a7a-ccb4-424d-b0de-46b2d6beba80",
   "metadata": {},
   "source": [
    "## 2\n",
    "**금액(Monetary)이 높은 1000명의 데이터를 추출하여, '사업자구분'에서 '개인'과 '사업자'간 주기성(Frequency)의 평균의 차이가 있는지 검정하시오.**"
   ]
  },
  {
   "cell_type": "code",
   "execution_count": 264,
   "id": "2f1642fe-6eb1-4d5c-9efc-b6a1bf0f1094",
   "metadata": {},
   "outputs": [],
   "source": [
    "# 금액이 높은 1000명의 데이터 추출\n",
    "df11_2=df11.nlargest(1000,'Monetary')"
   ]
  },
  {
   "cell_type": "code",
   "execution_count": 267,
   "id": "ef29938d-b52a-4eb9-8069-4fa50eb1511f",
   "metadata": {},
   "outputs": [],
   "source": [
    "df11_21=df11_2[df11_2['사업자구분']=='개인']\n",
    "df11_22=df11_2[df11_2['사업자구분']=='사업자']"
   ]
  },
  {
   "cell_type": "code",
   "execution_count": 268,
   "id": "6a91e313-6aaa-42bf-baf2-fdb4c09a94ab",
   "metadata": {},
   "outputs": [
    {
     "data": {
      "text/plain": [
       "NormaltestResult(statistic=np.float64(515.072386083056), pvalue=np.float64(1.423811419089051e-112))"
      ]
     },
     "execution_count": 268,
     "metadata": {},
     "output_type": "execute_result"
    }
   ],
   "source": [
    "stats.normaltest(df11_21['Frequency'])"
   ]
  },
  {
   "cell_type": "code",
   "execution_count": 269,
   "id": "6393e2f3-e075-4c96-89af-cf66eab55cd6",
   "metadata": {},
   "outputs": [
    {
     "data": {
      "text/plain": [
       "NormaltestResult(statistic=np.float64(907.9680468295886), pvalue=np.float64(6.8745418272772e-198))"
      ]
     },
     "execution_count": 269,
     "metadata": {},
     "output_type": "execute_result"
    }
   ],
   "source": [
    "stats.normaltest(df11_22['Frequency'])"
   ]
  },
  {
   "cell_type": "markdown",
   "id": "4dbea828-621a-4680-858d-aa3de5ef5e97",
   "metadata": {},
   "source": [
    "두 normaltest를 통해 사업자구분이 개인인 데이터와 사업자인 데이터 모두 주기성에 대해 정규성을 만족하지 못한다는 것을 알 수 있음\n",
    "\n",
    "**비모수적 검정방법 Mann-Whitney U Test사용**"
   ]
  },
  {
   "cell_type": "code",
   "execution_count": 272,
   "id": "32b1bdb5-7781-4048-9ed9-d12132f8668a",
   "metadata": {},
   "outputs": [
    {
     "data": {
      "text/plain": [
       "MannwhitneyuResult(statistic=np.float64(117437.5), pvalue=np.float64(0.7341984766573728))"
      ]
     },
     "execution_count": 272,
     "metadata": {},
     "output_type": "execute_result"
    }
   ],
   "source": [
    "stats.mannwhitneyu(df11_21['Frequency'], df11_22['Frequency'], alternative='two-sided')"
   ]
  },
  {
   "cell_type": "markdown",
   "id": "6a945c19-97dc-4b83-8a18-bb1c442333bc",
   "metadata": {},
   "source": [
    "h0: 두 집단의 주기성의 평균에 차이가 없음\n",
    "\n",
    "이때 pvalue>a (a=0.05)이므로 h0 accept; 따라서 두 집단의 주기성의 평균에 차이가 없다고 할 수 있음 "
   ]
  },
  {
   "cell_type": "code",
   "execution_count": 274,
   "id": "f37d5c4c-4e1f-4b2e-9261-b700badaa65b",
   "metadata": {},
   "outputs": [
    {
     "name": "stdout",
     "output_type": "stream",
     "text": [
      "29.511475409836066\n",
      "37.833333333333336\n"
     ]
    }
   ],
   "source": [
    "# 실제 값 비교\n",
    "print(df11_21['Frequency'].mean())\n",
    "print(df11_22['Frequency'].mean())"
   ]
  },
  {
   "cell_type": "markdown",
   "id": "ff317453-b9ea-468a-8eb8-b86e1f10f6e5",
   "metadata": {},
   "source": [
    "## 3\n",
    "**최근성(Recency_int와)과 금액(Monetary)간의 상관성을 확인하고자 한다. 성별에 따른 최근성과 금액의 산점도를 시각화 하고, 최근성과 금액 간 상관성이 있는지 가설 검정을 수행하시오.**"
   ]
  },
  {
   "cell_type": "code",
   "execution_count": 286,
   "id": "8f85ad1c-accc-4bdf-b35b-75fcecad1d32",
   "metadata": {},
   "outputs": [],
   "source": [
    "import warnings\n",
    "# 경고 메시지 무시 설정\n",
    "warnings.filterwarnings(\"ignore\", category=UserWarning, message=\".*Glyph 8722.*\")"
   ]
  },
  {
   "cell_type": "code",
   "execution_count": 287,
   "id": "b5e8a28f-a335-47fb-9485-b625cb94e548",
   "metadata": {},
   "outputs": [
    {
     "data": {
      "text/plain": [
       "<seaborn.axisgrid.FacetGrid at 0x1776be1c680>"
      ]
     },
     "execution_count": 287,
     "metadata": {},
     "output_type": "execute_result"
    },
    {
     "data": {
      "image/png": "[encoded data removed]",
      "text/plain": [
       "<Figure size 577.75x500 with 1 Axes>"
      ]
     },
     "metadata": {},
     "output_type": "display_data"
    }
   ],
   "source": [
    "# 성별에 따른 최근성과 금액의 산점도 시각화\n",
    "sns.lmplot(data=df11,x='Monetary',y='Recency_int',hue='성별')"
   ]
  },
  {
   "cell_type": "code",
   "execution_count": 288,
   "id": "b4ee3c85-4c13-4005-b48f-eb11888370a9",
   "metadata": {},
   "outputs": [
    {
     "data": {
      "text/plain": [
       "NormaltestResult(statistic=np.float64(16457.520901727985), pvalue=np.float64(0.0))"
      ]
     },
     "execution_count": 288,
     "metadata": {},
     "output_type": "execute_result"
    }
   ],
   "source": [
    "stats.normaltest(df11['Monetary'])"
   ]
  },
  {
   "cell_type": "markdown",
   "id": "4d0bb0a8-f9ce-47a3-9163-3aeab648542b",
   "metadata": {},
   "source": [
    "h0(:Monetary의 분포가 정규성을 가짐)이 pvalue<a(=0.05)에서 기각\n",
    "\n",
    "따라서 Monetary 분포는 정규성을 따르지 않음"
   ]
  },
  {
   "cell_type": "code",
   "execution_count": 289,
   "id": "677fcea0-e0b3-45a4-aef1-c42e5e030c51",
   "metadata": {},
   "outputs": [
    {
     "data": {
      "text/plain": [
       "NormaltestResult(statistic=np.float64(1003.4450089983651), pvalue=np.float64(1.2725792844076955e-218))"
      ]
     },
     "execution_count": 289,
     "metadata": {},
     "output_type": "execute_result"
    }
   ],
   "source": [
    "stats.normaltest(df11['Recency_int'])"
   ]
  },
  {
   "cell_type": "markdown",
   "id": "c7eebfb4-4051-4d5f-8048-f56ebb4e63b1",
   "metadata": {},
   "source": [
    "h0(:Recency_int의 분포가 정규성을 가짐)이 pvalue<a(=0.05)에서 기각\n",
    "\n",
    "따라서 Recency_int 분포는 정규성을 따르지 않음"
   ]
  },
  {
   "cell_type": "markdown",
   "id": "a555ffbc-5ca6-4aa7-8b70-bee2192e1997",
   "metadata": {},
   "source": [
    "## 4\n",
    "**'유입경로'의 빈도수가 가장 높은 항목에 대해 Recency_int와 Frequency, Monetary의 기술 통계량을 계산하시오.**"
   ]
  },
  {
   "cell_type": "code",
   "execution_count": 297,
   "id": "b7b57d79-9658-4715-b07c-7eb130c6ea35",
   "metadata": {},
   "outputs": [
    {
     "data": {
      "text/html": [
       "<div>\n",
       "<style scoped>\n",
       "    .dataframe tbody tr th:only-of-type {\n",
       "        vertical-align: middle;\n",
       "    }\n",
       "\n",
       "    .dataframe tbody tr th {\n",
       "        vertical-align: top;\n",
       "    }\n",
       "\n",
       "    .dataframe thead th {\n",
       "        text-align: right;\n",
       "    }\n",
       "</style>\n",
       "<table border=\"1\" class=\"dataframe\">\n",
       "  <thead>\n",
       "    <tr style=\"text-align: right;\">\n",
       "      <th></th>\n",
       "      <th>Recency_int</th>\n",
       "      <th>Frequency</th>\n",
       "      <th>Monetary</th>\n",
       "    </tr>\n",
       "  </thead>\n",
       "  <tbody>\n",
       "    <tr>\n",
       "      <th>count</th>\n",
       "      <td>952.000000</td>\n",
       "      <td>952.000000</td>\n",
       "      <td>9.520000e+02</td>\n",
       "    </tr>\n",
       "    <tr>\n",
       "      <th>mean</th>\n",
       "      <td>113.576681</td>\n",
       "      <td>13.600840</td>\n",
       "      <td>9.576875e+05</td>\n",
       "    </tr>\n",
       "    <tr>\n",
       "      <th>std</th>\n",
       "      <td>122.263297</td>\n",
       "      <td>25.226343</td>\n",
       "      <td>1.953218e+06</td>\n",
       "    </tr>\n",
       "    <tr>\n",
       "      <th>min</th>\n",
       "      <td>0.000000</td>\n",
       "      <td>1.000000</td>\n",
       "      <td>0.000000e+00</td>\n",
       "    </tr>\n",
       "    <tr>\n",
       "      <th>25%</th>\n",
       "      <td>35.000000</td>\n",
       "      <td>2.000000</td>\n",
       "      <td>1.258850e+05</td>\n",
       "    </tr>\n",
       "    <tr>\n",
       "      <th>50%</th>\n",
       "      <td>72.000000</td>\n",
       "      <td>5.000000</td>\n",
       "      <td>3.425350e+05</td>\n",
       "    </tr>\n",
       "    <tr>\n",
       "      <th>75%</th>\n",
       "      <td>142.000000</td>\n",
       "      <td>14.000000</td>\n",
       "      <td>8.921725e+05</td>\n",
       "    </tr>\n",
       "    <tr>\n",
       "      <th>max</th>\n",
       "      <td>856.000000</td>\n",
       "      <td>295.000000</td>\n",
       "      <td>2.293101e+07</td>\n",
       "    </tr>\n",
       "  </tbody>\n",
       "</table>\n",
       "</div>"
      ],
      "text/plain": [
       "       Recency_int   Frequency      Monetary\n",
       "count   952.000000  952.000000  9.520000e+02\n",
       "mean    113.576681   13.600840  9.576875e+05\n",
       "std     122.263297   25.226343  1.953218e+06\n",
       "min       0.000000    1.000000  0.000000e+00\n",
       "25%      35.000000    2.000000  1.258850e+05\n",
       "50%      72.000000    5.000000  3.425350e+05\n",
       "75%     142.000000   14.000000  8.921725e+05\n",
       "max     856.000000  295.000000  2.293101e+07"
      ]
     },
     "execution_count": 297,
     "metadata": {},
     "output_type": "execute_result"
    }
   ],
   "source": [
    "# 유입결로 빈도수가 가장 많은 항목 찾기\n",
    "best_path=df11['유입경로'].value_counts().idxmax()\n",
    "df11_4=df11[df11['유입경로']==best_path]\n",
    "# 세가지 연속형 변수의 기술 통계량 확인\n",
    "df11_4[['Recency_int','Frequency','Monetary']].describe()"
   ]
  },
  {
   "cell_type": "markdown",
   "id": "668c0f49-d4ae-4e38-bbd3-5eb76dea6386",
   "metadata": {},
   "source": [
    "## 5\n",
    "**회원가입일과 최종접속일 데이터를 이용해 '접속기간'이라는 파생 변수를 생성하고, '접속기간'이 가장 오래된 100명의 고객 명단을 뽑아 result_vip_member.xlsx로 저장하시오.**"
   ]
  },
  {
   "cell_type": "code",
   "execution_count": 339,
   "id": "874618b4-6883-489e-9f54-15b656801403",
   "metadata": {},
   "outputs": [
    {
     "data": {
      "text/html": [
       "<div>\n",
       "<style scoped>\n",
       "    .dataframe tbody tr th:only-of-type {\n",
       "        vertical-align: middle;\n",
       "    }\n",
       "\n",
       "    .dataframe tbody tr th {\n",
       "        vertical-align: top;\n",
       "    }\n",
       "\n",
       "    .dataframe thead th {\n",
       "        text-align: right;\n",
       "    }\n",
       "</style>\n",
       "<table border=\"1\" class=\"dataframe\">\n",
       "  <thead>\n",
       "    <tr style=\"text-align: right;\">\n",
       "      <th></th>\n",
       "      <th>나이</th>\n",
       "      <th>성별</th>\n",
       "      <th>최종접속일</th>\n",
       "      <th>유입경로</th>\n",
       "      <th>유입기기</th>\n",
       "      <th>회원 가입일</th>\n",
       "      <th>사업자구분</th>\n",
       "      <th>회원구분</th>\n",
       "      <th>주문자ID</th>\n",
       "      <th>Recency</th>\n",
       "      <th>Recency_int</th>\n",
       "      <th>Frequency</th>\n",
       "      <th>Monetary</th>\n",
       "      <th>Total</th>\n",
       "      <th>Rank</th>\n",
       "    </tr>\n",
       "  </thead>\n",
       "  <tbody>\n",
       "    <tr>\n",
       "      <th>0</th>\n",
       "      <td>45</td>\n",
       "      <td>남자</td>\n",
       "      <td>2016-12-30 오후 5:57</td>\n",
       "      <td>블로그광고</td>\n",
       "      <td>PC</td>\n",
       "      <td>2016-12-30</td>\n",
       "      <td>개인</td>\n",
       "      <td>일반</td>\n",
       "      <td>0V00A1</td>\n",
       "      <td>30 days</td>\n",
       "      <td>30</td>\n",
       "      <td>11</td>\n",
       "      <td>678340</td>\n",
       "      <td>339181.2</td>\n",
       "      <td>B</td>\n",
       "    </tr>\n",
       "    <tr>\n",
       "      <th>1</th>\n",
       "      <td>53</td>\n",
       "      <td>남자</td>\n",
       "      <td>2017-01-02 오후 12:32</td>\n",
       "      <td>블로그광고</td>\n",
       "      <td>모바일</td>\n",
       "      <td>2017-01-01</td>\n",
       "      <td>개인</td>\n",
       "      <td>일반</td>\n",
       "      <td>1V00A1</td>\n",
       "      <td>153 days</td>\n",
       "      <td>153</td>\n",
       "      <td>10</td>\n",
       "      <td>799920</td>\n",
       "      <td>400007.9</td>\n",
       "      <td>B</td>\n",
       "    </tr>\n",
       "    <tr>\n",
       "      <th>2</th>\n",
       "      <td>28</td>\n",
       "      <td>남자</td>\n",
       "      <td>2017-02-26 오후 10:52</td>\n",
       "      <td>이메일광고</td>\n",
       "      <td>PC</td>\n",
       "      <td>2017-01-14</td>\n",
       "      <td>사업자</td>\n",
       "      <td>사업자</td>\n",
       "      <td>2V00A1</td>\n",
       "      <td>18 days</td>\n",
       "      <td>18</td>\n",
       "      <td>3105</td>\n",
       "      <td>247597550</td>\n",
       "      <td>123799401.4</td>\n",
       "      <td>A</td>\n",
       "    </tr>\n",
       "    <tr>\n",
       "      <th>3</th>\n",
       "      <td>44</td>\n",
       "      <td>여자</td>\n",
       "      <td>2017-01-23 오후 6:25</td>\n",
       "      <td>블로그광고</td>\n",
       "      <td>PC</td>\n",
       "      <td>2017-01-17</td>\n",
       "      <td>사업자</td>\n",
       "      <td>사업자</td>\n",
       "      <td>3V00A1</td>\n",
       "      <td>23 days</td>\n",
       "      <td>23</td>\n",
       "      <td>24</td>\n",
       "      <td>2826660</td>\n",
       "      <td>1413341.7</td>\n",
       "      <td>A</td>\n",
       "    </tr>\n",
       "    <tr>\n",
       "      <th>4</th>\n",
       "      <td>40</td>\n",
       "      <td>남자</td>\n",
       "      <td>2018-12-19 오후 1:26</td>\n",
       "      <td>SNS광고</td>\n",
       "      <td>모바일</td>\n",
       "      <td>2017-01-17</td>\n",
       "      <td>사업자</td>\n",
       "      <td>사업자</td>\n",
       "      <td>4V00A1</td>\n",
       "      <td>28 days</td>\n",
       "      <td>28</td>\n",
       "      <td>45</td>\n",
       "      <td>2785020</td>\n",
       "      <td>1392527.4</td>\n",
       "      <td>A</td>\n",
       "    </tr>\n",
       "  </tbody>\n",
       "</table>\n",
       "</div>"
      ],
      "text/plain": [
       "   나이  성별                최종접속일   유입경로 유입기기      회원 가입일 사업자구분 회원구분   주문자ID  \\\n",
       "0  45  남자   2016-12-30 오후 5:57  블로그광고   PC  2016-12-30    개인   일반  0V00A1   \n",
       "1  53  남자  2017-01-02 오후 12:32  블로그광고  모바일  2017-01-01    개인   일반  1V00A1   \n",
       "2  28  남자  2017-02-26 오후 10:52  이메일광고   PC  2017-01-14   사업자  사업자  2V00A1   \n",
       "3  44  여자   2017-01-23 오후 6:25  블로그광고   PC  2017-01-17   사업자  사업자  3V00A1   \n",
       "4  40  남자   2018-12-19 오후 1:26  SNS광고  모바일  2017-01-17   사업자  사업자  4V00A1   \n",
       "\n",
       "    Recency  Recency_int  Frequency   Monetary        Total Rank  \n",
       "0   30 days           30         11     678340     339181.2    B  \n",
       "1  153 days          153         10     799920     400007.9    B  \n",
       "2   18 days           18       3105  247597550  123799401.4    A  \n",
       "3   23 days           23         24    2826660    1413341.7    A  \n",
       "4   28 days           28         45    2785020    1392527.4    A  "
      ]
     },
     "execution_count": 339,
     "metadata": {},
     "output_type": "execute_result"
    }
   ],
   "source": [
    "df11.head()"
   ]
  },
  {
   "cell_type": "code",
   "execution_count": 342,
   "id": "5261dac6-d8b3-4750-9e32-2a7a32f849cd",
   "metadata": {},
   "outputs": [],
   "source": [
    "# 최종접속일 열에서 오전/오후 전까지의 string 만 추출하기 (날짜까지만 사용하기 위해)\n",
    "df11['최종 접속일자'] = df11['최종접속일'].str.split(' ').str[0]"
   ]
  },
  {
   "cell_type": "code",
   "execution_count": 351,
   "id": "40170242-d396-435d-91ba-4e715098e53c",
   "metadata": {},
   "outputs": [],
   "source": [
    "# 회원가입일과 최종접속일 데이터를 이용해 접속기간 파생변수 생성\n",
    "df11['접속기간']=pd.to_datetime(df11['최종 접속일자'])-pd.to_datetime(df11['회원 가입일'])"
   ]
  },
  {
   "cell_type": "code",
   "execution_count": 362,
   "id": "786de9e6-2d10-4bfb-bf99-7dcc103eadb7",
   "metadata": {},
   "outputs": [],
   "source": [
    "# 접속기간이 가장 오래된 100명의 고객 명단 뽑기\n",
    "df11_5=df11.nlargest(100,'접속기간').reset_index(drop=True)\n",
    "df11_5.to_excel(\"C:/Users/sshyu/OneDrive/바탕 화면/DSA_13기/result_vip_member.xlsx\",index=False)"
   ]
  },
  {
   "cell_type": "code",
   "execution_count": 363,
   "id": "9486f20b-0e71-4955-94e0-c5c4c4ec2b82",
   "metadata": {},
   "outputs": [
    {
     "data": {
      "text/html": [
       "<div>\n",
       "<style scoped>\n",
       "    .dataframe tbody tr th:only-of-type {\n",
       "        vertical-align: middle;\n",
       "    }\n",
       "\n",
       "    .dataframe tbody tr th {\n",
       "        vertical-align: top;\n",
       "    }\n",
       "\n",
       "    .dataframe thead th {\n",
       "        text-align: right;\n",
       "    }\n",
       "</style>\n",
       "<table border=\"1\" class=\"dataframe\">\n",
       "  <thead>\n",
       "    <tr style=\"text-align: right;\">\n",
       "      <th></th>\n",
       "      <th>나이</th>\n",
       "      <th>성별</th>\n",
       "      <th>최종접속일</th>\n",
       "      <th>유입경로</th>\n",
       "      <th>유입기기</th>\n",
       "      <th>회원 가입일</th>\n",
       "      <th>사업자구분</th>\n",
       "      <th>회원구분</th>\n",
       "      <th>주문자ID</th>\n",
       "      <th>Recency</th>\n",
       "      <th>Recency_int</th>\n",
       "      <th>Frequency</th>\n",
       "      <th>Monetary</th>\n",
       "      <th>Total</th>\n",
       "      <th>Rank</th>\n",
       "      <th>최종 접속일자</th>\n",
       "      <th>접속기간</th>\n",
       "    </tr>\n",
       "  </thead>\n",
       "  <tbody>\n",
       "    <tr>\n",
       "      <th>0</th>\n",
       "      <td>61</td>\n",
       "      <td>여자</td>\n",
       "      <td>2019-05-30 오후 3:28</td>\n",
       "      <td>인터넷기사광고</td>\n",
       "      <td>PC</td>\n",
       "      <td>2017-03-02</td>\n",
       "      <td>개인</td>\n",
       "      <td>일반</td>\n",
       "      <td>25V00A1</td>\n",
       "      <td>25 days</td>\n",
       "      <td>25</td>\n",
       "      <td>25</td>\n",
       "      <td>1315760</td>\n",
       "      <td>657892.5</td>\n",
       "      <td>B</td>\n",
       "      <td>2019-05-30</td>\n",
       "      <td>819</td>\n",
       "    </tr>\n",
       "    <tr>\n",
       "      <th>1</th>\n",
       "      <td>40</td>\n",
       "      <td>남자</td>\n",
       "      <td>2019-05-03 오전 4:06</td>\n",
       "      <td>인터넷기사광고</td>\n",
       "      <td>PC</td>\n",
       "      <td>2017-03-08</td>\n",
       "      <td>사업자</td>\n",
       "      <td>사업자</td>\n",
       "      <td>30V00A1</td>\n",
       "      <td>20 days</td>\n",
       "      <td>20</td>\n",
       "      <td>56</td>\n",
       "      <td>3289780</td>\n",
       "      <td>1644907.2</td>\n",
       "      <td>A</td>\n",
       "      <td>2019-05-03</td>\n",
       "      <td>786</td>\n",
       "    </tr>\n",
       "    <tr>\n",
       "      <th>2</th>\n",
       "      <td>40</td>\n",
       "      <td>남자</td>\n",
       "      <td>2019-05-13 오후 12:00</td>\n",
       "      <td>인터넷기사광고</td>\n",
       "      <td>PC</td>\n",
       "      <td>2017-03-29</td>\n",
       "      <td>개인</td>\n",
       "      <td>전화주문 고객</td>\n",
       "      <td>50V00A1</td>\n",
       "      <td>22 days</td>\n",
       "      <td>22</td>\n",
       "      <td>214</td>\n",
       "      <td>19956830</td>\n",
       "      <td>9978464.4</td>\n",
       "      <td>A</td>\n",
       "      <td>2019-05-13</td>\n",
       "      <td>775</td>\n",
       "    </tr>\n",
       "    <tr>\n",
       "      <th>3</th>\n",
       "      <td>40</td>\n",
       "      <td>남자</td>\n",
       "      <td>2019-05-03 오후 2:15</td>\n",
       "      <td>인터넷기사광고</td>\n",
       "      <td>PC</td>\n",
       "      <td>2017-03-21</td>\n",
       "      <td>사업자</td>\n",
       "      <td>특별회원</td>\n",
       "      <td>37V00A1</td>\n",
       "      <td>36 days</td>\n",
       "      <td>36</td>\n",
       "      <td>82</td>\n",
       "      <td>4385860</td>\n",
       "      <td>2192957.2</td>\n",
       "      <td>A</td>\n",
       "      <td>2019-05-03</td>\n",
       "      <td>773</td>\n",
       "    </tr>\n",
       "    <tr>\n",
       "      <th>4</th>\n",
       "      <td>39</td>\n",
       "      <td>여자</td>\n",
       "      <td>2019-05-17 오전 9:49</td>\n",
       "      <td>인터넷기사광고</td>\n",
       "      <td>PC</td>\n",
       "      <td>2017-04-09</td>\n",
       "      <td>사업자</td>\n",
       "      <td>사업자</td>\n",
       "      <td>59V00A1</td>\n",
       "      <td>23 days</td>\n",
       "      <td>23</td>\n",
       "      <td>30</td>\n",
       "      <td>1862550</td>\n",
       "      <td>931287.9</td>\n",
       "      <td>A</td>\n",
       "      <td>2019-05-17</td>\n",
       "      <td>768</td>\n",
       "    </tr>\n",
       "    <tr>\n",
       "      <th>...</th>\n",
       "      <td>...</td>\n",
       "      <td>...</td>\n",
       "      <td>...</td>\n",
       "      <td>...</td>\n",
       "      <td>...</td>\n",
       "      <td>...</td>\n",
       "      <td>...</td>\n",
       "      <td>...</td>\n",
       "      <td>...</td>\n",
       "      <td>...</td>\n",
       "      <td>...</td>\n",
       "      <td>...</td>\n",
       "      <td>...</td>\n",
       "      <td>...</td>\n",
       "      <td>...</td>\n",
       "      <td>...</td>\n",
       "      <td>...</td>\n",
       "    </tr>\n",
       "    <tr>\n",
       "      <th>95</th>\n",
       "      <td>36</td>\n",
       "      <td>여자</td>\n",
       "      <td>2019-05-06 오후 12:54</td>\n",
       "      <td>기타</td>\n",
       "      <td>PC</td>\n",
       "      <td>2018-01-11</td>\n",
       "      <td>사업자</td>\n",
       "      <td>사업자</td>\n",
       "      <td>642V00A1</td>\n",
       "      <td>22 days</td>\n",
       "      <td>22</td>\n",
       "      <td>17</td>\n",
       "      <td>1714130</td>\n",
       "      <td>857075.0</td>\n",
       "      <td>A</td>\n",
       "      <td>2019-05-06</td>\n",
       "      <td>480</td>\n",
       "    </tr>\n",
       "    <tr>\n",
       "      <th>96</th>\n",
       "      <td>26</td>\n",
       "      <td>남자</td>\n",
       "      <td>2019-05-30 오전 10:55</td>\n",
       "      <td>잡지광고</td>\n",
       "      <td>모바일</td>\n",
       "      <td>2018-02-05</td>\n",
       "      <td>사업자</td>\n",
       "      <td>사업자</td>\n",
       "      <td>795V00A1</td>\n",
       "      <td>29 days</td>\n",
       "      <td>29</td>\n",
       "      <td>27</td>\n",
       "      <td>1941760</td>\n",
       "      <td>970894.1</td>\n",
       "      <td>A</td>\n",
       "      <td>2019-05-30</td>\n",
       "      <td>479</td>\n",
       "    </tr>\n",
       "    <tr>\n",
       "      <th>97</th>\n",
       "      <td>24</td>\n",
       "      <td>남자</td>\n",
       "      <td>2019-05-15 오전 9:08</td>\n",
       "      <td>이메일광고</td>\n",
       "      <td>PC</td>\n",
       "      <td>2018-01-23</td>\n",
       "      <td>개인</td>\n",
       "      <td>전화주문 고객</td>\n",
       "      <td>711V00A1</td>\n",
       "      <td>154 days</td>\n",
       "      <td>154</td>\n",
       "      <td>5</td>\n",
       "      <td>226880</td>\n",
       "      <td>113487.2</td>\n",
       "      <td>C</td>\n",
       "      <td>2019-05-15</td>\n",
       "      <td>477</td>\n",
       "    </tr>\n",
       "    <tr>\n",
       "      <th>98</th>\n",
       "      <td>40</td>\n",
       "      <td>남자</td>\n",
       "      <td>2019-05-30 오전 9:52</td>\n",
       "      <td>SNS광고</td>\n",
       "      <td>모바일</td>\n",
       "      <td>2018-02-07</td>\n",
       "      <td>개인</td>\n",
       "      <td>일반</td>\n",
       "      <td>810V00A1</td>\n",
       "      <td>22 days</td>\n",
       "      <td>22</td>\n",
       "      <td>37</td>\n",
       "      <td>2011500</td>\n",
       "      <td>1005764.0</td>\n",
       "      <td>A</td>\n",
       "      <td>2019-05-30</td>\n",
       "      <td>477</td>\n",
       "    </tr>\n",
       "    <tr>\n",
       "      <th>99</th>\n",
       "      <td>34</td>\n",
       "      <td>남자</td>\n",
       "      <td>2019-04-25 오후 7:04</td>\n",
       "      <td>이메일광고</td>\n",
       "      <td>PC</td>\n",
       "      <td>2018-01-04</td>\n",
       "      <td>사업자</td>\n",
       "      <td>사업자</td>\n",
       "      <td>580V00A1</td>\n",
       "      <td>157 days</td>\n",
       "      <td>157</td>\n",
       "      <td>5</td>\n",
       "      <td>255740</td>\n",
       "      <td>127918.1</td>\n",
       "      <td>C</td>\n",
       "      <td>2019-04-25</td>\n",
       "      <td>476</td>\n",
       "    </tr>\n",
       "  </tbody>\n",
       "</table>\n",
       "<p>100 rows × 17 columns</p>\n",
       "</div>"
      ],
      "text/plain": [
       "    나이  성별                최종접속일     유입경로 유입기기      회원 가입일 사업자구분     회원구분  \\\n",
       "0   61  여자   2019-05-30 오후 3:28  인터넷기사광고   PC  2017-03-02    개인       일반   \n",
       "1   40  남자   2019-05-03 오전 4:06  인터넷기사광고   PC  2017-03-08   사업자      사업자   \n",
       "2   40  남자  2019-05-13 오후 12:00  인터넷기사광고   PC  2017-03-29    개인  전화주문 고객   \n",
       "3   40  남자   2019-05-03 오후 2:15  인터넷기사광고   PC  2017-03-21   사업자     특별회원   \n",
       "4   39  여자   2019-05-17 오전 9:49  인터넷기사광고   PC  2017-04-09   사업자      사업자   \n",
       "..  ..  ..                  ...      ...  ...         ...   ...      ...   \n",
       "95  36  여자  2019-05-06 오후 12:54       기타   PC  2018-01-11   사업자      사업자   \n",
       "96  26  남자  2019-05-30 오전 10:55     잡지광고  모바일  2018-02-05   사업자      사업자   \n",
       "97  24  남자   2019-05-15 오전 9:08    이메일광고   PC  2018-01-23    개인  전화주문 고객   \n",
       "98  40  남자   2019-05-30 오전 9:52    SNS광고  모바일  2018-02-07    개인       일반   \n",
       "99  34  남자   2019-04-25 오후 7:04    이메일광고   PC  2018-01-04   사업자      사업자   \n",
       "\n",
       "       주문자ID   Recency  Recency_int  Frequency  Monetary      Total Rank  \\\n",
       "0    25V00A1   25 days           25         25   1315760   657892.5    B   \n",
       "1    30V00A1   20 days           20         56   3289780  1644907.2    A   \n",
       "2    50V00A1   22 days           22        214  19956830  9978464.4    A   \n",
       "3    37V00A1   36 days           36         82   4385860  2192957.2    A   \n",
       "4    59V00A1   23 days           23         30   1862550   931287.9    A   \n",
       "..       ...       ...          ...        ...       ...        ...  ...   \n",
       "95  642V00A1   22 days           22         17   1714130   857075.0    A   \n",
       "96  795V00A1   29 days           29         27   1941760   970894.1    A   \n",
       "97  711V00A1  154 days          154          5    226880   113487.2    C   \n",
       "98  810V00A1   22 days           22         37   2011500  1005764.0    A   \n",
       "99  580V00A1  157 days          157          5    255740   127918.1    C   \n",
       "\n",
       "       최종 접속일자  접속기간  \n",
       "0   2019-05-30   819  \n",
       "1   2019-05-03   786  \n",
       "2   2019-05-13   775  \n",
       "3   2019-05-03   773  \n",
       "4   2019-05-17   768  \n",
       "..         ...   ...  \n",
       "95  2019-05-06   480  \n",
       "96  2019-05-30   479  \n",
       "97  2019-05-15   477  \n",
       "98  2019-05-30   477  \n",
       "99  2019-04-25   476  \n",
       "\n",
       "[100 rows x 17 columns]"
      ]
     },
     "execution_count": 363,
     "metadata": {},
     "output_type": "execute_result"
    }
   ],
   "source": [
    "# 데이터 불러와서 확인하기\n",
    "pd.read_excel(\"C:/Users/sshyu/OneDrive/바탕 화면/DSA_13기/result_vip_member.xlsx\")"
   ]
  }
 ],
 "metadata": {
  "kernelspec": {
   "display_name": "Python 3 (ipykernel)",
   "language": "python",
   "name": "python3"
  },
  "language_info": {
   "codemirror_mode": {
    "name": "ipython",
    "version": 3
   },
   "file_extension": ".py",
   "mimetype": "text/x-python",
   "name": "python",
   "nbconvert_exporter": "python",
   "pygments_lexer": "ipython3",
   "version": "3.12.5"
  }
 },
 "nbformat": 4,
 "nbformat_minor": 5
}
