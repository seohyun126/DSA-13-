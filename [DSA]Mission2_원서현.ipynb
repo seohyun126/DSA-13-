{
 "cells": [
  {
   "cell_type": "markdown",
   "id": "d86591d2-1a9d-4f4e-b64f-ed70bb23d506",
   "metadata": {},
   "source": [
    "- 02_Data.csv 데이터로 아래의 과제를 수행하고자 한다.\n",
    "## 1. \n",
    "데이터를 df1으로 선언하고, 데이터의 구조와 타입을 확인\n"
   ]
  },
  {
   "cell_type": "code",
   "execution_count": 10,
   "id": "715ced7c-5d1a-431d-b40e-69c4459ee671",
   "metadata": {},
   "outputs": [
    {
     "data": {
      "text/html": [
       "<div>\n",
       "<style scoped>\n",
       "    .dataframe tbody tr th:only-of-type {\n",
       "        vertical-align: middle;\n",
       "    }\n",
       "\n",
       "    .dataframe tbody tr th {\n",
       "        vertical-align: top;\n",
       "    }\n",
       "\n",
       "    .dataframe thead th {\n",
       "        text-align: right;\n",
       "    }\n",
       "</style>\n",
       "<table border=\"1\" class=\"dataframe\">\n",
       "  <thead>\n",
       "    <tr style=\"text-align: right;\">\n",
       "      <th></th>\n",
       "      <th>Unnamed: 0</th>\n",
       "      <th>날짜</th>\n",
       "      <th>상품명</th>\n",
       "      <th>바코드</th>\n",
       "      <th>발주가능상태</th>\n",
       "      <th>입고수량</th>\n",
       "      <th>카테고리</th>\n",
       "      <th>출고수량</th>\n",
       "    </tr>\n",
       "  </thead>\n",
       "  <tbody>\n",
       "    <tr>\n",
       "      <th>0</th>\n",
       "      <td>0</td>\n",
       "      <td>2019-05-16</td>\n",
       "      <td>V2_0</td>\n",
       "      <td>8.801047e+12</td>\n",
       "      <td>발주가능</td>\n",
       "      <td>384</td>\n",
       "      <td>세탁세제</td>\n",
       "      <td>72</td>\n",
       "    </tr>\n",
       "    <tr>\n",
       "      <th>1</th>\n",
       "      <td>1</td>\n",
       "      <td>2019-05-16</td>\n",
       "      <td>V2_3</td>\n",
       "      <td>8.801047e+12</td>\n",
       "      <td>발주가능</td>\n",
       "      <td>207</td>\n",
       "      <td>세탁세제</td>\n",
       "      <td>5</td>\n",
       "    </tr>\n",
       "    <tr>\n",
       "      <th>2</th>\n",
       "      <td>2</td>\n",
       "      <td>2019-05-16</td>\n",
       "      <td>V2_7</td>\n",
       "      <td>8.801047e+12</td>\n",
       "      <td>발주가능</td>\n",
       "      <td>520</td>\n",
       "      <td>헤어케어</td>\n",
       "      <td>19</td>\n",
       "    </tr>\n",
       "    <tr>\n",
       "      <th>3</th>\n",
       "      <td>3</td>\n",
       "      <td>2019-05-16</td>\n",
       "      <td>V2_11</td>\n",
       "      <td>8.801047e+12</td>\n",
       "      <td>발주가능</td>\n",
       "      <td>0</td>\n",
       "      <td>세탁세제</td>\n",
       "      <td>5</td>\n",
       "    </tr>\n",
       "    <tr>\n",
       "      <th>4</th>\n",
       "      <td>4</td>\n",
       "      <td>2019-05-16</td>\n",
       "      <td>V2_14</td>\n",
       "      <td>8.801046e+12</td>\n",
       "      <td>발주가능</td>\n",
       "      <td>96</td>\n",
       "      <td>세탁세제</td>\n",
       "      <td>1</td>\n",
       "    </tr>\n",
       "  </tbody>\n",
       "</table>\n",
       "</div>"
      ],
      "text/plain": [
       "   Unnamed: 0          날짜    상품명           바코드 발주가능상태  입고수량  카테고리  출고수량\n",
       "0           0  2019-05-16   V2_0  8.801047e+12   발주가능   384  세탁세제    72\n",
       "1           1  2019-05-16   V2_3  8.801047e+12   발주가능   207  세탁세제     5\n",
       "2           2  2019-05-16   V2_7  8.801047e+12   발주가능   520  헤어케어    19\n",
       "3           3  2019-05-16  V2_11  8.801047e+12   발주가능     0  세탁세제     5\n",
       "4           4  2019-05-16  V2_14  8.801046e+12   발주가능    96  세탁세제     1"
      ]
     },
     "execution_count": 10,
     "metadata": {},
     "output_type": "execute_result"
    }
   ],
   "source": [
    "import pandas as pd\n",
    "df1=pd.read_csv(\"C:/Users/sshyu/OneDrive/바탕 화면/DSA_13기/02_Data.csv\",encoding='cp949')\n",
    "df1.head()"
   ]
  },
  {
   "cell_type": "code",
   "execution_count": 12,
   "id": "b6ba30b6-145c-4cad-b329-e1d8b419d198",
   "metadata": {},
   "outputs": [
    {
     "name": "stdout",
     "output_type": "stream",
     "text": [
      "<class 'pandas.core.frame.DataFrame'>\n",
      "RangeIndex: 15000 entries, 0 to 14999\n",
      "Data columns (total 8 columns):\n",
      " #   Column      Non-Null Count  Dtype  \n",
      "---  ------      --------------  -----  \n",
      " 0   Unnamed: 0  15000 non-null  int64  \n",
      " 1   날짜          15000 non-null  object \n",
      " 2   상품명         15000 non-null  object \n",
      " 3   바코드         14992 non-null  float64\n",
      " 4   발주가능상태      15000 non-null  object \n",
      " 5   입고수량        15000 non-null  int64  \n",
      " 6   카테고리        15000 non-null  object \n",
      " 7   출고수량        15000 non-null  int64  \n",
      "dtypes: float64(1), int64(3), object(4)\n",
      "memory usage: 937.6+ KB\n"
     ]
    }
   ],
   "source": [
    "df1.info()\n",
    "# 데이터의 구조와 타입을 확인"
   ]
  },
  {
   "cell_type": "markdown",
   "id": "fd8d96aa-e01b-47e6-805a-8c2cb3394dac",
   "metadata": {},
   "source": [
    "## 2. \n",
    "'카테고리'항목 중 '세탁세제'의 '출고수량'이 높은 100개 데이터를 추출해 result7.xlsx으\n",
    "로 저장"
   ]
  },
  {
   "cell_type": "code",
   "execution_count": 20,
   "id": "0721af71-bfe3-4157-b05c-a66b19447ddc",
   "metadata": {},
   "outputs": [
    {
     "data": {
      "text/html": [
       "<div>\n",
       "<style scoped>\n",
       "    .dataframe tbody tr th:only-of-type {\n",
       "        vertical-align: middle;\n",
       "    }\n",
       "\n",
       "    .dataframe tbody tr th {\n",
       "        vertical-align: top;\n",
       "    }\n",
       "\n",
       "    .dataframe thead th {\n",
       "        text-align: right;\n",
       "    }\n",
       "</style>\n",
       "<table border=\"1\" class=\"dataframe\">\n",
       "  <thead>\n",
       "    <tr style=\"text-align: right;\">\n",
       "      <th></th>\n",
       "      <th>Unnamed: 0</th>\n",
       "      <th>날짜</th>\n",
       "      <th>상품명</th>\n",
       "      <th>바코드</th>\n",
       "      <th>발주가능상태</th>\n",
       "      <th>입고수량</th>\n",
       "      <th>카테고리</th>\n",
       "      <th>출고수량</th>\n",
       "    </tr>\n",
       "  </thead>\n",
       "  <tbody>\n",
       "    <tr>\n",
       "      <th>3647</th>\n",
       "      <td>3647</td>\n",
       "      <td>2019-06-03</td>\n",
       "      <td>V2_86</td>\n",
       "      <td>1.880105e+13</td>\n",
       "      <td>발주가능</td>\n",
       "      <td>9777</td>\n",
       "      <td>세탁세제</td>\n",
       "      <td>308</td>\n",
       "    </tr>\n",
       "    <tr>\n",
       "      <th>9091</th>\n",
       "      <td>9091</td>\n",
       "      <td>2019-07-01</td>\n",
       "      <td>V2_86</td>\n",
       "      <td>1.880105e+13</td>\n",
       "      <td>발주가능</td>\n",
       "      <td>0</td>\n",
       "      <td>세탁세제</td>\n",
       "      <td>305</td>\n",
       "    </tr>\n",
       "    <tr>\n",
       "      <th>12175</th>\n",
       "      <td>12175</td>\n",
       "      <td>2019-07-16</td>\n",
       "      <td>V2_86</td>\n",
       "      <td>1.880105e+13</td>\n",
       "      <td>발주가능</td>\n",
       "      <td>6600</td>\n",
       "      <td>세탁세제</td>\n",
       "      <td>273</td>\n",
       "    </tr>\n",
       "    <tr>\n",
       "      <th>5005</th>\n",
       "      <td>5005</td>\n",
       "      <td>2019-06-10</td>\n",
       "      <td>V2_86</td>\n",
       "      <td>1.880105e+13</td>\n",
       "      <td>발주가능</td>\n",
       "      <td>0</td>\n",
       "      <td>세탁세제</td>\n",
       "      <td>266</td>\n",
       "    </tr>\n",
       "    <tr>\n",
       "      <th>3831</th>\n",
       "      <td>3831</td>\n",
       "      <td>2019-06-04</td>\n",
       "      <td>V2_86</td>\n",
       "      <td>1.880105e+13</td>\n",
       "      <td>발주가능</td>\n",
       "      <td>0</td>\n",
       "      <td>세탁세제</td>\n",
       "      <td>258</td>\n",
       "    </tr>\n",
       "    <tr>\n",
       "      <th>...</th>\n",
       "      <td>...</td>\n",
       "      <td>...</td>\n",
       "      <td>...</td>\n",
       "      <td>...</td>\n",
       "      <td>...</td>\n",
       "      <td>...</td>\n",
       "      <td>...</td>\n",
       "      <td>...</td>\n",
       "    </tr>\n",
       "    <tr>\n",
       "      <th>11555</th>\n",
       "      <td>11555</td>\n",
       "      <td>2019-07-13</td>\n",
       "      <td>V2_60</td>\n",
       "      <td>1.880105e+13</td>\n",
       "      <td>발주가능</td>\n",
       "      <td>0</td>\n",
       "      <td>세탁세제</td>\n",
       "      <td>97</td>\n",
       "    </tr>\n",
       "    <tr>\n",
       "      <th>14904</th>\n",
       "      <td>14904</td>\n",
       "      <td>2019-08-07</td>\n",
       "      <td>V2_86</td>\n",
       "      <td>1.880105e+13</td>\n",
       "      <td>발주가능</td>\n",
       "      <td>0</td>\n",
       "      <td>세탁세제</td>\n",
       "      <td>95</td>\n",
       "    </tr>\n",
       "    <tr>\n",
       "      <th>14634</th>\n",
       "      <td>14634</td>\n",
       "      <td>2019-08-05</td>\n",
       "      <td>V2_61</td>\n",
       "      <td>1.880105e+13</td>\n",
       "      <td>발주가능</td>\n",
       "      <td>0</td>\n",
       "      <td>세탁세제</td>\n",
       "      <td>95</td>\n",
       "    </tr>\n",
       "    <tr>\n",
       "      <th>14159</th>\n",
       "      <td>14159</td>\n",
       "      <td>2019-08-01</td>\n",
       "      <td>V2_87</td>\n",
       "      <td>1.880105e+13</td>\n",
       "      <td>발주가능</td>\n",
       "      <td>850</td>\n",
       "      <td>세탁세제</td>\n",
       "      <td>94</td>\n",
       "    </tr>\n",
       "    <tr>\n",
       "      <th>13537</th>\n",
       "      <td>13537</td>\n",
       "      <td>2019-07-27</td>\n",
       "      <td>V2_60</td>\n",
       "      <td>1.880100e+13</td>\n",
       "      <td>발주가능</td>\n",
       "      <td>0</td>\n",
       "      <td>세탁세제</td>\n",
       "      <td>93</td>\n",
       "    </tr>\n",
       "  </tbody>\n",
       "</table>\n",
       "<p>100 rows × 8 columns</p>\n",
       "</div>"
      ],
      "text/plain": [
       "       Unnamed: 0          날짜    상품명           바코드 발주가능상태  입고수량  카테고리  출고수량\n",
       "3647         3647  2019-06-03  V2_86  1.880105e+13   발주가능  9777  세탁세제   308\n",
       "9091         9091  2019-07-01  V2_86  1.880105e+13   발주가능     0  세탁세제   305\n",
       "12175       12175  2019-07-16  V2_86  1.880105e+13   발주가능  6600  세탁세제   273\n",
       "5005         5005  2019-06-10  V2_86  1.880105e+13   발주가능     0  세탁세제   266\n",
       "3831         3831  2019-06-04  V2_86  1.880105e+13   발주가능     0  세탁세제   258\n",
       "...           ...         ...    ...           ...    ...   ...   ...   ...\n",
       "11555       11555  2019-07-13  V2_60  1.880105e+13   발주가능     0  세탁세제    97\n",
       "14904       14904  2019-08-07  V2_86  1.880105e+13   발주가능     0  세탁세제    95\n",
       "14634       14634  2019-08-05  V2_61  1.880105e+13   발주가능     0  세탁세제    95\n",
       "14159       14159  2019-08-01  V2_87  1.880105e+13   발주가능   850  세탁세제    94\n",
       "13537       13537  2019-07-27  V2_60  1.880100e+13   발주가능     0  세탁세제    93\n",
       "\n",
       "[100 rows x 8 columns]"
      ]
     },
     "execution_count": 20,
     "metadata": {},
     "output_type": "execute_result"
    }
   ],
   "source": [
    "df1[df1['카테고리']=='세탁세제'].sort_values(by=['출고수량'],ascending=False)[:100]"
   ]
  },
  {
   "cell_type": "markdown",
   "id": "a9f6eeb9-ebe6-4838-88b7-bdcd7d87e40a",
   "metadata": {},
   "source": [
    "## 3. \n",
    "'카테고리'별 '출고수량'과 '입고수량'의 합/ 평균 / 표준편차를 요약 계산하시오."
   ]
  },
  {
   "cell_type": "code",
   "execution_count": 26,
   "id": "762d984e-d59e-4d5d-8703-44959854efac",
   "metadata": {},
   "outputs": [
    {
     "data": {
      "text/html": [
       "<div>\n",
       "<style scoped>\n",
       "    .dataframe tbody tr th:only-of-type {\n",
       "        vertical-align: middle;\n",
       "    }\n",
       "\n",
       "    .dataframe tbody tr th {\n",
       "        vertical-align: top;\n",
       "    }\n",
       "\n",
       "    .dataframe thead tr th {\n",
       "        text-align: left;\n",
       "    }\n",
       "\n",
       "    .dataframe thead tr:last-of-type th {\n",
       "        text-align: right;\n",
       "    }\n",
       "</style>\n",
       "<table border=\"1\" class=\"dataframe\">\n",
       "  <thead>\n",
       "    <tr>\n",
       "      <th></th>\n",
       "      <th colspan=\"3\" halign=\"left\">출고수량</th>\n",
       "      <th colspan=\"3\" halign=\"left\">입고수량</th>\n",
       "    </tr>\n",
       "    <tr>\n",
       "      <th></th>\n",
       "      <th>count</th>\n",
       "      <th>mean</th>\n",
       "      <th>std</th>\n",
       "      <th>count</th>\n",
       "      <th>mean</th>\n",
       "      <th>std</th>\n",
       "    </tr>\n",
       "    <tr>\n",
       "      <th>카테고리</th>\n",
       "      <th></th>\n",
       "      <th></th>\n",
       "      <th></th>\n",
       "      <th></th>\n",
       "      <th></th>\n",
       "      <th></th>\n",
       "    </tr>\n",
       "  </thead>\n",
       "  <tbody>\n",
       "    <tr>\n",
       "      <th>F&amp;B</th>\n",
       "      <td>1038</td>\n",
       "      <td>5.566474</td>\n",
       "      <td>9.552419</td>\n",
       "      <td>1038</td>\n",
       "      <td>48.363198</td>\n",
       "      <td>232.547487</td>\n",
       "    </tr>\n",
       "    <tr>\n",
       "      <th>ST</th>\n",
       "      <td>1732</td>\n",
       "      <td>0.398961</td>\n",
       "      <td>0.958202</td>\n",
       "      <td>1732</td>\n",
       "      <td>5.566397</td>\n",
       "      <td>27.615995</td>\n",
       "    </tr>\n",
       "    <tr>\n",
       "      <th>기타</th>\n",
       "      <td>153</td>\n",
       "      <td>4.058824</td>\n",
       "      <td>4.068873</td>\n",
       "      <td>153</td>\n",
       "      <td>34.163399</td>\n",
       "      <td>143.768201</td>\n",
       "    </tr>\n",
       "    <tr>\n",
       "      <th>덴탈케어</th>\n",
       "      <td>3115</td>\n",
       "      <td>5.072231</td>\n",
       "      <td>12.516178</td>\n",
       "      <td>3115</td>\n",
       "      <td>67.688283</td>\n",
       "      <td>384.285684</td>\n",
       "    </tr>\n",
       "    <tr>\n",
       "      <th>매입브랜드</th>\n",
       "      <td>238</td>\n",
       "      <td>1.176471</td>\n",
       "      <td>1.551627</td>\n",
       "      <td>238</td>\n",
       "      <td>16.638655</td>\n",
       "      <td>55.213163</td>\n",
       "    </tr>\n",
       "    <tr>\n",
       "      <th>세탁세제</th>\n",
       "      <td>4265</td>\n",
       "      <td>11.083236</td>\n",
       "      <td>28.648340</td>\n",
       "      <td>4265</td>\n",
       "      <td>60.092145</td>\n",
       "      <td>387.954626</td>\n",
       "    </tr>\n",
       "    <tr>\n",
       "      <th>주방세제</th>\n",
       "      <td>1709</td>\n",
       "      <td>10.567583</td>\n",
       "      <td>19.751878</td>\n",
       "      <td>1709</td>\n",
       "      <td>104.768286</td>\n",
       "      <td>473.236422</td>\n",
       "    </tr>\n",
       "    <tr>\n",
       "      <th>헤어케어</th>\n",
       "      <td>2750</td>\n",
       "      <td>7.119273</td>\n",
       "      <td>18.570081</td>\n",
       "      <td>2750</td>\n",
       "      <td>57.072000</td>\n",
       "      <td>310.943569</td>\n",
       "    </tr>\n",
       "  </tbody>\n",
       "</table>\n",
       "</div>"
      ],
      "text/plain": [
       "       출고수량                        입고수량                        \n",
       "      count       mean        std count        mean         std\n",
       "카테고리                                                           \n",
       "F&B    1038   5.566474   9.552419  1038   48.363198  232.547487\n",
       "ST     1732   0.398961   0.958202  1732    5.566397   27.615995\n",
       "기타      153   4.058824   4.068873   153   34.163399  143.768201\n",
       "덴탈케어   3115   5.072231  12.516178  3115   67.688283  384.285684\n",
       "매입브랜드   238   1.176471   1.551627   238   16.638655   55.213163\n",
       "세탁세제   4265  11.083236  28.648340  4265   60.092145  387.954626\n",
       "주방세제   1709  10.567583  19.751878  1709  104.768286  473.236422\n",
       "헤어케어   2750   7.119273  18.570081  2750   57.072000  310.943569"
      ]
     },
     "execution_count": 26,
     "metadata": {},
     "output_type": "execute_result"
    }
   ],
   "source": [
    "df1.groupby('카테고리')[['출고수량','입고수량']].agg(['count','mean','std'])"
   ]
  },
  {
   "cell_type": "markdown",
   "id": "45e58a08-9317-4328-a5b7-772a75fbbe49",
   "metadata": {},
   "source": [
    "## 4. \n",
    "'카테고리'별 '출고수량'의 평균을 plotly 라이브러리로 시각화 하시오"
   ]
  },
  {
   "cell_type": "code",
   "execution_count": 130,
   "id": "36b0b4ed-fa4f-422d-b0dc-0ed2f04e1641",
   "metadata": {},
   "outputs": [
    {
     "data": {
      "text/html": [
       "<div>\n",
       "<style scoped>\n",
       "    .dataframe tbody tr th:only-of-type {\n",
       "        vertical-align: middle;\n",
       "    }\n",
       "\n",
       "    .dataframe tbody tr th {\n",
       "        vertical-align: top;\n",
       "    }\n",
       "\n",
       "    .dataframe thead th {\n",
       "        text-align: right;\n",
       "    }\n",
       "</style>\n",
       "<table border=\"1\" class=\"dataframe\">\n",
       "  <thead>\n",
       "    <tr style=\"text-align: right;\">\n",
       "      <th></th>\n",
       "      <th>카테고리</th>\n",
       "      <th>출고수량</th>\n",
       "    </tr>\n",
       "  </thead>\n",
       "  <tbody>\n",
       "    <tr>\n",
       "      <th>0</th>\n",
       "      <td>F&amp;B</td>\n",
       "      <td>5.566474</td>\n",
       "    </tr>\n",
       "    <tr>\n",
       "      <th>1</th>\n",
       "      <td>ST</td>\n",
       "      <td>0.398961</td>\n",
       "    </tr>\n",
       "    <tr>\n",
       "      <th>2</th>\n",
       "      <td>기타</td>\n",
       "      <td>4.058824</td>\n",
       "    </tr>\n",
       "    <tr>\n",
       "      <th>3</th>\n",
       "      <td>덴탈케어</td>\n",
       "      <td>5.072231</td>\n",
       "    </tr>\n",
       "    <tr>\n",
       "      <th>4</th>\n",
       "      <td>매입브랜드</td>\n",
       "      <td>1.176471</td>\n",
       "    </tr>\n",
       "    <tr>\n",
       "      <th>5</th>\n",
       "      <td>세탁세제</td>\n",
       "      <td>11.083236</td>\n",
       "    </tr>\n",
       "    <tr>\n",
       "      <th>6</th>\n",
       "      <td>주방세제</td>\n",
       "      <td>10.567583</td>\n",
       "    </tr>\n",
       "    <tr>\n",
       "      <th>7</th>\n",
       "      <td>헤어케어</td>\n",
       "      <td>7.119273</td>\n",
       "    </tr>\n",
       "  </tbody>\n",
       "</table>\n",
       "</div>"
      ],
      "text/plain": [
       "    카테고리       출고수량\n",
       "0    F&B   5.566474\n",
       "1     ST   0.398961\n",
       "2     기타   4.058824\n",
       "3   덴탈케어   5.072231\n",
       "4  매입브랜드   1.176471\n",
       "5   세탁세제  11.083236\n",
       "6   주방세제  10.567583\n",
       "7   헤어케어   7.119273"
      ]
     },
     "execution_count": 130,
     "metadata": {},
     "output_type": "execute_result"
    }
   ],
   "source": [
    "df1.groupby('카테고리')['출고수량'].mean().reset_index()"
   ]
  },
  {
   "cell_type": "code",
   "execution_count": 303,
   "id": "810e6699-6628-409d-bcdb-cb852cdc7deb",
   "metadata": {},
   "outputs": [],
   "source": [
    "import matplotlib.pyplot as plt\n",
    "import plotly.express as px\n",
    "import plotly.io as pio\n",
    "# Jupyter 환경에서 Plotly 그래프를 인라인으로 출력하도록 설정\n",
    "pio.renderers.default = 'notebook_connected'\n",
    "df1_4=df1.groupby('카테고리')['출고수량'].mean().reset_index()\n",
    "fig=px.bar(df1_4,x='카테고리',y='출고수량')\n",
    "fig.write_html('plot.html')"
   ]
  },
  {
   "cell_type": "markdown",
   "id": "6a0c7dbc-3e18-4e22-96d0-01972b772394",
   "metadata": {},
   "source": [
    "## 5. \n",
    "카테고리'에서 '헤어케어'와 '세탁세제'제품의 '출고수량'의 평균의 차이를 계산하시오."
   ]
  },
  {
   "cell_type": "code",
   "execution_count": 285,
   "id": "e828b2a4-1316-4449-bf93-2733fc7bdddd",
   "metadata": {},
   "outputs": [
    {
     "data": {
      "text/plain": [
       "3.964"
      ]
     },
     "execution_count": 285,
     "metadata": {},
     "output_type": "execute_result"
    }
   ],
   "source": [
    "import numpy as np\n",
    "df1_5=df1[df1['카테고리']=='헤어케어']['출고수량'].mean()-df1[df1['카테고리']=='세탁세제']['출고수량'].mean()\n",
    "# 차이는 절댓값이니 np.abs함수를 이용\n",
    "# round 함수를 통해 소숫점 아래 넷째자리에서 반올림\n",
    "# item 함수를 통해 값만 출력\n",
    "np.abs(round(df1_5,4)).item()"
   ]
  },
  {
   "cell_type": "markdown",
   "id": "9ef7444e-1487-4446-b759-1b69eac6b659",
   "metadata": {},
   "source": [
    "## 6. \n",
    "출고수량'의 분포를 Boxplot으로 시각화 하고(Seaborn) image2.png로 저장하시오."
   ]
  },
  {
   "cell_type": "code",
   "execution_count": 173,
   "id": "4e9a33a1-ec6b-4151-ada1-a6d72df7855a",
   "metadata": {},
   "outputs": [
    {
     "data": {
      "image/png": "[encoded data removed]",
      "text/plain": [
       "<Figure size 1000x600 with 1 Axes>"
      ]
     },
     "metadata": {},
     "output_type": "display_data"
    }
   ],
   "source": [
    "import seaborn as sns\n",
    "import matplotlib.pyplot as plt\n",
    "%matplotlib inline\n",
    "\n",
    "# 출고수량의 분포를 boxplot으로 시각화\n",
    "sns.set(style=\"whitegrid\")\n",
    "plt.figure(figsize=(10, 6))\n",
    "sns.boxplot(y=df1['출고수량'],native_scale=True)\n",
    "plt.title('Boxplot of Delivery Amount')\n",
    "plt.ylabel('Delivery Counts')\n",
    "# 이미지 파일 저장\n",
    "plt.savefig('C:/Users/sshyu/OneDrive/바탕 화면/DSA_13기/image2.png', dpi=300, bbox_inches='tight')\n",
    "plt.show()"
   ]
  },
  {
   "cell_type": "markdown",
   "id": "8b2ee78f-ec4c-4357-811d-a9e3e4ff9c69",
   "metadata": {},
   "source": [
    "## 7. \n",
    "'카테고리'에서 '헤어케어' 제품 중, '입고수량'이 높은 상위 50개 데이터를 추출하여 df2로\n",
    "선언한 뒤, 상품명' 빈도수가 가장높은 3개 제품을 확인하고, 빈도수에 대한 그래프를 시각화\n",
    "하시오."
   ]
  },
  {
   "cell_type": "code",
   "execution_count": 174,
   "id": "ff60bf1a-779d-41f1-a429-7aceee20b703",
   "metadata": {},
   "outputs": [],
   "source": [
    "# 카테고리에서 헤어케어 제품 중, 입고수량이 높은 상위 50개 데이터 추출\n",
    "df2=df1[df1['카테고리']=='헤어케어'].sort_values(by=['입고수량'],ascending=False)[:50]"
   ]
  },
  {
   "cell_type": "code",
   "execution_count": 175,
   "id": "69556cc4-a243-4983-a54e-3310f2084eeb",
   "metadata": {},
   "outputs": [
    {
     "data": {
      "text/plain": [
       "상품명\n",
       "V2_6     9\n",
       "V2_84    8\n",
       "V2_85    6\n",
       "Name: count, dtype: int64"
      ]
     },
     "execution_count": 175,
     "metadata": {},
     "output_type": "execute_result"
    }
   ],
   "source": [
    "# 상품명 빈도수가 가장 높은 3개 제품 확인\n",
    "df2['상품명'].value_counts().sort_values(ascending=False)[:3]"
   ]
  },
  {
   "cell_type": "code",
   "execution_count": 186,
   "id": "7e00a3b3-3b35-460d-8efb-00832c599da5",
   "metadata": {},
   "outputs": [
    {
     "data": {
      "text/plain": [
       "상품명\n",
       "V2_6     9\n",
       "V2_84    8\n",
       "V2_85    6\n",
       "Name: count, dtype: int64"
      ]
     },
     "execution_count": 186,
     "metadata": {},
     "output_type": "execute_result"
    }
   ],
   "source": [
    "# 또 다른 방법\n",
    "# value_counts 함수 실행 시 내림차순으로 나오므로\n",
    "# head 함수를 통해 빈도수가 가장 높은 3개 제품 확인\n",
    "df2['상품명'].value_counts().head(3)"
   ]
  },
  {
   "cell_type": "code",
   "execution_count": 183,
   "id": "6f16bf03-e6f1-4897-90da-c92853c85191",
   "metadata": {},
   "outputs": [
    {
     "data": {
      "image/png": "[encoded data removed]",
      "text/plain": [
       "<Figure size 1000x600 with 1 Axes>"
      ]
     },
     "metadata": {},
     "output_type": "display_data"
    }
   ],
   "source": [
    "# 빈도수에 대한 그래프 시각화\n",
    "plt.figure(figsize=(10,6))\n",
    "sns.histplot(df2['상품명'],bins=30)\n",
    "plt.xlabel('Product Name')\n",
    "plt.ylabel('Frequency')\n",
    "plt.title('The Histogram of the quantity of product name')\n",
    "plt.show()"
   ]
  },
  {
   "cell_type": "markdown",
   "id": "17201938-61ec-45d5-afb8-050465b13c9d",
   "metadata": {},
   "source": [
    "## 8. \n",
    "'카테고리'내 특정 항목을 입력하면, 해당 카테고리의 '상품명' 별 '출고수량'의 평균을 계\n",
    "산하여 파일형태로 저장하고, 출고수량의 histogram을 시각화 하는 함수를 구성하시오.\n",
    "(input 함수 활용)"
   ]
  },
  {
   "cell_type": "code",
   "execution_count": 286,
   "id": "b8a78f5c-098b-490a-a576-a435c7291662",
   "metadata": {},
   "outputs": [],
   "source": [
    "def myfunc_pro8():\n",
    "    # 사용자에게 카테고래 내 특정 항목 입력 받기\n",
    "    ans=input('카테고리 내 특정항목을 입력해주세요:')\n",
    "    # 해당 카테고리의 상품명 별 출고수량의 평균을 계산\n",
    "    new_df=df1[df1['카테고리']==ans].groupby('상품명')['출고수량'].mean()\n",
    "    # 이를 파일 형태로 저장\n",
    "    new_df.to_csv(\"C:/Users/sshyu/OneDrive/바탕 화면/DSA_13기/df1_byuser.csv\",encoding='cp949')\n",
    "    # 이때 두번째 칼럼 명칭 '출고수량 평균'\n",
    "    # histogram으로 시각화 히기\n",
    "    plt.figure(figsize=(10,6))\n",
    "    sns.histplot(new_df)\n",
    "    plt.xlabel('Product Name')\n",
    "    plt.ylabel('Mean of Delivery Quantity')\n",
    "    plt.show()"
   ]
  },
  {
   "cell_type": "code",
   "execution_count": 206,
   "id": "35520210-9078-4b99-ae95-e37a3f97a9cf",
   "metadata": {},
   "outputs": [
    {
     "name": "stdin",
     "output_type": "stream",
     "text": [
      "카테고리 내 특정항목을 입력해주세요: 세탁세제\n"
     ]
    },
    {
     "data": {
      "image/png": "[encoded data removed]",
      "text/plain": [
       "<Figure size 1000x600 with 1 Axes>"
      ]
     },
     "metadata": {},
     "output_type": "display_data"
    }
   ],
   "source": [
    "myfunc_pro8()"
   ]
  },
  {
   "cell_type": "markdown",
   "id": "8a821081-f039-4026-8ac4-da072ff4ef66",
   "metadata": {},
   "source": [
    "- 03_Data.xlsx데이터를 불러와, 데이터를 재구조화 한 뒤,df3로 선언하여, 아래와 같은 분\n",
    "석을 실시하고자 한다.\n",
    "\n",
    "\n",
    "## 9. \n",
    "df3 연속형 자료의 기술 통계량을 확인 "
   ]
  },
  {
   "cell_type": "code",
   "execution_count": 70,
   "id": "f2172238-e999-474f-a506-42a7909cb086",
   "metadata": {},
   "outputs": [
    {
     "data": {
      "text/plain": [
       "Index([                   '구분',                 '카테고리명',\n",
       "                        '자재그룹',                 '자재그룹명',\n",
       "                         '제품명',                    '단위',\n",
       "                          '판매',     2019-12-01 00:00:00,\n",
       "           2020-10-01 00:00:00,     2020-11-01 00:00:00,\n",
       "           2020-12-01 00:00:00, '2019-12-01 00:00:00.1',\n",
       "       '2020-10-01 00:00:00.1', '2020-11-01 00:00:00.1',\n",
       "       '2020-12-01 00:00:00.1', '2019-12-01 00:00:00.2',\n",
       "       '2020-10-01 00:00:00.2', '2020-11-01 00:00:00.2',\n",
       "       '2020-12-01 00:00:00.2', '2019-12-01 00:00:00.3',\n",
       "       '2020-10-01 00:00:00.3', '2020-11-01 00:00:00.3',\n",
       "       '2020-12-01 00:00:00.3',                  '안전재고',\n",
       "                         ' 분류'],\n",
       "      dtype='object')"
      ]
     },
     "execution_count": 70,
     "metadata": {},
     "output_type": "execute_result"
    }
   ],
   "source": [
    "# 데이터의 재구조화\n",
    "df2 = pd.read_excel(\"C:/Users/sshyu/OneDrive/바탕 화면/DSA_13기/03_Data.xlsx\", skiprows=1)\n",
    "df2.columns"
   ]
  },
  {
   "cell_type": "code",
   "execution_count": 72,
   "id": "78fcdf90-238a-47bb-8c8f-8639a93b4dbe",
   "metadata": {},
   "outputs": [
    {
     "name": "stdout",
     "output_type": "stream",
     "text": [
      "<class 'pandas.core.frame.DataFrame'>\n",
      "RangeIndex: 640 entries, 0 to 639\n",
      "Data columns (total 11 columns):\n",
      " #   Column  Non-Null Count  Dtype  \n",
      "---  ------  --------------  -----  \n",
      " 0   구분      640 non-null    object \n",
      " 1   카테고리명   640 non-null    object \n",
      " 2   자재그룹    640 non-null    int64  \n",
      " 3   자재그룹명   640 non-null    object \n",
      " 4   제품명     640 non-null    object \n",
      " 5   단위      640 non-null    object \n",
      " 6   판매      640 non-null    float64\n",
      " 7   안전재고    640 non-null    float64\n",
      " 8   분류      640 non-null    object \n",
      " 9   공급일자    640 non-null    object \n",
      " 10  매출액     640 non-null    float64\n",
      "dtypes: float64(3), int64(1), object(7)\n",
      "memory usage: 55.1+ KB\n"
     ]
    }
   ],
   "source": [
    "df2_1 = df2.melt(id_vars= [ '구분','카테고리명','자재그룹','자재그룹명','제품명','단위','판매','안전재고',' 분류'] )\n",
    "df3 = df2_1.rename(columns={'variable':'공급일자','value':'매출액',' 분류':'분류'})\n",
    "df3.info()"
   ]
  },
  {
   "cell_type": "code",
   "execution_count": 74,
   "id": "970a2afa-c32f-4684-ba31-cadff3c38f62",
   "metadata": {},
   "outputs": [
    {
     "data": {
      "text/html": [
       "<div>\n",
       "<style scoped>\n",
       "    .dataframe tbody tr th:only-of-type {\n",
       "        vertical-align: middle;\n",
       "    }\n",
       "\n",
       "    .dataframe tbody tr th {\n",
       "        vertical-align: top;\n",
       "    }\n",
       "\n",
       "    .dataframe thead th {\n",
       "        text-align: right;\n",
       "    }\n",
       "</style>\n",
       "<table border=\"1\" class=\"dataframe\">\n",
       "  <thead>\n",
       "    <tr style=\"text-align: right;\">\n",
       "      <th></th>\n",
       "      <th>자재그룹</th>\n",
       "      <th>판매</th>\n",
       "      <th>안전재고</th>\n",
       "      <th>매출액</th>\n",
       "    </tr>\n",
       "  </thead>\n",
       "  <tbody>\n",
       "    <tr>\n",
       "      <th>count</th>\n",
       "      <td>640.0</td>\n",
       "      <td>640.000000</td>\n",
       "      <td>640.000000</td>\n",
       "      <td>640.000000</td>\n",
       "    </tr>\n",
       "    <tr>\n",
       "      <th>mean</th>\n",
       "      <td>1687.0</td>\n",
       "      <td>14025.460000</td>\n",
       "      <td>2162.180000</td>\n",
       "      <td>4427.560781</td>\n",
       "    </tr>\n",
       "    <tr>\n",
       "      <th>std</th>\n",
       "      <td>0.0</td>\n",
       "      <td>40176.636238</td>\n",
       "      <td>9467.402429</td>\n",
       "      <td>11714.434732</td>\n",
       "    </tr>\n",
       "    <tr>\n",
       "      <th>min</th>\n",
       "      <td>1687.0</td>\n",
       "      <td>0.000000</td>\n",
       "      <td>0.000000</td>\n",
       "      <td>0.000000</td>\n",
       "    </tr>\n",
       "    <tr>\n",
       "      <th>25%</th>\n",
       "      <td>1687.0</td>\n",
       "      <td>0.000000</td>\n",
       "      <td>0.000000</td>\n",
       "      <td>0.000000</td>\n",
       "    </tr>\n",
       "    <tr>\n",
       "      <th>50%</th>\n",
       "      <td>1687.0</td>\n",
       "      <td>438.150000</td>\n",
       "      <td>0.000000</td>\n",
       "      <td>0.000000</td>\n",
       "    </tr>\n",
       "    <tr>\n",
       "      <th>75%</th>\n",
       "      <td>1687.0</td>\n",
       "      <td>9258.275000</td>\n",
       "      <td>0.000000</td>\n",
       "      <td>492.425000</td>\n",
       "    </tr>\n",
       "    <tr>\n",
       "      <th>max</th>\n",
       "      <td>1687.0</td>\n",
       "      <td>234603.900000</td>\n",
       "      <td>46893.900000</td>\n",
       "      <td>84967.200000</td>\n",
       "    </tr>\n",
       "  </tbody>\n",
       "</table>\n",
       "</div>"
      ],
      "text/plain": [
       "         자재그룹             판매          안전재고           매출액\n",
       "count   640.0     640.000000    640.000000    640.000000\n",
       "mean   1687.0   14025.460000   2162.180000   4427.560781\n",
       "std       0.0   40176.636238   9467.402429  11714.434732\n",
       "min    1687.0       0.000000      0.000000      0.000000\n",
       "25%    1687.0       0.000000      0.000000      0.000000\n",
       "50%    1687.0     438.150000      0.000000      0.000000\n",
       "75%    1687.0    9258.275000      0.000000    492.425000\n",
       "max    1687.0  234603.900000  46893.900000  84967.200000"
      ]
     },
     "execution_count": 74,
     "metadata": {},
     "output_type": "execute_result"
    }
   ],
   "source": [
    "# df3의 기술통계량 확인\n",
    "df3.describe()"
   ]
  },
  {
   "cell_type": "code",
   "execution_count": 75,
   "id": "8ee7a301-a5ed-4c2c-aeaa-7e9839aa21cf",
   "metadata": {},
   "outputs": [
    {
     "data": {
      "text/html": [
       "<div>\n",
       "<style scoped>\n",
       "    .dataframe tbody tr th:only-of-type {\n",
       "        vertical-align: middle;\n",
       "    }\n",
       "\n",
       "    .dataframe tbody tr th {\n",
       "        vertical-align: top;\n",
       "    }\n",
       "\n",
       "    .dataframe thead th {\n",
       "        text-align: right;\n",
       "    }\n",
       "</style>\n",
       "<table border=\"1\" class=\"dataframe\">\n",
       "  <thead>\n",
       "    <tr style=\"text-align: right;\">\n",
       "      <th></th>\n",
       "      <th>구분</th>\n",
       "      <th>카테고리명</th>\n",
       "      <th>자재그룹</th>\n",
       "      <th>자재그룹명</th>\n",
       "      <th>제품명</th>\n",
       "      <th>단위</th>\n",
       "      <th>판매</th>\n",
       "      <th>안전재고</th>\n",
       "      <th>분류</th>\n",
       "      <th>공급일자</th>\n",
       "      <th>매출액</th>\n",
       "    </tr>\n",
       "  </thead>\n",
       "  <tbody>\n",
       "    <tr>\n",
       "      <th>0</th>\n",
       "      <td>구분</td>\n",
       "      <td>CHB</td>\n",
       "      <td>1687</td>\n",
       "      <td>친환경 바디워시</td>\n",
       "      <td>A</td>\n",
       "      <td>천원</td>\n",
       "      <td>0.0</td>\n",
       "      <td>0.0</td>\n",
       "      <td>E</td>\n",
       "      <td>2019-12-01 00:00:00</td>\n",
       "      <td>0.0</td>\n",
       "    </tr>\n",
       "    <tr>\n",
       "      <th>1</th>\n",
       "      <td>구분</td>\n",
       "      <td>CHB</td>\n",
       "      <td>1687</td>\n",
       "      <td>친환경 바디워시</td>\n",
       "      <td>B</td>\n",
       "      <td>천원</td>\n",
       "      <td>0.0</td>\n",
       "      <td>0.0</td>\n",
       "      <td>E</td>\n",
       "      <td>2019-12-01 00:00:00</td>\n",
       "      <td>0.0</td>\n",
       "    </tr>\n",
       "    <tr>\n",
       "      <th>2</th>\n",
       "      <td>구분</td>\n",
       "      <td>CHB</td>\n",
       "      <td>1687</td>\n",
       "      <td>친환경 바디워시</td>\n",
       "      <td>C</td>\n",
       "      <td>천원</td>\n",
       "      <td>10354.1</td>\n",
       "      <td>0.0</td>\n",
       "      <td>A</td>\n",
       "      <td>2019-12-01 00:00:00</td>\n",
       "      <td>9474.3</td>\n",
       "    </tr>\n",
       "    <tr>\n",
       "      <th>3</th>\n",
       "      <td>구분</td>\n",
       "      <td>CHB</td>\n",
       "      <td>1687</td>\n",
       "      <td>친환경 바디워시</td>\n",
       "      <td>D</td>\n",
       "      <td>천원</td>\n",
       "      <td>3543.3</td>\n",
       "      <td>0.0</td>\n",
       "      <td>A</td>\n",
       "      <td>2019-12-01 00:00:00</td>\n",
       "      <td>7702.6</td>\n",
       "    </tr>\n",
       "    <tr>\n",
       "      <th>4</th>\n",
       "      <td>구분</td>\n",
       "      <td>CHB</td>\n",
       "      <td>1687</td>\n",
       "      <td>친환경 바디워시</td>\n",
       "      <td>E</td>\n",
       "      <td>천원</td>\n",
       "      <td>234603.9</td>\n",
       "      <td>39593.3</td>\n",
       "      <td>A</td>\n",
       "      <td>2019-12-01 00:00:00</td>\n",
       "      <td>56309.6</td>\n",
       "    </tr>\n",
       "  </tbody>\n",
       "</table>\n",
       "</div>"
      ],
      "text/plain": [
       "   구분 카테고리명  자재그룹     자재그룹명 제품명  단위        판매     안전재고 분류  \\\n",
       "0  구분   CHB  1687  친환경 바디워시   A  천원       0.0      0.0  E   \n",
       "1  구분   CHB  1687  친환경 바디워시   B  천원       0.0      0.0  E   \n",
       "2  구분   CHB  1687  친환경 바디워시   C  천원   10354.1      0.0  A   \n",
       "3  구분   CHB  1687  친환경 바디워시   D  천원    3543.3      0.0  A   \n",
       "4  구분   CHB  1687  친환경 바디워시   E  천원  234603.9  39593.3  A   \n",
       "\n",
       "                  공급일자      매출액  \n",
       "0  2019-12-01 00:00:00      0.0  \n",
       "1  2019-12-01 00:00:00      0.0  \n",
       "2  2019-12-01 00:00:00   9474.3  \n",
       "3  2019-12-01 00:00:00   7702.6  \n",
       "4  2019-12-01 00:00:00  56309.6  "
      ]
     },
     "execution_count": 75,
     "metadata": {},
     "output_type": "execute_result"
    }
   ],
   "source": [
    "df3.head()"
   ]
  },
  {
   "cell_type": "markdown",
   "id": "ff579b9e-80a3-4eb9-8c9e-9c9e2e73cf18",
   "metadata": {},
   "source": [
    "## 10. \n",
    "'분류'에서 'A'에 해당하는 제품을 뽑아 '매출액'의 평균과 중앙값의 차이를 계산"
   ]
  },
  {
   "cell_type": "code",
   "execution_count": 221,
   "id": "d7d57d49-7760-45c7-b73d-e4e6d52d7e3e",
   "metadata": {},
   "outputs": [
    {
     "data": {
      "text/plain": [
       "10151.6875"
      ]
     },
     "execution_count": 221,
     "metadata": {},
     "output_type": "execute_result"
    }
   ],
   "source": [
    "import numpy as np\n",
    "# 차이를 계산\n",
    "# 이때 차이는 절댓값이니 abs 함수를 사용\n",
    "# 이때 df3.loc[df3['분류']=='A','매출액'] 코드도 가능\n",
    "np.abs(df3[df3['분류']=='A']['매출액'].median()-df3[df3['분류']=='A']['매출액'].mean()).item()"
   ]
  },
  {
   "cell_type": "markdown",
   "id": "d044dfd8-df21-4b0f-addf-30b229b9b8f5",
   "metadata": {},
   "source": [
    "**추가적인 데이터 분석**\n",
    "매출액의 평균과 중앙값이 차이가 많이 나는 이유"
   ]
  },
  {
   "cell_type": "code",
   "execution_count": 239,
   "id": "4c832277-81df-4ca6-80ac-616f9689316b",
   "metadata": {},
   "outputs": [
    {
     "data": {
      "text/plain": [
       "Text(0, 0.5, 'Amount')"
      ]
     },
     "execution_count": 239,
     "metadata": {},
     "output_type": "execute_result"
    },
    {
     "data": {
      "image/png": "[encoded data removed]",
      "text/plain": [
       "<Figure size 1000x600 with 2 Axes>"
      ]
     },
     "metadata": {},
     "output_type": "display_data"
    },
    {
     "data": {
      "text/plain": [
       "<Figure size 500x600 with 0 Axes>"
      ]
     },
     "metadata": {},
     "output_type": "display_data"
    },
    {
     "data": {
      "text/plain": [
       "<Figure size 500x600 with 0 Axes>"
      ]
     },
     "metadata": {},
     "output_type": "display_data"
    }
   ],
   "source": [
    "df3_10=df3.loc[df3['분류']=='A','매출액'].reset_index(drop=True)\n",
    "fig,ax=plt.subplots(1,2,figsize=(10,6))\n",
    "# 매출액의 히스토그램 그리기\n",
    "plt.figure(figsize=(5,6))\n",
    "sns.histplot(df3_10,kde=True,ax=ax[0],bins=30)\n",
    "ax[0].set_xlabel('Sales')\n",
    "ax[0].set_ylabel('Amount')\n",
    "\n",
    "# 매출액의 박스플랏 그리기\n",
    "plt.figure(figsize=(5,6))\n",
    "sns.boxplot(df3_10,ax=ax[1])\n",
    "ax[1].set_xlabel('Sales')\n",
    "ax[1].set_ylabel('Amount')"
   ]
  },
  {
   "cell_type": "code",
   "execution_count": 243,
   "id": "0f4a0ea7-f1e0-4833-a189-8d1d186360cf",
   "metadata": {},
   "outputs": [
    {
     "name": "stdout",
     "output_type": "stream",
     "text": [
      "2.323451871052623\n",
      "5.207333033989476\n"
     ]
    }
   ],
   "source": [
    "# 왜도와 첨도 분석\n",
    "# 정규분포의 왜도와 첨도 값은 0에 가까움\n",
    "from scipy.stats import skew, kurtosis\n",
    "print(skew(df3_10))\n",
    "print(kurtosis(df3_10))"
   ]
  },
  {
   "cell_type": "markdown",
   "id": "0d449374-616f-4d38-9cd9-e91a4a498b90",
   "metadata": {},
   "source": [
    "**결론** 왜도, 첨도의 값과 그래프를 보았을 때 쪽으로 긴 꼬리를 가지므로 데이터가 정규분포에 가까운 형태라고 보기 어려움. 따라서 위와 같이 평균과 중앙값이 큰 차이를 가진다는 것을 알 수 있음."
   ]
  },
  {
   "cell_type": "markdown",
   "id": "a40e0b1b-77eb-43df-8bb9-54c75fece066",
   "metadata": {},
   "source": [
    "## 11. \n",
    "'매출액'이 높은 상위 100개 항목을 뽑아, df3_100으로 선언한 뒤, '제품명'의 빈도수를\n",
    "확인 하시오."
   ]
  },
  {
   "cell_type": "code",
   "execution_count": 250,
   "id": "f06ffe6b-27f6-4dd7-b479-00ac129a0dfd",
   "metadata": {},
   "outputs": [],
   "source": [
    "# 매출액이 높은 상위 100개 항목을 뽑아 데이터 선언하기\n",
    "df3_100=df3.sort_values(by=['매출액'],ascending=False)[:100].reset_index(drop=True)"
   ]
  },
  {
   "cell_type": "code",
   "execution_count": 251,
   "id": "48c674fd-0003-44ba-b0ce-c978adc7a66f",
   "metadata": {},
   "outputs": [
    {
     "data": {
      "text/html": [
       "<div>\n",
       "<style scoped>\n",
       "    .dataframe tbody tr th:only-of-type {\n",
       "        vertical-align: middle;\n",
       "    }\n",
       "\n",
       "    .dataframe tbody tr th {\n",
       "        vertical-align: top;\n",
       "    }\n",
       "\n",
       "    .dataframe thead th {\n",
       "        text-align: right;\n",
       "    }\n",
       "</style>\n",
       "<table border=\"1\" class=\"dataframe\">\n",
       "  <thead>\n",
       "    <tr style=\"text-align: right;\">\n",
       "      <th></th>\n",
       "      <th>제품명</th>\n",
       "      <th>count</th>\n",
       "    </tr>\n",
       "  </thead>\n",
       "  <tbody>\n",
       "    <tr>\n",
       "      <th>0</th>\n",
       "      <td>E</td>\n",
       "      <td>8</td>\n",
       "    </tr>\n",
       "    <tr>\n",
       "      <th>1</th>\n",
       "      <td>H</td>\n",
       "      <td>8</td>\n",
       "    </tr>\n",
       "    <tr>\n",
       "      <th>2</th>\n",
       "      <td>FF3</td>\n",
       "      <td>8</td>\n",
       "    </tr>\n",
       "    <tr>\n",
       "      <th>3</th>\n",
       "      <td>A2</td>\n",
       "      <td>8</td>\n",
       "    </tr>\n",
       "    <tr>\n",
       "      <th>4</th>\n",
       "      <td>J</td>\n",
       "      <td>8</td>\n",
       "    </tr>\n",
       "    <tr>\n",
       "      <th>5</th>\n",
       "      <td>G</td>\n",
       "      <td>8</td>\n",
       "    </tr>\n",
       "    <tr>\n",
       "      <th>6</th>\n",
       "      <td>I</td>\n",
       "      <td>6</td>\n",
       "    </tr>\n",
       "    <tr>\n",
       "      <th>7</th>\n",
       "      <td>K</td>\n",
       "      <td>6</td>\n",
       "    </tr>\n",
       "    <tr>\n",
       "      <th>8</th>\n",
       "      <td>KC2</td>\n",
       "      <td>6</td>\n",
       "    </tr>\n",
       "    <tr>\n",
       "      <th>9</th>\n",
       "      <td>B3</td>\n",
       "      <td>6</td>\n",
       "    </tr>\n",
       "    <tr>\n",
       "      <th>10</th>\n",
       "      <td>KC3</td>\n",
       "      <td>4</td>\n",
       "    </tr>\n",
       "    <tr>\n",
       "      <th>11</th>\n",
       "      <td>L</td>\n",
       "      <td>4</td>\n",
       "    </tr>\n",
       "    <tr>\n",
       "      <th>12</th>\n",
       "      <td>C</td>\n",
       "      <td>4</td>\n",
       "    </tr>\n",
       "    <tr>\n",
       "      <th>13</th>\n",
       "      <td>FF1</td>\n",
       "      <td>4</td>\n",
       "    </tr>\n",
       "    <tr>\n",
       "      <th>14</th>\n",
       "      <td>M</td>\n",
       "      <td>2</td>\n",
       "    </tr>\n",
       "    <tr>\n",
       "      <th>15</th>\n",
       "      <td>Z1</td>\n",
       "      <td>2</td>\n",
       "    </tr>\n",
       "    <tr>\n",
       "      <th>16</th>\n",
       "      <td>B2</td>\n",
       "      <td>2</td>\n",
       "    </tr>\n",
       "    <tr>\n",
       "      <th>17</th>\n",
       "      <td>A3</td>\n",
       "      <td>2</td>\n",
       "    </tr>\n",
       "    <tr>\n",
       "      <th>18</th>\n",
       "      <td>Z2</td>\n",
       "      <td>2</td>\n",
       "    </tr>\n",
       "    <tr>\n",
       "      <th>19</th>\n",
       "      <td>F</td>\n",
       "      <td>2</td>\n",
       "    </tr>\n",
       "  </tbody>\n",
       "</table>\n",
       "</div>"
      ],
      "text/plain": [
       "    제품명  count\n",
       "0     E      8\n",
       "1     H      8\n",
       "2   FF3      8\n",
       "3    A2      8\n",
       "4     J      8\n",
       "5     G      8\n",
       "6     I      6\n",
       "7     K      6\n",
       "8   KC2      6\n",
       "9    B3      6\n",
       "10  KC3      4\n",
       "11    L      4\n",
       "12    C      4\n",
       "13  FF1      4\n",
       "14    M      2\n",
       "15   Z1      2\n",
       "16   B2      2\n",
       "17   A3      2\n",
       "18   Z2      2\n",
       "19    F      2"
      ]
     },
     "execution_count": 251,
     "metadata": {},
     "output_type": "execute_result"
    }
   ],
   "source": [
    "# 제품명의 빈도수 확인\n",
    "df3_100['제품명'].value_counts().reset_index()"
   ]
  },
  {
   "cell_type": "markdown",
   "id": "51aa6a05-c5f8-4311-b8d1-e52a57396dbe",
   "metadata": {},
   "source": [
    "**추가적인 데이터 분석** 시각화까지 해보기"
   ]
  },
  {
   "cell_type": "code",
   "execution_count": 257,
   "id": "a261a291-d082-4aa2-9b58-a614b534bf19",
   "metadata": {},
   "outputs": [
    {
     "data": {
      "image/png": "[encoded data removed]",
      "text/plain": [
       "<Figure size 500x600 with 1 Axes>"
      ]
     },
     "metadata": {},
     "output_type": "display_data"
    }
   ],
   "source": [
    "plt.figure(figsize=(5,6))\n",
    "plt.pie(df3_100['제품명'].value_counts(),\n",
    "       labels=df3_100['제품명'].value_counts().index)\n",
    "plt.title('Prouduct Distribution')\n",
    "plt.show()"
   ]
  },
  {
   "cell_type": "markdown",
   "id": "43046764-9ea8-47aa-9f81-60094bed9dba",
   "metadata": {},
   "source": [
    "## 12. \n",
    "df3에 '공급일자'데이터를 이용하여, '공급연도'라는 연도 데이터를 따로 추출\n"
   ]
  },
  {
   "cell_type": "code",
   "execution_count": 264,
   "id": "0bc1d0d9-8041-434d-9059-98efa95a23ab",
   "metadata": {},
   "outputs": [
    {
     "data": {
      "text/plain": [
       "0    2019\n",
       "1    2019\n",
       "2    2019\n",
       "3    2019\n",
       "4    2019\n",
       "Name: 공급연도, dtype: int32"
      ]
     },
     "execution_count": 264,
     "metadata": {},
     "output_type": "execute_result"
    }
   ],
   "source": [
    "# 공급일자 데이터를 datetime형식으로 반환\n",
    "df3['공급일자']=pd.to_datetime(df3['공급일자'])\n",
    "# 공급연도 칼럼으로 추출\n",
    "df3['공급연도']=df3['공급일자'].dt.year\n",
    "df3['공급연도'].head()"
   ]
  },
  {
   "cell_type": "markdown",
   "id": "d36f88de-04f7-4625-b84c-e2f6014ed1e0",
   "metadata": {},
   "source": [
    "## 13. \n",
    "'분류'에 따른 '매출액' 합의 2019년도 대비 2020의 증감률 계산\n"
   ]
  },
  {
   "cell_type": "code",
   "execution_count": 277,
   "id": "d95ab1c5-10b3-471e-a0e9-74a3cd0e0198",
   "metadata": {},
   "outputs": [
    {
     "data": {
      "text/html": [
       "<div>\n",
       "<style scoped>\n",
       "    .dataframe tbody tr th:only-of-type {\n",
       "        vertical-align: middle;\n",
       "    }\n",
       "\n",
       "    .dataframe tbody tr th {\n",
       "        vertical-align: top;\n",
       "    }\n",
       "\n",
       "    .dataframe thead th {\n",
       "        text-align: right;\n",
       "    }\n",
       "</style>\n",
       "<table border=\"1\" class=\"dataframe\">\n",
       "  <thead>\n",
       "    <tr style=\"text-align: right;\">\n",
       "      <th>공급연도</th>\n",
       "      <th>2019</th>\n",
       "      <th>2020</th>\n",
       "      <th>증감률</th>\n",
       "    </tr>\n",
       "    <tr>\n",
       "      <th>분류</th>\n",
       "      <th></th>\n",
       "      <th></th>\n",
       "      <th></th>\n",
       "    </tr>\n",
       "  </thead>\n",
       "  <tbody>\n",
       "    <tr>\n",
       "      <th>A</th>\n",
       "      <td>356379.4</td>\n",
       "      <td>1448912.0</td>\n",
       "      <td>3.065645</td>\n",
       "    </tr>\n",
       "    <tr>\n",
       "      <th>B</th>\n",
       "      <td>20564.1</td>\n",
       "      <td>120.0</td>\n",
       "      <td>-0.994165</td>\n",
       "    </tr>\n",
       "    <tr>\n",
       "      <th>E</th>\n",
       "      <td>27600.5</td>\n",
       "      <td>25506.2</td>\n",
       "      <td>-0.075879</td>\n",
       "    </tr>\n",
       "    <tr>\n",
       "      <th>F</th>\n",
       "      <td>19498.5</td>\n",
       "      <td>113960.6</td>\n",
       "      <td>4.844583</td>\n",
       "    </tr>\n",
       "    <tr>\n",
       "      <th>G</th>\n",
       "      <td>1039.0</td>\n",
       "      <td>25810.2</td>\n",
       "      <td>23.841386</td>\n",
       "    </tr>\n",
       "    <tr>\n",
       "      <th>H</th>\n",
       "      <td>0.0</td>\n",
       "      <td>52900.4</td>\n",
       "      <td>inf</td>\n",
       "    </tr>\n",
       "    <tr>\n",
       "      <th>K</th>\n",
       "      <td>88588.6</td>\n",
       "      <td>105500.9</td>\n",
       "      <td>0.190908</td>\n",
       "    </tr>\n",
       "    <tr>\n",
       "      <th>L</th>\n",
       "      <td>0.0</td>\n",
       "      <td>107632.8</td>\n",
       "      <td>inf</td>\n",
       "    </tr>\n",
       "    <tr>\n",
       "      <th>M</th>\n",
       "      <td>143063.8</td>\n",
       "      <td>296561.9</td>\n",
       "      <td>1.072935</td>\n",
       "    </tr>\n",
       "  </tbody>\n",
       "</table>\n",
       "</div>"
      ],
      "text/plain": [
       "공급연도      2019       2020        증감률\n",
       "분류                                  \n",
       "A     356379.4  1448912.0   3.065645\n",
       "B      20564.1      120.0  -0.994165\n",
       "E      27600.5    25506.2  -0.075879\n",
       "F      19498.5   113960.6   4.844583\n",
       "G       1039.0    25810.2  23.841386\n",
       "H          0.0    52900.4        inf\n",
       "K      88588.6   105500.9   0.190908\n",
       "L          0.0   107632.8        inf\n",
       "M     143063.8   296561.9   1.072935"
      ]
     },
     "execution_count": 277,
     "metadata": {},
     "output_type": "execute_result"
    }
   ],
   "source": [
    "# 분류와 공급 연도에 따른 매출액 확인\n",
    "# 이때 unstack 함수를 통해 첫번째 레벨의 인덱스를 컬럼으로 사용\n",
    "df3_rate=df3.groupby(['분류','공급연도'])['매출액'].sum().unstack(1)\n",
    "# 증감률 계산\n",
    "df3_rate['증감률']=(df3_rate[2020]-df3_rate[2019])/df3_rate[2019]\n",
    "df3_rate"
   ]
  },
  {
   "cell_type": "markdown",
   "id": "5c8c718f-64f5-4469-a262-9f22d1147f5f",
   "metadata": {},
   "source": [
    "## 14. \n",
    "Pandas의 quantile함수를 활용해서, '매출액'이 상위 75%이상인 데이터를 A / 미만인 데\n",
    "이터를 B로 선언하여, '판매구분'이라는 변수로 선언\n"
   ]
  },
  {
   "cell_type": "code",
   "execution_count": 279,
   "id": "91059fa8-ff1d-427b-ac8b-ebb6f85446e8",
   "metadata": {},
   "outputs": [
    {
     "name": "stdout",
     "output_type": "stream",
     "text": [
      "* 판매구분 기준(매출액 상위 75%): 492.42499999999995 *\n"
     ]
    },
    {
     "data": {
      "text/html": [
       "<div>\n",
       "<style scoped>\n",
       "    .dataframe tbody tr th:only-of-type {\n",
       "        vertical-align: middle;\n",
       "    }\n",
       "\n",
       "    .dataframe tbody tr th {\n",
       "        vertical-align: top;\n",
       "    }\n",
       "\n",
       "    .dataframe thead th {\n",
       "        text-align: right;\n",
       "    }\n",
       "</style>\n",
       "<table border=\"1\" class=\"dataframe\">\n",
       "  <thead>\n",
       "    <tr style=\"text-align: right;\">\n",
       "      <th></th>\n",
       "      <th>구분</th>\n",
       "      <th>카테고리명</th>\n",
       "      <th>자재그룹</th>\n",
       "      <th>자재그룹명</th>\n",
       "      <th>제품명</th>\n",
       "      <th>단위</th>\n",
       "      <th>판매</th>\n",
       "      <th>안전재고</th>\n",
       "      <th>분류</th>\n",
       "      <th>공급일자</th>\n",
       "      <th>매출액</th>\n",
       "      <th>공급연도</th>\n",
       "      <th>판매구분</th>\n",
       "    </tr>\n",
       "  </thead>\n",
       "  <tbody>\n",
       "    <tr>\n",
       "      <th>0</th>\n",
       "      <td>구분</td>\n",
       "      <td>CHB</td>\n",
       "      <td>1687</td>\n",
       "      <td>친환경 바디워시</td>\n",
       "      <td>A</td>\n",
       "      <td>천원</td>\n",
       "      <td>0.0</td>\n",
       "      <td>0.0</td>\n",
       "      <td>E</td>\n",
       "      <td>2019-12-01</td>\n",
       "      <td>0.0</td>\n",
       "      <td>2019</td>\n",
       "      <td>B</td>\n",
       "    </tr>\n",
       "    <tr>\n",
       "      <th>1</th>\n",
       "      <td>구분</td>\n",
       "      <td>CHB</td>\n",
       "      <td>1687</td>\n",
       "      <td>친환경 바디워시</td>\n",
       "      <td>B</td>\n",
       "      <td>천원</td>\n",
       "      <td>0.0</td>\n",
       "      <td>0.0</td>\n",
       "      <td>E</td>\n",
       "      <td>2019-12-01</td>\n",
       "      <td>0.0</td>\n",
       "      <td>2019</td>\n",
       "      <td>B</td>\n",
       "    </tr>\n",
       "    <tr>\n",
       "      <th>2</th>\n",
       "      <td>구분</td>\n",
       "      <td>CHB</td>\n",
       "      <td>1687</td>\n",
       "      <td>친환경 바디워시</td>\n",
       "      <td>C</td>\n",
       "      <td>천원</td>\n",
       "      <td>10354.1</td>\n",
       "      <td>0.0</td>\n",
       "      <td>A</td>\n",
       "      <td>2019-12-01</td>\n",
       "      <td>9474.3</td>\n",
       "      <td>2019</td>\n",
       "      <td>A</td>\n",
       "    </tr>\n",
       "    <tr>\n",
       "      <th>3</th>\n",
       "      <td>구분</td>\n",
       "      <td>CHB</td>\n",
       "      <td>1687</td>\n",
       "      <td>친환경 바디워시</td>\n",
       "      <td>D</td>\n",
       "      <td>천원</td>\n",
       "      <td>3543.3</td>\n",
       "      <td>0.0</td>\n",
       "      <td>A</td>\n",
       "      <td>2019-12-01</td>\n",
       "      <td>7702.6</td>\n",
       "      <td>2019</td>\n",
       "      <td>A</td>\n",
       "    </tr>\n",
       "    <tr>\n",
       "      <th>4</th>\n",
       "      <td>구분</td>\n",
       "      <td>CHB</td>\n",
       "      <td>1687</td>\n",
       "      <td>친환경 바디워시</td>\n",
       "      <td>E</td>\n",
       "      <td>천원</td>\n",
       "      <td>234603.9</td>\n",
       "      <td>39593.3</td>\n",
       "      <td>A</td>\n",
       "      <td>2019-12-01</td>\n",
       "      <td>56309.6</td>\n",
       "      <td>2019</td>\n",
       "      <td>A</td>\n",
       "    </tr>\n",
       "  </tbody>\n",
       "</table>\n",
       "</div>"
      ],
      "text/plain": [
       "   구분 카테고리명  자재그룹     자재그룹명 제품명  단위        판매     안전재고 분류       공급일자      매출액  \\\n",
       "0  구분   CHB  1687  친환경 바디워시   A  천원       0.0      0.0  E 2019-12-01      0.0   \n",
       "1  구분   CHB  1687  친환경 바디워시   B  천원       0.0      0.0  E 2019-12-01      0.0   \n",
       "2  구분   CHB  1687  친환경 바디워시   C  천원   10354.1      0.0  A 2019-12-01   9474.3   \n",
       "3  구분   CHB  1687  친환경 바디워시   D  천원    3543.3      0.0  A 2019-12-01   7702.6   \n",
       "4  구분   CHB  1687  친환경 바디워시   E  천원  234603.9  39593.3  A 2019-12-01  56309.6   \n",
       "\n",
       "   공급연도 판매구분  \n",
       "0  2019    B  \n",
       "1  2019    B  \n",
       "2  2019    A  \n",
       "3  2019    A  \n",
       "4  2019    A  "
      ]
     },
     "execution_count": 279,
     "metadata": {},
     "output_type": "execute_result"
    }
   ],
   "source": [
    "# 매출액 상위 75% 를 기준으로 판매구분 변수 설정\n",
    "stand=df3['매출액'].quantile(q=0.75)\n",
    "print('* 판매구분 기준(매출액 상위 75%):', stand , '*' )\n",
    "# 기준 이상인 데이터를 A, 미만인 데이터를 B로 선언\n",
    "df3['판매구분'] = df3['매출액'].apply(lambda x: 'A' if x >= stand else 'B')\n",
    "df3.head()"
   ]
  },
  {
   "cell_type": "markdown",
   "id": "902819e3-c5f4-4af1-ba53-9d55b418708d",
   "metadata": {},
   "source": [
    "## 15. \n",
    "'판매구분'에 따른 '매출액'의 '평균'/'표준편차'를 계산 하시오."
   ]
  },
  {
   "cell_type": "code",
   "execution_count": 280,
   "id": "edf197e9-955b-4648-8b7b-80cff3796964",
   "metadata": {},
   "outputs": [
    {
     "data": {
      "text/html": [
       "<div>\n",
       "<style scoped>\n",
       "    .dataframe tbody tr th:only-of-type {\n",
       "        vertical-align: middle;\n",
       "    }\n",
       "\n",
       "    .dataframe tbody tr th {\n",
       "        vertical-align: top;\n",
       "    }\n",
       "\n",
       "    .dataframe thead th {\n",
       "        text-align: right;\n",
       "    }\n",
       "</style>\n",
       "<table border=\"1\" class=\"dataframe\">\n",
       "  <thead>\n",
       "    <tr style=\"text-align: right;\">\n",
       "      <th></th>\n",
       "      <th>mean</th>\n",
       "      <th>std</th>\n",
       "    </tr>\n",
       "    <tr>\n",
       "      <th>판매구분</th>\n",
       "      <th></th>\n",
       "      <th></th>\n",
       "    </tr>\n",
       "  </thead>\n",
       "  <tbody>\n",
       "    <tr>\n",
       "      <th>A</th>\n",
       "      <td>17652.750625</td>\n",
       "      <td>17799.249363</td>\n",
       "    </tr>\n",
       "    <tr>\n",
       "      <th>B</th>\n",
       "      <td>19.164167</td>\n",
       "      <td>67.216824</td>\n",
       "    </tr>\n",
       "  </tbody>\n",
       "</table>\n",
       "</div>"
      ],
      "text/plain": [
       "              mean           std\n",
       "판매구분                            \n",
       "A     17652.750625  17799.249363\n",
       "B        19.164167     67.216824"
      ]
     },
     "execution_count": 280,
     "metadata": {},
     "output_type": "execute_result"
    }
   ],
   "source": [
    "df3.groupby('판매구분')['매출액'].agg(['mean','std'])"
   ]
  }
 ],
 "metadata": {
  "kernelspec": {
   "display_name": "Python 3 (ipykernel)",
   "language": "python",
   "name": "python3"
  },
  "language_info": {
   "codemirror_mode": {
    "name": "ipython",
    "version": 3
   },
   "file_extension": ".py",
   "mimetype": "text/x-python",
   "name": "python",
   "nbconvert_exporter": "python",
   "pygments_lexer": "ipython3",
   "version": "3.12.5"
  }
 },
 "nbformat": 4,
 "nbformat_minor": 5
}
